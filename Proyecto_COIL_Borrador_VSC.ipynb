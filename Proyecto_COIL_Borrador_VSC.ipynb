{
  "cells": [
    {
      "cell_type": "markdown",
      "metadata": {
        "id": "CzV7duOLfD11"
      },
      "source": [
        "# **Proyecto COIL**"
      ]
    },
    {
      "cell_type": "markdown",
      "metadata": {
        "id": "C2vOd-bsfLNm"
      },
      "source": [
        "# **🟩 0. Configuración Inicial y Librerías**"
      ]
    },
    {
      "cell_type": "code",
      "execution_count": 1,
      "metadata": {
        "colab": {
          "base_uri": "https://localhost:8080/"
        },
        "id": "C0azGe_Rf3o2",
        "outputId": "dc1c6b55-7ff7-43b4-dc6b-2cca2ce0692e"
      },
      "outputs": [
        {
          "name": "stderr",
          "output_type": "stream",
          "text": [
            "\n",
            "[notice] A new release of pip is available: 25.0.1 -> 25.1.1\n",
            "[notice] To update, run: python.exe -m pip install --upgrade pip\n"
          ]
        },
        {
          "name": "stdout",
          "output_type": "stream",
          "text": [
            "Defaulting to user installation because normal site-packages is not writeable\n",
            "Collecting gdown\n",
            "  Downloading gdown-5.2.0-py3-none-any.whl.metadata (5.8 kB)\n",
            "Collecting beautifulsoup4 (from gdown)\n",
            "  Downloading beautifulsoup4-4.13.4-py3-none-any.whl.metadata (3.8 kB)\n",
            "Collecting filelock (from gdown)\n",
            "  Downloading filelock-3.18.0-py3-none-any.whl.metadata (2.9 kB)\n",
            "Collecting requests[socks] (from gdown)\n",
            "  Downloading requests-2.32.3-py3-none-any.whl.metadata (4.6 kB)\n",
            "Collecting tqdm (from gdown)\n",
            "  Downloading tqdm-4.67.1-py3-none-any.whl.metadata (57 kB)\n",
            "Collecting soupsieve>1.2 (from beautifulsoup4->gdown)\n",
            "  Downloading soupsieve-2.7-py3-none-any.whl.metadata (4.6 kB)\n",
            "Collecting typing-extensions>=4.0.0 (from beautifulsoup4->gdown)\n",
            "  Downloading typing_extensions-4.13.2-py3-none-any.whl.metadata (3.0 kB)\n",
            "Collecting charset-normalizer<4,>=2 (from requests[socks]->gdown)\n",
            "  Downloading charset_normalizer-3.4.2-cp313-cp313-win_amd64.whl.metadata (36 kB)\n",
            "Collecting idna<4,>=2.5 (from requests[socks]->gdown)\n",
            "  Downloading idna-3.10-py3-none-any.whl.metadata (10 kB)\n",
            "Collecting urllib3<3,>=1.21.1 (from requests[socks]->gdown)\n",
            "  Downloading urllib3-2.4.0-py3-none-any.whl.metadata (6.5 kB)\n",
            "Collecting certifi>=2017.4.17 (from requests[socks]->gdown)\n",
            "  Downloading certifi-2025.4.26-py3-none-any.whl.metadata (2.5 kB)\n",
            "Collecting PySocks!=1.5.7,>=1.5.6 (from requests[socks]->gdown)\n",
            "  Downloading PySocks-1.7.1-py3-none-any.whl.metadata (13 kB)\n",
            "Requirement already satisfied: colorama in c:\\users\\sault\\appdata\\roaming\\python\\python313\\site-packages (from tqdm->gdown) (0.4.6)\n",
            "Downloading gdown-5.2.0-py3-none-any.whl (18 kB)\n",
            "Downloading beautifulsoup4-4.13.4-py3-none-any.whl (187 kB)\n",
            "Downloading filelock-3.18.0-py3-none-any.whl (16 kB)\n",
            "Downloading tqdm-4.67.1-py3-none-any.whl (78 kB)\n",
            "Downloading certifi-2025.4.26-py3-none-any.whl (159 kB)\n",
            "Downloading charset_normalizer-3.4.2-cp313-cp313-win_amd64.whl (105 kB)\n",
            "Downloading idna-3.10-py3-none-any.whl (70 kB)\n",
            "Downloading PySocks-1.7.1-py3-none-any.whl (16 kB)\n",
            "Downloading soupsieve-2.7-py3-none-any.whl (36 kB)\n",
            "Downloading typing_extensions-4.13.2-py3-none-any.whl (45 kB)\n",
            "Downloading urllib3-2.4.0-py3-none-any.whl (128 kB)\n",
            "Downloading requests-2.32.3-py3-none-any.whl (64 kB)\n",
            "Installing collected packages: urllib3, typing-extensions, tqdm, soupsieve, PySocks, idna, filelock, charset-normalizer, certifi, requests, beautifulsoup4, gdown\n",
            "Successfully installed PySocks-1.7.1 beautifulsoup4-4.13.4 certifi-2025.4.26 charset-normalizer-3.4.2 filelock-3.18.0 gdown-5.2.0 idna-3.10 requests-2.32.3 soupsieve-2.7 tqdm-4.67.1 typing-extensions-4.13.2 urllib3-2.4.0\n"
          ]
        }
      ],
      "source": [
        "# Instalamos gdown para descargar la data desde Google Drive\n",
        "!pip install -U gdown\n",
        "\n",
        "# Descarga de datos\n",
        "import gdown\n",
        "\n",
        "# Procesamiento de datos\n",
        "import pandas as pd\n",
        "import numpy as np\n",
        "\n",
        "# Visualización\n",
        "import matplotlib.pyplot as plt\n",
        "import seaborn as sns"
      ]
    },
    {
      "cell_type": "markdown",
      "metadata": {
        "id": "wfQq3JUigLUN"
      },
      "source": [
        "# **1. 📂 Carga del Dataset desde Google Drive**"
      ]
    },
    {
      "cell_type": "code",
      "execution_count": 2,
      "metadata": {
        "colab": {
          "base_uri": "https://localhost:8080/",
          "height": 105
        },
        "id": "Wevk2D-1gOYR",
        "outputId": "69d65c0d-0ce5-408a-dacf-29a6d8a2e5c7"
      },
      "outputs": [
        {
          "name": "stderr",
          "output_type": "stream",
          "text": [
            "Downloading...\n",
            "From: https://drive.google.com/uc?id=1FCk6-DpQiPhA3E8-Gtd52503R4lyqaba\n",
            "To: c:\\Users\\sault\\OneDrive - Pontificia Universidad Católica del Ecuador\\Documents\\Desktop\\ProyectoDiabetes\\diabetes_data.csv\n",
            "100%|██████████| 5.71M/5.71M [00:00<00:00, 11.7MB/s]\n"
          ]
        },
        {
          "data": {
            "text/plain": [
              "'diabetes_data.csv'"
            ]
          },
          "execution_count": 2,
          "metadata": {},
          "output_type": "execute_result"
        }
      ],
      "source": [
        "# ID del archivo en Google Drive\n",
        "file_id = \"1FCk6-DpQiPhA3E8-Gtd52503R4lyqaba\"\n",
        "\n",
        "# URL de descarga directa\n",
        "gdown.download(f\"https://drive.google.com/uc?id={file_id}\", \"diabetes_data.csv\", quiet=False)\n",
        "\n"
      ]
    },
    {
      "cell_type": "markdown",
      "metadata": {
        "id": "EDs_jMxygnWX"
      },
      "source": [
        "## ***1.3 Cargar el CSV en un DataFrame***\n"
      ]
    },
    {
      "cell_type": "code",
      "execution_count": 3,
      "metadata": {
        "colab": {
          "base_uri": "https://localhost:8080/",
          "height": 287
        },
        "id": "rwvnMrCrgzo7",
        "outputId": "10d2b7ff-65f8-4729-ec3d-65985bdfa946"
      },
      "outputs": [
        {
          "data": {
            "text/html": [
              "<div>\n",
              "<style scoped>\n",
              "    .dataframe tbody tr th:only-of-type {\n",
              "        vertical-align: middle;\n",
              "    }\n",
              "\n",
              "    .dataframe tbody tr th {\n",
              "        vertical-align: top;\n",
              "    }\n",
              "\n",
              "    .dataframe thead th {\n",
              "        text-align: right;\n",
              "    }\n",
              "</style>\n",
              "<table border=\"1\" class=\"dataframe\">\n",
              "  <thead>\n",
              "    <tr style=\"text-align: right;\">\n",
              "      <th></th>\n",
              "      <th>Diabetes_binary</th>\n",
              "      <th>HighBP</th>\n",
              "      <th>HighChol</th>\n",
              "      <th>CholCheck</th>\n",
              "      <th>BMI</th>\n",
              "      <th>Smoker</th>\n",
              "      <th>Stroke</th>\n",
              "      <th>HeartDiseaseorAttack</th>\n",
              "      <th>PhysActivity</th>\n",
              "      <th>Fruits</th>\n",
              "      <th>...</th>\n",
              "      <th>AnyHealthcare</th>\n",
              "      <th>NoDocbcCost</th>\n",
              "      <th>GenHlth</th>\n",
              "      <th>MentHlth</th>\n",
              "      <th>PhysHlth</th>\n",
              "      <th>DiffWalk</th>\n",
              "      <th>Sex</th>\n",
              "      <th>Age</th>\n",
              "      <th>Education</th>\n",
              "      <th>Income</th>\n",
              "    </tr>\n",
              "  </thead>\n",
              "  <tbody>\n",
              "    <tr>\n",
              "      <th>0</th>\n",
              "      <td>1.0</td>\n",
              "      <td>0.0</td>\n",
              "      <td>1.0</td>\n",
              "      <td>1.0</td>\n",
              "      <td>23.0</td>\n",
              "      <td>1.0</td>\n",
              "      <td>0.0</td>\n",
              "      <td>0.0</td>\n",
              "      <td>1.0</td>\n",
              "      <td>0.0</td>\n",
              "      <td>...</td>\n",
              "      <td>1.0</td>\n",
              "      <td>0.0</td>\n",
              "      <td>4.0</td>\n",
              "      <td>0.0</td>\n",
              "      <td>0.0</td>\n",
              "      <td>0.0</td>\n",
              "      <td>0.0</td>\n",
              "      <td>10.0</td>\n",
              "      <td>4.0</td>\n",
              "      <td>5.0</td>\n",
              "    </tr>\n",
              "    <tr>\n",
              "      <th>1</th>\n",
              "      <td>0.0</td>\n",
              "      <td>0.0</td>\n",
              "      <td>0.0</td>\n",
              "      <td>1.0</td>\n",
              "      <td>33.0</td>\n",
              "      <td>1.0</td>\n",
              "      <td>0.0</td>\n",
              "      <td>0.0</td>\n",
              "      <td>0.0</td>\n",
              "      <td>1.0</td>\n",
              "      <td>...</td>\n",
              "      <td>1.0</td>\n",
              "      <td>0.0</td>\n",
              "      <td>3.0</td>\n",
              "      <td>0.0</td>\n",
              "      <td>3.0</td>\n",
              "      <td>1.0</td>\n",
              "      <td>0.0</td>\n",
              "      <td>13.0</td>\n",
              "      <td>5.0</td>\n",
              "      <td>4.0</td>\n",
              "    </tr>\n",
              "    <tr>\n",
              "      <th>2</th>\n",
              "      <td>0.0</td>\n",
              "      <td>1.0</td>\n",
              "      <td>1.0</td>\n",
              "      <td>1.0</td>\n",
              "      <td>27.0</td>\n",
              "      <td>1.0</td>\n",
              "      <td>0.0</td>\n",
              "      <td>0.0</td>\n",
              "      <td>1.0</td>\n",
              "      <td>1.0</td>\n",
              "      <td>...</td>\n",
              "      <td>1.0</td>\n",
              "      <td>0.0</td>\n",
              "      <td>2.0</td>\n",
              "      <td>0.0</td>\n",
              "      <td>5.0</td>\n",
              "      <td>0.0</td>\n",
              "      <td>1.0</td>\n",
              "      <td>8.0</td>\n",
              "      <td>6.0</td>\n",
              "      <td>6.0</td>\n",
              "    </tr>\n",
              "    <tr>\n",
              "      <th>3</th>\n",
              "      <td>0.0</td>\n",
              "      <td>0.0</td>\n",
              "      <td>1.0</td>\n",
              "      <td>1.0</td>\n",
              "      <td>29.0</td>\n",
              "      <td>1.0</td>\n",
              "      <td>0.0</td>\n",
              "      <td>0.0</td>\n",
              "      <td>0.0</td>\n",
              "      <td>1.0</td>\n",
              "      <td>...</td>\n",
              "      <td>1.0</td>\n",
              "      <td>0.0</td>\n",
              "      <td>3.0</td>\n",
              "      <td>0.0</td>\n",
              "      <td>5.0</td>\n",
              "      <td>0.0</td>\n",
              "      <td>1.0</td>\n",
              "      <td>7.0</td>\n",
              "      <td>5.0</td>\n",
              "      <td>8.0</td>\n",
              "    </tr>\n",
              "    <tr>\n",
              "      <th>4</th>\n",
              "      <td>1.0</td>\n",
              "      <td>1.0</td>\n",
              "      <td>0.0</td>\n",
              "      <td>1.0</td>\n",
              "      <td>47.0</td>\n",
              "      <td>0.0</td>\n",
              "      <td>0.0</td>\n",
              "      <td>0.0</td>\n",
              "      <td>1.0</td>\n",
              "      <td>1.0</td>\n",
              "      <td>...</td>\n",
              "      <td>1.0</td>\n",
              "      <td>0.0</td>\n",
              "      <td>4.0</td>\n",
              "      <td>30.0</td>\n",
              "      <td>10.0</td>\n",
              "      <td>1.0</td>\n",
              "      <td>1.0</td>\n",
              "      <td>6.0</td>\n",
              "      <td>6.0</td>\n",
              "      <td>3.0</td>\n",
              "    </tr>\n",
              "    <tr>\n",
              "      <th>5</th>\n",
              "      <td>0.0</td>\n",
              "      <td>1.0</td>\n",
              "      <td>1.0</td>\n",
              "      <td>1.0</td>\n",
              "      <td>21.0</td>\n",
              "      <td>0.0</td>\n",
              "      <td>0.0</td>\n",
              "      <td>0.0</td>\n",
              "      <td>0.0</td>\n",
              "      <td>1.0</td>\n",
              "      <td>...</td>\n",
              "      <td>1.0</td>\n",
              "      <td>0.0</td>\n",
              "      <td>4.0</td>\n",
              "      <td>30.0</td>\n",
              "      <td>30.0</td>\n",
              "      <td>0.0</td>\n",
              "      <td>0.0</td>\n",
              "      <td>6.0</td>\n",
              "      <td>6.0</td>\n",
              "      <td>4.0</td>\n",
              "    </tr>\n",
              "  </tbody>\n",
              "</table>\n",
              "<p>6 rows × 22 columns</p>\n",
              "</div>"
            ],
            "text/plain": [
              "   Diabetes_binary  HighBP  HighChol  CholCheck   BMI  Smoker  Stroke  \\\n",
              "0              1.0     0.0       1.0        1.0  23.0     1.0     0.0   \n",
              "1              0.0     0.0       0.0        1.0  33.0     1.0     0.0   \n",
              "2              0.0     1.0       1.0        1.0  27.0     1.0     0.0   \n",
              "3              0.0     0.0       1.0        1.0  29.0     1.0     0.0   \n",
              "4              1.0     1.0       0.0        1.0  47.0     0.0     0.0   \n",
              "5              0.0     1.0       1.0        1.0  21.0     0.0     0.0   \n",
              "\n",
              "   HeartDiseaseorAttack  PhysActivity  Fruits  ...  AnyHealthcare  \\\n",
              "0                   0.0           1.0     0.0  ...            1.0   \n",
              "1                   0.0           0.0     1.0  ...            1.0   \n",
              "2                   0.0           1.0     1.0  ...            1.0   \n",
              "3                   0.0           0.0     1.0  ...            1.0   \n",
              "4                   0.0           1.0     1.0  ...            1.0   \n",
              "5                   0.0           0.0     1.0  ...            1.0   \n",
              "\n",
              "   NoDocbcCost  GenHlth  MentHlth  PhysHlth  DiffWalk  Sex   Age  Education  \\\n",
              "0          0.0      4.0       0.0       0.0       0.0  0.0  10.0        4.0   \n",
              "1          0.0      3.0       0.0       3.0       1.0  0.0  13.0        5.0   \n",
              "2          0.0      2.0       0.0       5.0       0.0  1.0   8.0        6.0   \n",
              "3          0.0      3.0       0.0       5.0       0.0  1.0   7.0        5.0   \n",
              "4          0.0      4.0      30.0      10.0       1.0  1.0   6.0        6.0   \n",
              "5          0.0      4.0      30.0      30.0       0.0  0.0   6.0        6.0   \n",
              "\n",
              "   Income  \n",
              "0     5.0  \n",
              "1     4.0  \n",
              "2     6.0  \n",
              "3     8.0  \n",
              "4     3.0  \n",
              "5     4.0  \n",
              "\n",
              "[6 rows x 22 columns]"
            ]
          },
          "execution_count": 3,
          "metadata": {},
          "output_type": "execute_result"
        }
      ],
      "source": [
        "# Leer el CSV ya descargado\n",
        "df = pd.read_csv(\"diabetes_data.csv\")\n",
        "\n",
        "# Verificar las primeras filas\n",
        "df.head(6)\n"
      ]
    },
    {
      "cell_type": "code",
      "execution_count": null,
      "metadata": {
        "colab": {
          "base_uri": "https://localhost:8080/",
          "height": 350
        },
        "id": "a11fU7-aikrq",
        "outputId": "507f4320-cc5f-4fce-eb3f-780ab9f79421"
      },
      "outputs": [
        {
          "data": {
            "application/vnd.google.colaboratory.intrinsic+json": {
              "type": "dataframe",
              "variable_name": "df"
            },
            "text/html": [
              "\n",
              "  <div id=\"df-a1da86bc-cdea-4079-859c-8aadedd5fd70\" class=\"colab-df-container\">\n",
              "    <div>\n",
              "<style scoped>\n",
              "    .dataframe tbody tr th:only-of-type {\n",
              "        vertical-align: middle;\n",
              "    }\n",
              "\n",
              "    .dataframe tbody tr th {\n",
              "        vertical-align: top;\n",
              "    }\n",
              "\n",
              "    .dataframe thead th {\n",
              "        text-align: right;\n",
              "    }\n",
              "</style>\n",
              "<table border=\"1\" class=\"dataframe\">\n",
              "  <thead>\n",
              "    <tr style=\"text-align: right;\">\n",
              "      <th></th>\n",
              "      <th>Diabetes_binary</th>\n",
              "      <th>HighBP</th>\n",
              "      <th>HighChol</th>\n",
              "      <th>CholCheck</th>\n",
              "      <th>BMI</th>\n",
              "      <th>Smoker</th>\n",
              "      <th>Stroke</th>\n",
              "      <th>HeartDiseaseorAttack</th>\n",
              "      <th>PhysActivity</th>\n",
              "      <th>Fruits</th>\n",
              "      <th>...</th>\n",
              "      <th>AnyHealthcare</th>\n",
              "      <th>NoDocbcCost</th>\n",
              "      <th>GenHlth</th>\n",
              "      <th>MentHlth</th>\n",
              "      <th>PhysHlth</th>\n",
              "      <th>DiffWalk</th>\n",
              "      <th>Sex</th>\n",
              "      <th>Age</th>\n",
              "      <th>Education</th>\n",
              "      <th>Income</th>\n",
              "    </tr>\n",
              "  </thead>\n",
              "  <tbody>\n",
              "    <tr>\n",
              "      <th>0</th>\n",
              "      <td>1.0</td>\n",
              "      <td>0.0</td>\n",
              "      <td>1.0</td>\n",
              "      <td>1.0</td>\n",
              "      <td>23.0</td>\n",
              "      <td>1.0</td>\n",
              "      <td>0.0</td>\n",
              "      <td>0.0</td>\n",
              "      <td>1.0</td>\n",
              "      <td>0.0</td>\n",
              "      <td>...</td>\n",
              "      <td>1.0</td>\n",
              "      <td>0.0</td>\n",
              "      <td>4.0</td>\n",
              "      <td>0.0</td>\n",
              "      <td>0.0</td>\n",
              "      <td>0.0</td>\n",
              "      <td>0.0</td>\n",
              "      <td>10.0</td>\n",
              "      <td>4.0</td>\n",
              "      <td>5.0</td>\n",
              "    </tr>\n",
              "    <tr>\n",
              "      <th>1</th>\n",
              "      <td>0.0</td>\n",
              "      <td>0.0</td>\n",
              "      <td>0.0</td>\n",
              "      <td>1.0</td>\n",
              "      <td>33.0</td>\n",
              "      <td>1.0</td>\n",
              "      <td>0.0</td>\n",
              "      <td>0.0</td>\n",
              "      <td>0.0</td>\n",
              "      <td>1.0</td>\n",
              "      <td>...</td>\n",
              "      <td>1.0</td>\n",
              "      <td>0.0</td>\n",
              "      <td>3.0</td>\n",
              "      <td>0.0</td>\n",
              "      <td>3.0</td>\n",
              "      <td>1.0</td>\n",
              "      <td>0.0</td>\n",
              "      <td>13.0</td>\n",
              "      <td>5.0</td>\n",
              "      <td>4.0</td>\n",
              "    </tr>\n",
              "    <tr>\n",
              "      <th>2</th>\n",
              "      <td>0.0</td>\n",
              "      <td>1.0</td>\n",
              "      <td>1.0</td>\n",
              "      <td>1.0</td>\n",
              "      <td>27.0</td>\n",
              "      <td>1.0</td>\n",
              "      <td>0.0</td>\n",
              "      <td>0.0</td>\n",
              "      <td>1.0</td>\n",
              "      <td>1.0</td>\n",
              "      <td>...</td>\n",
              "      <td>1.0</td>\n",
              "      <td>0.0</td>\n",
              "      <td>2.0</td>\n",
              "      <td>0.0</td>\n",
              "      <td>5.0</td>\n",
              "      <td>0.0</td>\n",
              "      <td>1.0</td>\n",
              "      <td>8.0</td>\n",
              "      <td>6.0</td>\n",
              "      <td>6.0</td>\n",
              "    </tr>\n",
              "    <tr>\n",
              "      <th>3</th>\n",
              "      <td>0.0</td>\n",
              "      <td>0.0</td>\n",
              "      <td>1.0</td>\n",
              "      <td>1.0</td>\n",
              "      <td>29.0</td>\n",
              "      <td>1.0</td>\n",
              "      <td>0.0</td>\n",
              "      <td>0.0</td>\n",
              "      <td>0.0</td>\n",
              "      <td>1.0</td>\n",
              "      <td>...</td>\n",
              "      <td>1.0</td>\n",
              "      <td>0.0</td>\n",
              "      <td>3.0</td>\n",
              "      <td>0.0</td>\n",
              "      <td>5.0</td>\n",
              "      <td>0.0</td>\n",
              "      <td>1.0</td>\n",
              "      <td>7.0</td>\n",
              "      <td>5.0</td>\n",
              "      <td>8.0</td>\n",
              "    </tr>\n",
              "    <tr>\n",
              "      <th>4</th>\n",
              "      <td>1.0</td>\n",
              "      <td>1.0</td>\n",
              "      <td>0.0</td>\n",
              "      <td>1.0</td>\n",
              "      <td>47.0</td>\n",
              "      <td>0.0</td>\n",
              "      <td>0.0</td>\n",
              "      <td>0.0</td>\n",
              "      <td>1.0</td>\n",
              "      <td>1.0</td>\n",
              "      <td>...</td>\n",
              "      <td>1.0</td>\n",
              "      <td>0.0</td>\n",
              "      <td>4.0</td>\n",
              "      <td>30.0</td>\n",
              "      <td>10.0</td>\n",
              "      <td>1.0</td>\n",
              "      <td>1.0</td>\n",
              "      <td>6.0</td>\n",
              "      <td>6.0</td>\n",
              "      <td>3.0</td>\n",
              "    </tr>\n",
              "    <tr>\n",
              "      <th>5</th>\n",
              "      <td>0.0</td>\n",
              "      <td>1.0</td>\n",
              "      <td>1.0</td>\n",
              "      <td>1.0</td>\n",
              "      <td>21.0</td>\n",
              "      <td>0.0</td>\n",
              "      <td>0.0</td>\n",
              "      <td>0.0</td>\n",
              "      <td>0.0</td>\n",
              "      <td>1.0</td>\n",
              "      <td>...</td>\n",
              "      <td>1.0</td>\n",
              "      <td>0.0</td>\n",
              "      <td>4.0</td>\n",
              "      <td>30.0</td>\n",
              "      <td>30.0</td>\n",
              "      <td>0.0</td>\n",
              "      <td>0.0</td>\n",
              "      <td>6.0</td>\n",
              "      <td>6.0</td>\n",
              "      <td>4.0</td>\n",
              "    </tr>\n",
              "    <tr>\n",
              "      <th>6</th>\n",
              "      <td>1.0</td>\n",
              "      <td>1.0</td>\n",
              "      <td>0.0</td>\n",
              "      <td>1.0</td>\n",
              "      <td>28.0</td>\n",
              "      <td>0.0</td>\n",
              "      <td>0.0</td>\n",
              "      <td>0.0</td>\n",
              "      <td>0.0</td>\n",
              "      <td>1.0</td>\n",
              "      <td>...</td>\n",
              "      <td>1.0</td>\n",
              "      <td>0.0</td>\n",
              "      <td>4.0</td>\n",
              "      <td>0.0</td>\n",
              "      <td>0.0</td>\n",
              "      <td>1.0</td>\n",
              "      <td>0.0</td>\n",
              "      <td>11.0</td>\n",
              "      <td>4.0</td>\n",
              "      <td>2.0</td>\n",
              "    </tr>\n",
              "    <tr>\n",
              "      <th>7</th>\n",
              "      <td>1.0</td>\n",
              "      <td>1.0</td>\n",
              "      <td>1.0</td>\n",
              "      <td>1.0</td>\n",
              "      <td>33.0</td>\n",
              "      <td>1.0</td>\n",
              "      <td>0.0</td>\n",
              "      <td>0.0</td>\n",
              "      <td>1.0</td>\n",
              "      <td>1.0</td>\n",
              "      <td>...</td>\n",
              "      <td>1.0</td>\n",
              "      <td>0.0</td>\n",
              "      <td>4.0</td>\n",
              "      <td>5.0</td>\n",
              "      <td>15.0</td>\n",
              "      <td>1.0</td>\n",
              "      <td>0.0</td>\n",
              "      <td>13.0</td>\n",
              "      <td>4.0</td>\n",
              "      <td>5.0</td>\n",
              "    </tr>\n",
              "  </tbody>\n",
              "</table>\n",
              "<p>8 rows × 22 columns</p>\n",
              "</div>\n",
              "    <div class=\"colab-df-buttons\">\n",
              "\n",
              "  <div class=\"colab-df-container\">\n",
              "    <button class=\"colab-df-convert\" onclick=\"convertToInteractive('df-a1da86bc-cdea-4079-859c-8aadedd5fd70')\"\n",
              "            title=\"Convert this dataframe to an interactive table.\"\n",
              "            style=\"display:none;\">\n",
              "\n",
              "  <svg xmlns=\"http://www.w3.org/2000/svg\" height=\"24px\" viewBox=\"0 -960 960 960\">\n",
              "    <path d=\"M120-120v-720h720v720H120Zm60-500h600v-160H180v160Zm220 220h160v-160H400v160Zm0 220h160v-160H400v160ZM180-400h160v-160H180v160Zm440 0h160v-160H620v160ZM180-180h160v-160H180v160Zm440 0h160v-160H620v160Z\"/>\n",
              "  </svg>\n",
              "    </button>\n",
              "\n",
              "  <style>\n",
              "    .colab-df-container {\n",
              "      display:flex;\n",
              "      gap: 12px;\n",
              "    }\n",
              "\n",
              "    .colab-df-convert {\n",
              "      background-color: #E8F0FE;\n",
              "      border: none;\n",
              "      border-radius: 50%;\n",
              "      cursor: pointer;\n",
              "      display: none;\n",
              "      fill: #1967D2;\n",
              "      height: 32px;\n",
              "      padding: 0 0 0 0;\n",
              "      width: 32px;\n",
              "    }\n",
              "\n",
              "    .colab-df-convert:hover {\n",
              "      background-color: #E2EBFA;\n",
              "      box-shadow: 0px 1px 2px rgba(60, 64, 67, 0.3), 0px 1px 3px 1px rgba(60, 64, 67, 0.15);\n",
              "      fill: #174EA6;\n",
              "    }\n",
              "\n",
              "    .colab-df-buttons div {\n",
              "      margin-bottom: 4px;\n",
              "    }\n",
              "\n",
              "    [theme=dark] .colab-df-convert {\n",
              "      background-color: #3B4455;\n",
              "      fill: #D2E3FC;\n",
              "    }\n",
              "\n",
              "    [theme=dark] .colab-df-convert:hover {\n",
              "      background-color: #434B5C;\n",
              "      box-shadow: 0px 1px 3px 1px rgba(0, 0, 0, 0.15);\n",
              "      filter: drop-shadow(0px 1px 2px rgba(0, 0, 0, 0.3));\n",
              "      fill: #FFFFFF;\n",
              "    }\n",
              "  </style>\n",
              "\n",
              "    <script>\n",
              "      const buttonEl =\n",
              "        document.querySelector('#df-a1da86bc-cdea-4079-859c-8aadedd5fd70 button.colab-df-convert');\n",
              "      buttonEl.style.display =\n",
              "        google.colab.kernel.accessAllowed ? 'block' : 'none';\n",
              "\n",
              "      async function convertToInteractive(key) {\n",
              "        const element = document.querySelector('#df-a1da86bc-cdea-4079-859c-8aadedd5fd70');\n",
              "        const dataTable =\n",
              "          await google.colab.kernel.invokeFunction('convertToInteractive',\n",
              "                                                    [key], {});\n",
              "        if (!dataTable) return;\n",
              "\n",
              "        const docLinkHtml = 'Like what you see? Visit the ' +\n",
              "          '<a target=\"_blank\" href=https://colab.research.google.com/notebooks/data_table.ipynb>data table notebook</a>'\n",
              "          + ' to learn more about interactive tables.';\n",
              "        element.innerHTML = '';\n",
              "        dataTable['output_type'] = 'display_data';\n",
              "        await google.colab.output.renderOutput(dataTable, element);\n",
              "        const docLink = document.createElement('div');\n",
              "        docLink.innerHTML = docLinkHtml;\n",
              "        element.appendChild(docLink);\n",
              "      }\n",
              "    </script>\n",
              "  </div>\n",
              "\n",
              "\n",
              "    <div id=\"df-0119119e-fe65-42d7-b24b-7d9980963115\">\n",
              "      <button class=\"colab-df-quickchart\" onclick=\"quickchart('df-0119119e-fe65-42d7-b24b-7d9980963115')\"\n",
              "                title=\"Suggest charts\"\n",
              "                style=\"display:none;\">\n",
              "\n",
              "<svg xmlns=\"http://www.w3.org/2000/svg\" height=\"24px\"viewBox=\"0 0 24 24\"\n",
              "     width=\"24px\">\n",
              "    <g>\n",
              "        <path d=\"M19 3H5c-1.1 0-2 .9-2 2v14c0 1.1.9 2 2 2h14c1.1 0 2-.9 2-2V5c0-1.1-.9-2-2-2zM9 17H7v-7h2v7zm4 0h-2V7h2v10zm4 0h-2v-4h2v4z\"/>\n",
              "    </g>\n",
              "</svg>\n",
              "      </button>\n",
              "\n",
              "<style>\n",
              "  .colab-df-quickchart {\n",
              "      --bg-color: #E8F0FE;\n",
              "      --fill-color: #1967D2;\n",
              "      --hover-bg-color: #E2EBFA;\n",
              "      --hover-fill-color: #174EA6;\n",
              "      --disabled-fill-color: #AAA;\n",
              "      --disabled-bg-color: #DDD;\n",
              "  }\n",
              "\n",
              "  [theme=dark] .colab-df-quickchart {\n",
              "      --bg-color: #3B4455;\n",
              "      --fill-color: #D2E3FC;\n",
              "      --hover-bg-color: #434B5C;\n",
              "      --hover-fill-color: #FFFFFF;\n",
              "      --disabled-bg-color: #3B4455;\n",
              "      --disabled-fill-color: #666;\n",
              "  }\n",
              "\n",
              "  .colab-df-quickchart {\n",
              "    background-color: var(--bg-color);\n",
              "    border: none;\n",
              "    border-radius: 50%;\n",
              "    cursor: pointer;\n",
              "    display: none;\n",
              "    fill: var(--fill-color);\n",
              "    height: 32px;\n",
              "    padding: 0;\n",
              "    width: 32px;\n",
              "  }\n",
              "\n",
              "  .colab-df-quickchart:hover {\n",
              "    background-color: var(--hover-bg-color);\n",
              "    box-shadow: 0 1px 2px rgba(60, 64, 67, 0.3), 0 1px 3px 1px rgba(60, 64, 67, 0.15);\n",
              "    fill: var(--button-hover-fill-color);\n",
              "  }\n",
              "\n",
              "  .colab-df-quickchart-complete:disabled,\n",
              "  .colab-df-quickchart-complete:disabled:hover {\n",
              "    background-color: var(--disabled-bg-color);\n",
              "    fill: var(--disabled-fill-color);\n",
              "    box-shadow: none;\n",
              "  }\n",
              "\n",
              "  .colab-df-spinner {\n",
              "    border: 2px solid var(--fill-color);\n",
              "    border-color: transparent;\n",
              "    border-bottom-color: var(--fill-color);\n",
              "    animation:\n",
              "      spin 1s steps(1) infinite;\n",
              "  }\n",
              "\n",
              "  @keyframes spin {\n",
              "    0% {\n",
              "      border-color: transparent;\n",
              "      border-bottom-color: var(--fill-color);\n",
              "      border-left-color: var(--fill-color);\n",
              "    }\n",
              "    20% {\n",
              "      border-color: transparent;\n",
              "      border-left-color: var(--fill-color);\n",
              "      border-top-color: var(--fill-color);\n",
              "    }\n",
              "    30% {\n",
              "      border-color: transparent;\n",
              "      border-left-color: var(--fill-color);\n",
              "      border-top-color: var(--fill-color);\n",
              "      border-right-color: var(--fill-color);\n",
              "    }\n",
              "    40% {\n",
              "      border-color: transparent;\n",
              "      border-right-color: var(--fill-color);\n",
              "      border-top-color: var(--fill-color);\n",
              "    }\n",
              "    60% {\n",
              "      border-color: transparent;\n",
              "      border-right-color: var(--fill-color);\n",
              "    }\n",
              "    80% {\n",
              "      border-color: transparent;\n",
              "      border-right-color: var(--fill-color);\n",
              "      border-bottom-color: var(--fill-color);\n",
              "    }\n",
              "    90% {\n",
              "      border-color: transparent;\n",
              "      border-bottom-color: var(--fill-color);\n",
              "    }\n",
              "  }\n",
              "</style>\n",
              "\n",
              "      <script>\n",
              "        async function quickchart(key) {\n",
              "          const quickchartButtonEl =\n",
              "            document.querySelector('#' + key + ' button');\n",
              "          quickchartButtonEl.disabled = true;  // To prevent multiple clicks.\n",
              "          quickchartButtonEl.classList.add('colab-df-spinner');\n",
              "          try {\n",
              "            const charts = await google.colab.kernel.invokeFunction(\n",
              "                'suggestCharts', [key], {});\n",
              "          } catch (error) {\n",
              "            console.error('Error during call to suggestCharts:', error);\n",
              "          }\n",
              "          quickchartButtonEl.classList.remove('colab-df-spinner');\n",
              "          quickchartButtonEl.classList.add('colab-df-quickchart-complete');\n",
              "        }\n",
              "        (() => {\n",
              "          let quickchartButtonEl =\n",
              "            document.querySelector('#df-0119119e-fe65-42d7-b24b-7d9980963115 button');\n",
              "          quickchartButtonEl.style.display =\n",
              "            google.colab.kernel.accessAllowed ? 'block' : 'none';\n",
              "        })();\n",
              "      </script>\n",
              "    </div>\n",
              "\n",
              "    </div>\n",
              "  </div>\n"
            ],
            "text/plain": [
              "   Diabetes_binary  HighBP  HighChol  CholCheck   BMI  Smoker  Stroke  \\\n",
              "0              1.0     0.0       1.0        1.0  23.0     1.0     0.0   \n",
              "1              0.0     0.0       0.0        1.0  33.0     1.0     0.0   \n",
              "2              0.0     1.0       1.0        1.0  27.0     1.0     0.0   \n",
              "3              0.0     0.0       1.0        1.0  29.0     1.0     0.0   \n",
              "4              1.0     1.0       0.0        1.0  47.0     0.0     0.0   \n",
              "5              0.0     1.0       1.0        1.0  21.0     0.0     0.0   \n",
              "6              1.0     1.0       0.0        1.0  28.0     0.0     0.0   \n",
              "7              1.0     1.0       1.0        1.0  33.0     1.0     0.0   \n",
              "\n",
              "   HeartDiseaseorAttack  PhysActivity  Fruits  ...  AnyHealthcare  \\\n",
              "0                   0.0           1.0     0.0  ...            1.0   \n",
              "1                   0.0           0.0     1.0  ...            1.0   \n",
              "2                   0.0           1.0     1.0  ...            1.0   \n",
              "3                   0.0           0.0     1.0  ...            1.0   \n",
              "4                   0.0           1.0     1.0  ...            1.0   \n",
              "5                   0.0           0.0     1.0  ...            1.0   \n",
              "6                   0.0           0.0     1.0  ...            1.0   \n",
              "7                   0.0           1.0     1.0  ...            1.0   \n",
              "\n",
              "   NoDocbcCost  GenHlth  MentHlth  PhysHlth  DiffWalk  Sex   Age  Education  \\\n",
              "0          0.0      4.0       0.0       0.0       0.0  0.0  10.0        4.0   \n",
              "1          0.0      3.0       0.0       3.0       1.0  0.0  13.0        5.0   \n",
              "2          0.0      2.0       0.0       5.0       0.0  1.0   8.0        6.0   \n",
              "3          0.0      3.0       0.0       5.0       0.0  1.0   7.0        5.0   \n",
              "4          0.0      4.0      30.0      10.0       1.0  1.0   6.0        6.0   \n",
              "5          0.0      4.0      30.0      30.0       0.0  0.0   6.0        6.0   \n",
              "6          0.0      4.0       0.0       0.0       1.0  0.0  11.0        4.0   \n",
              "7          0.0      4.0       5.0      15.0       1.0  0.0  13.0        4.0   \n",
              "\n",
              "   Income  \n",
              "0     5.0  \n",
              "1     4.0  \n",
              "2     6.0  \n",
              "3     8.0  \n",
              "4     3.0  \n",
              "5     4.0  \n",
              "6     2.0  \n",
              "7     5.0  \n",
              "\n",
              "[8 rows x 22 columns]"
            ]
          },
          "execution_count": 5,
          "metadata": {},
          "output_type": "execute_result"
        }
      ],
      "source": [
        "df.head(8)"
      ]
    },
    {
      "cell_type": "markdown",
      "metadata": {
        "id": "cB5tfoqfkz5E"
      },
      "source": [
        "# **🟦 2. Exploración Inicial de Datos**\n",
        "\n",
        "En esta sección obtendremos una visión global de nuestro DataFrame: tamaño, estructura, tipos de datos y estadísticas básicas."
      ]
    },
    {
      "cell_type": "markdown",
      "metadata": {
        "id": "oiepkO9Jk7jn"
      },
      "source": [
        "## *2.1 Dimensiones del dataset*"
      ]
    },
    {
      "cell_type": "code",
      "execution_count": null,
      "metadata": {
        "colab": {
          "base_uri": "https://localhost:8080/"
        },
        "id": "zxscu1-Dk-DU",
        "outputId": "1bd39fa2-7712-4443-99c5-c8b3221d6eeb"
      },
      "outputs": [
        {
          "name": "stdout",
          "output_type": "stream",
          "text": [
            "Filas: 63622\n",
            "Columnas: 22\n"
          ]
        }
      ],
      "source": [
        "# Número de filas y columnas\n",
        "n_filas, n_columnas = df.shape\n",
        "print(f\"Filas: {n_filas}\\nColumnas: {n_columnas}\")"
      ]
    },
    {
      "cell_type": "markdown",
      "metadata": {
        "id": "sng0_ptBlEvu"
      },
      "source": [
        "## *2.2 Información general y tipos de datos*"
      ]
    },
    {
      "cell_type": "code",
      "execution_count": null,
      "metadata": {
        "colab": {
          "base_uri": "https://localhost:8080/"
        },
        "id": "sxcTeKZ6lGaZ",
        "outputId": "064de193-149a-4aff-e53d-3f6aa7d5fe78"
      },
      "outputs": [
        {
          "name": "stdout",
          "output_type": "stream",
          "text": [
            "<class 'pandas.core.frame.DataFrame'>\n",
            "RangeIndex: 63622 entries, 0 to 63621\n",
            "Data columns (total 22 columns):\n",
            " #   Column                Non-Null Count  Dtype  \n",
            "---  ------                --------------  -----  \n",
            " 0   Diabetes_binary       63622 non-null  float64\n",
            " 1   HighBP                63622 non-null  float64\n",
            " 2   HighChol              63622 non-null  float64\n",
            " 3   CholCheck             63622 non-null  float64\n",
            " 4   BMI                   63622 non-null  float64\n",
            " 5   Smoker                63622 non-null  float64\n",
            " 6   Stroke                63622 non-null  float64\n",
            " 7   HeartDiseaseorAttack  63622 non-null  float64\n",
            " 8   PhysActivity          63622 non-null  float64\n",
            " 9   Fruits                63622 non-null  float64\n",
            " 10  Veggies               63622 non-null  float64\n",
            " 11  HvyAlcoholConsump     63622 non-null  float64\n",
            " 12  AnyHealthcare         63622 non-null  float64\n",
            " 13  NoDocbcCost           63622 non-null  float64\n",
            " 14  GenHlth               63622 non-null  float64\n",
            " 15  MentHlth              63622 non-null  float64\n",
            " 16  PhysHlth              63622 non-null  float64\n",
            " 17  DiffWalk              63622 non-null  float64\n",
            " 18  Sex                   63622 non-null  float64\n",
            " 19  Age                   63622 non-null  float64\n",
            " 20  Education             63622 non-null  float64\n",
            " 21  Income                63622 non-null  float64\n",
            "dtypes: float64(22)\n",
            "memory usage: 10.7 MB\n"
          ]
        }
      ],
      "source": [
        "# Tipos de datos y recuento de valores no nulos por columna\n",
        "df.info()"
      ]
    },
    {
      "cell_type": "markdown",
      "metadata": {
        "id": "pDtlpsO9nz91"
      },
      "source": [
        "# **🟦 3. Validación y Corrección de Tipos de Datos**\n",
        "\n",
        "En esta sección revisaremos los dtypes del DataFrame, identificaremos columnas mal tipadas por ejemplo floats que deberían ser `int`, `bool` o `str`, aplicaremos conversiones precisas con `astype()` garantizando que no se generen NaNs ni se pierdan registros, y documentaremos técnica y brevemente cada transformación indicando columna, tipo original y tipo resultante."
      ]
    },
    {
      "cell_type": "markdown",
      "metadata": {
        "id": "KUu3xfMMORXc"
      },
      "source": [
        "## *3.1 Copia de seguridad*"
      ]
    },
    {
      "cell_type": "code",
      "execution_count": null,
      "metadata": {
        "id": "oacFRzDAtK7g"
      },
      "outputs": [],
      "source": [
        "# Guardamos el DataFrame original para poder revertir cambios si es necesario\n",
        "df_backup = df.copy()"
      ]
    },
    {
      "cell_type": "markdown",
      "metadata": {
        "id": "O2XCGzlqOjhv"
      },
      "source": [
        "## *3.2 Clasificación de variables por naturaleza*\n",
        "\n",
        "- binárias: indicadores 0/1\n",
        "- discretas: conteos de días (0–30)\n",
        "- continua: índice de masa corporal (valores reales)\n",
        "- ordinales: escalas ordenadas (calidad de salud, edad, educación, ingreso)"
      ]
    },
    {
      "cell_type": "code",
      "execution_count": null,
      "metadata": {
        "id": "mpgqloVmOq3O"
      },
      "outputs": [],
      "source": [
        "binarias  = [\n",
        "    'Diabetes_binary','HighBP','HighChol','CholCheck','Smoker','Stroke',\n",
        "    'HeartDiseaseorAttack','PhysActivity','Fruits','Veggies',\n",
        "    'HvyAlcoholConsump','AnyHealthcare','NoDocbcCost','DiffWalk','Sex'\n",
        "]\n",
        "discretas = ['MentHlth','PhysHlth']\n",
        "continuas = ['BMI']\n",
        "ordinales = ['GenHlth','Age','Education','Income']"
      ]
    },
    {
      "cell_type": "markdown",
      "metadata": {
        "id": "qbp5D2mqPJGq"
      },
      "source": [
        "## *3.3 Conversión de tipos*"
      ]
    },
    {
      "cell_type": "code",
      "execution_count": null,
      "metadata": {
        "id": "6ZLBgSZaO9bZ"
      },
      "outputs": [],
      "source": [
        "# Binarias → int8\n",
        "df[binarias] = df[binarias].astype('bool')\n",
        "\n",
        "# Discretas → int16\n",
        "df[discretas] = df[discretas].astype('int16')\n",
        "\n",
        "# Continua → float32\n",
        "df['BMI'] = df['BMI'].astype('float32')\n",
        "\n",
        "# Ordinales → categorías ordenadas\n",
        "from pandas.api.types import CategoricalDtype\n",
        "\n",
        "df['GenHlth']   = df['GenHlth'].astype(CategoricalDtype(categories=[1,2,3,4,5], ordered=True))\n",
        "df['Age']       = df['Age'].astype(CategoricalDtype(categories=list(range(1,14)), ordered=True))\n",
        "df['Education'] = df['Education'].astype(CategoricalDtype(categories=[1,2,3,4,5,6], ordered=True))\n",
        "df['Income']    = df['Income'].astype(CategoricalDtype(categories=list(range(1,9)), ordered=True))"
      ]
    },
    {
      "cell_type": "markdown",
      "metadata": {
        "id": "JyCDChJTQWqQ"
      },
      "source": [
        "## *3.4 Inspección final de tipos*\n",
        "\n",
        "Revisamos que cada columna tenga el dtype deseado"
      ]
    },
    {
      "cell_type": "code",
      "execution_count": null,
      "metadata": {
        "colab": {
          "base_uri": "https://localhost:8080/"
        },
        "id": "I99gwNDyQgIG",
        "outputId": "fe4517d0-db1a-4279-dce2-58a6c58d3439"
      },
      "outputs": [
        {
          "name": "stdout",
          "output_type": "stream",
          "text": [
            "<class 'pandas.core.frame.DataFrame'>\n",
            "RangeIndex: 63622 entries, 0 to 63621\n",
            "Data columns (total 22 columns):\n",
            " #   Column                Non-Null Count  Dtype   \n",
            "---  ------                --------------  -----   \n",
            " 0   Diabetes_binary       63622 non-null  bool    \n",
            " 1   HighBP                63622 non-null  bool    \n",
            " 2   HighChol              63622 non-null  bool    \n",
            " 3   CholCheck             63622 non-null  bool    \n",
            " 4   BMI                   63622 non-null  float32 \n",
            " 5   Smoker                63622 non-null  bool    \n",
            " 6   Stroke                63622 non-null  bool    \n",
            " 7   HeartDiseaseorAttack  63622 non-null  bool    \n",
            " 8   PhysActivity          63622 non-null  bool    \n",
            " 9   Fruits                63622 non-null  bool    \n",
            " 10  Veggies               63622 non-null  bool    \n",
            " 11  HvyAlcoholConsump     63622 non-null  bool    \n",
            " 12  AnyHealthcare         63622 non-null  bool    \n",
            " 13  NoDocbcCost           63622 non-null  bool    \n",
            " 14  GenHlth               63622 non-null  category\n",
            " 15  MentHlth              63622 non-null  int16   \n",
            " 16  PhysHlth              63622 non-null  int16   \n",
            " 17  DiffWalk              63622 non-null  bool    \n",
            " 18  Sex                   63622 non-null  bool    \n",
            " 19  Age                   63622 non-null  category\n",
            " 20  Education             63622 non-null  category\n",
            " 21  Income                63622 non-null  category\n",
            "dtypes: bool(15), category(4), float32(1), int16(2)\n",
            "memory usage: 1.6 MB\n"
          ]
        }
      ],
      "source": [
        "df.info()"
      ]
    },
    {
      "cell_type": "markdown",
      "metadata": {
        "id": "AqCRDW2iSLV4"
      },
      "source": [
        "## ***Observación***\n",
        "\n",
        "Al tipar cada variable según su naturaleza, el DataFrame pasó de 10.7 MB a 1.6 MB sin perder filas ni generar valores nulos. Con ello, el conjunto queda más eficiente y coherente, listo para las siguientes etapas."
      ]
    },
    {
      "cell_type": "markdown",
      "metadata": {
        "id": "0nTu9DPHpcxy"
      },
      "source": [
        "# **⚠️ 4. Análisis de Valores Faltantes**\n",
        "\n",
        "En esta sección identificaremos y cuantificaremos las observaciones ausentes en cada columna (`df.isnull().sum()`), evaluaremos el impacto de estos vacíos en el análisis y documentaremos las decisiones de remplazo o eliminación que se aplicarán posteriormente, indicando el método elegido (media, mediana, moda, etc.) y su justificación."
      ]
    },
    {
      "cell_type": "markdown",
      "metadata": {
        "id": "VigCp3TBUSUQ"
      },
      "source": [
        "## *4.1 Conteo y porcentaje de nulos*"
      ]
    },
    {
      "cell_type": "code",
      "execution_count": null,
      "metadata": {
        "colab": {
          "base_uri": "https://localhost:8080/",
          "height": 739
        },
        "id": "hrr6BCEjtLWA",
        "outputId": "5e90141e-ec75-46c1-eb7f-3567d1f6820a"
      },
      "outputs": [
        {
          "data": {
            "application/vnd.google.colaboratory.intrinsic+json": {
              "summary": "{\n  \"name\": \"})\",\n  \"rows\": 22,\n  \"fields\": [\n    {\n      \"column\": \"Nulos\",\n      \"properties\": {\n        \"dtype\": \"number\",\n        \"std\": 0,\n        \"min\": 0,\n        \"max\": 0,\n        \"num_unique_values\": 1,\n        \"samples\": [\n          0\n        ],\n        \"semantic_type\": \"\",\n        \"description\": \"\"\n      }\n    },\n    {\n      \"column\": \"% Total\",\n      \"properties\": {\n        \"dtype\": \"number\",\n        \"std\": 0.0,\n        \"min\": 0.0,\n        \"max\": 0.0,\n        \"num_unique_values\": 1,\n        \"samples\": [\n          0.0\n        ],\n        \"semantic_type\": \"\",\n        \"description\": \"\"\n      }\n    }\n  ]\n}",
              "type": "dataframe"
            },
            "text/html": [
              "\n",
              "  <div id=\"df-ed660199-0be6-432e-955f-ca4f3aaa3d5c\" class=\"colab-df-container\">\n",
              "    <div>\n",
              "<style scoped>\n",
              "    .dataframe tbody tr th:only-of-type {\n",
              "        vertical-align: middle;\n",
              "    }\n",
              "\n",
              "    .dataframe tbody tr th {\n",
              "        vertical-align: top;\n",
              "    }\n",
              "\n",
              "    .dataframe thead th {\n",
              "        text-align: right;\n",
              "    }\n",
              "</style>\n",
              "<table border=\"1\" class=\"dataframe\">\n",
              "  <thead>\n",
              "    <tr style=\"text-align: right;\">\n",
              "      <th></th>\n",
              "      <th>Nulos</th>\n",
              "      <th>% Total</th>\n",
              "    </tr>\n",
              "  </thead>\n",
              "  <tbody>\n",
              "    <tr>\n",
              "      <th>Diabetes_binary</th>\n",
              "      <td>0</td>\n",
              "      <td>0.0</td>\n",
              "    </tr>\n",
              "    <tr>\n",
              "      <th>HighBP</th>\n",
              "      <td>0</td>\n",
              "      <td>0.0</td>\n",
              "    </tr>\n",
              "    <tr>\n",
              "      <th>HighChol</th>\n",
              "      <td>0</td>\n",
              "      <td>0.0</td>\n",
              "    </tr>\n",
              "    <tr>\n",
              "      <th>CholCheck</th>\n",
              "      <td>0</td>\n",
              "      <td>0.0</td>\n",
              "    </tr>\n",
              "    <tr>\n",
              "      <th>BMI</th>\n",
              "      <td>0</td>\n",
              "      <td>0.0</td>\n",
              "    </tr>\n",
              "    <tr>\n",
              "      <th>Smoker</th>\n",
              "      <td>0</td>\n",
              "      <td>0.0</td>\n",
              "    </tr>\n",
              "    <tr>\n",
              "      <th>Stroke</th>\n",
              "      <td>0</td>\n",
              "      <td>0.0</td>\n",
              "    </tr>\n",
              "    <tr>\n",
              "      <th>HeartDiseaseorAttack</th>\n",
              "      <td>0</td>\n",
              "      <td>0.0</td>\n",
              "    </tr>\n",
              "    <tr>\n",
              "      <th>PhysActivity</th>\n",
              "      <td>0</td>\n",
              "      <td>0.0</td>\n",
              "    </tr>\n",
              "    <tr>\n",
              "      <th>Fruits</th>\n",
              "      <td>0</td>\n",
              "      <td>0.0</td>\n",
              "    </tr>\n",
              "    <tr>\n",
              "      <th>Veggies</th>\n",
              "      <td>0</td>\n",
              "      <td>0.0</td>\n",
              "    </tr>\n",
              "    <tr>\n",
              "      <th>HvyAlcoholConsump</th>\n",
              "      <td>0</td>\n",
              "      <td>0.0</td>\n",
              "    </tr>\n",
              "    <tr>\n",
              "      <th>AnyHealthcare</th>\n",
              "      <td>0</td>\n",
              "      <td>0.0</td>\n",
              "    </tr>\n",
              "    <tr>\n",
              "      <th>NoDocbcCost</th>\n",
              "      <td>0</td>\n",
              "      <td>0.0</td>\n",
              "    </tr>\n",
              "    <tr>\n",
              "      <th>GenHlth</th>\n",
              "      <td>0</td>\n",
              "      <td>0.0</td>\n",
              "    </tr>\n",
              "    <tr>\n",
              "      <th>MentHlth</th>\n",
              "      <td>0</td>\n",
              "      <td>0.0</td>\n",
              "    </tr>\n",
              "    <tr>\n",
              "      <th>PhysHlth</th>\n",
              "      <td>0</td>\n",
              "      <td>0.0</td>\n",
              "    </tr>\n",
              "    <tr>\n",
              "      <th>DiffWalk</th>\n",
              "      <td>0</td>\n",
              "      <td>0.0</td>\n",
              "    </tr>\n",
              "    <tr>\n",
              "      <th>Sex</th>\n",
              "      <td>0</td>\n",
              "      <td>0.0</td>\n",
              "    </tr>\n",
              "    <tr>\n",
              "      <th>Age</th>\n",
              "      <td>0</td>\n",
              "      <td>0.0</td>\n",
              "    </tr>\n",
              "    <tr>\n",
              "      <th>Education</th>\n",
              "      <td>0</td>\n",
              "      <td>0.0</td>\n",
              "    </tr>\n",
              "    <tr>\n",
              "      <th>Income</th>\n",
              "      <td>0</td>\n",
              "      <td>0.0</td>\n",
              "    </tr>\n",
              "  </tbody>\n",
              "</table>\n",
              "</div>\n",
              "    <div class=\"colab-df-buttons\">\n",
              "\n",
              "  <div class=\"colab-df-container\">\n",
              "    <button class=\"colab-df-convert\" onclick=\"convertToInteractive('df-ed660199-0be6-432e-955f-ca4f3aaa3d5c')\"\n",
              "            title=\"Convert this dataframe to an interactive table.\"\n",
              "            style=\"display:none;\">\n",
              "\n",
              "  <svg xmlns=\"http://www.w3.org/2000/svg\" height=\"24px\" viewBox=\"0 -960 960 960\">\n",
              "    <path d=\"M120-120v-720h720v720H120Zm60-500h600v-160H180v160Zm220 220h160v-160H400v160Zm0 220h160v-160H400v160ZM180-400h160v-160H180v160Zm440 0h160v-160H620v160ZM180-180h160v-160H180v160Zm440 0h160v-160H620v160Z\"/>\n",
              "  </svg>\n",
              "    </button>\n",
              "\n",
              "  <style>\n",
              "    .colab-df-container {\n",
              "      display:flex;\n",
              "      gap: 12px;\n",
              "    }\n",
              "\n",
              "    .colab-df-convert {\n",
              "      background-color: #E8F0FE;\n",
              "      border: none;\n",
              "      border-radius: 50%;\n",
              "      cursor: pointer;\n",
              "      display: none;\n",
              "      fill: #1967D2;\n",
              "      height: 32px;\n",
              "      padding: 0 0 0 0;\n",
              "      width: 32px;\n",
              "    }\n",
              "\n",
              "    .colab-df-convert:hover {\n",
              "      background-color: #E2EBFA;\n",
              "      box-shadow: 0px 1px 2px rgba(60, 64, 67, 0.3), 0px 1px 3px 1px rgba(60, 64, 67, 0.15);\n",
              "      fill: #174EA6;\n",
              "    }\n",
              "\n",
              "    .colab-df-buttons div {\n",
              "      margin-bottom: 4px;\n",
              "    }\n",
              "\n",
              "    [theme=dark] .colab-df-convert {\n",
              "      background-color: #3B4455;\n",
              "      fill: #D2E3FC;\n",
              "    }\n",
              "\n",
              "    [theme=dark] .colab-df-convert:hover {\n",
              "      background-color: #434B5C;\n",
              "      box-shadow: 0px 1px 3px 1px rgba(0, 0, 0, 0.15);\n",
              "      filter: drop-shadow(0px 1px 2px rgba(0, 0, 0, 0.3));\n",
              "      fill: #FFFFFF;\n",
              "    }\n",
              "  </style>\n",
              "\n",
              "    <script>\n",
              "      const buttonEl =\n",
              "        document.querySelector('#df-ed660199-0be6-432e-955f-ca4f3aaa3d5c button.colab-df-convert');\n",
              "      buttonEl.style.display =\n",
              "        google.colab.kernel.accessAllowed ? 'block' : 'none';\n",
              "\n",
              "      async function convertToInteractive(key) {\n",
              "        const element = document.querySelector('#df-ed660199-0be6-432e-955f-ca4f3aaa3d5c');\n",
              "        const dataTable =\n",
              "          await google.colab.kernel.invokeFunction('convertToInteractive',\n",
              "                                                    [key], {});\n",
              "        if (!dataTable) return;\n",
              "\n",
              "        const docLinkHtml = 'Like what you see? Visit the ' +\n",
              "          '<a target=\"_blank\" href=https://colab.research.google.com/notebooks/data_table.ipynb>data table notebook</a>'\n",
              "          + ' to learn more about interactive tables.';\n",
              "        element.innerHTML = '';\n",
              "        dataTable['output_type'] = 'display_data';\n",
              "        await google.colab.output.renderOutput(dataTable, element);\n",
              "        const docLink = document.createElement('div');\n",
              "        docLink.innerHTML = docLinkHtml;\n",
              "        element.appendChild(docLink);\n",
              "      }\n",
              "    </script>\n",
              "  </div>\n",
              "\n",
              "\n",
              "    <div id=\"df-c6a549d6-f3cc-4078-ad56-85cb9565b148\">\n",
              "      <button class=\"colab-df-quickchart\" onclick=\"quickchart('df-c6a549d6-f3cc-4078-ad56-85cb9565b148')\"\n",
              "                title=\"Suggest charts\"\n",
              "                style=\"display:none;\">\n",
              "\n",
              "<svg xmlns=\"http://www.w3.org/2000/svg\" height=\"24px\"viewBox=\"0 0 24 24\"\n",
              "     width=\"24px\">\n",
              "    <g>\n",
              "        <path d=\"M19 3H5c-1.1 0-2 .9-2 2v14c0 1.1.9 2 2 2h14c1.1 0 2-.9 2-2V5c0-1.1-.9-2-2-2zM9 17H7v-7h2v7zm4 0h-2V7h2v10zm4 0h-2v-4h2v4z\"/>\n",
              "    </g>\n",
              "</svg>\n",
              "      </button>\n",
              "\n",
              "<style>\n",
              "  .colab-df-quickchart {\n",
              "      --bg-color: #E8F0FE;\n",
              "      --fill-color: #1967D2;\n",
              "      --hover-bg-color: #E2EBFA;\n",
              "      --hover-fill-color: #174EA6;\n",
              "      --disabled-fill-color: #AAA;\n",
              "      --disabled-bg-color: #DDD;\n",
              "  }\n",
              "\n",
              "  [theme=dark] .colab-df-quickchart {\n",
              "      --bg-color: #3B4455;\n",
              "      --fill-color: #D2E3FC;\n",
              "      --hover-bg-color: #434B5C;\n",
              "      --hover-fill-color: #FFFFFF;\n",
              "      --disabled-bg-color: #3B4455;\n",
              "      --disabled-fill-color: #666;\n",
              "  }\n",
              "\n",
              "  .colab-df-quickchart {\n",
              "    background-color: var(--bg-color);\n",
              "    border: none;\n",
              "    border-radius: 50%;\n",
              "    cursor: pointer;\n",
              "    display: none;\n",
              "    fill: var(--fill-color);\n",
              "    height: 32px;\n",
              "    padding: 0;\n",
              "    width: 32px;\n",
              "  }\n",
              "\n",
              "  .colab-df-quickchart:hover {\n",
              "    background-color: var(--hover-bg-color);\n",
              "    box-shadow: 0 1px 2px rgba(60, 64, 67, 0.3), 0 1px 3px 1px rgba(60, 64, 67, 0.15);\n",
              "    fill: var(--button-hover-fill-color);\n",
              "  }\n",
              "\n",
              "  .colab-df-quickchart-complete:disabled,\n",
              "  .colab-df-quickchart-complete:disabled:hover {\n",
              "    background-color: var(--disabled-bg-color);\n",
              "    fill: var(--disabled-fill-color);\n",
              "    box-shadow: none;\n",
              "  }\n",
              "\n",
              "  .colab-df-spinner {\n",
              "    border: 2px solid var(--fill-color);\n",
              "    border-color: transparent;\n",
              "    border-bottom-color: var(--fill-color);\n",
              "    animation:\n",
              "      spin 1s steps(1) infinite;\n",
              "  }\n",
              "\n",
              "  @keyframes spin {\n",
              "    0% {\n",
              "      border-color: transparent;\n",
              "      border-bottom-color: var(--fill-color);\n",
              "      border-left-color: var(--fill-color);\n",
              "    }\n",
              "    20% {\n",
              "      border-color: transparent;\n",
              "      border-left-color: var(--fill-color);\n",
              "      border-top-color: var(--fill-color);\n",
              "    }\n",
              "    30% {\n",
              "      border-color: transparent;\n",
              "      border-left-color: var(--fill-color);\n",
              "      border-top-color: var(--fill-color);\n",
              "      border-right-color: var(--fill-color);\n",
              "    }\n",
              "    40% {\n",
              "      border-color: transparent;\n",
              "      border-right-color: var(--fill-color);\n",
              "      border-top-color: var(--fill-color);\n",
              "    }\n",
              "    60% {\n",
              "      border-color: transparent;\n",
              "      border-right-color: var(--fill-color);\n",
              "    }\n",
              "    80% {\n",
              "      border-color: transparent;\n",
              "      border-right-color: var(--fill-color);\n",
              "      border-bottom-color: var(--fill-color);\n",
              "    }\n",
              "    90% {\n",
              "      border-color: transparent;\n",
              "      border-bottom-color: var(--fill-color);\n",
              "    }\n",
              "  }\n",
              "</style>\n",
              "\n",
              "      <script>\n",
              "        async function quickchart(key) {\n",
              "          const quickchartButtonEl =\n",
              "            document.querySelector('#' + key + ' button');\n",
              "          quickchartButtonEl.disabled = true;  // To prevent multiple clicks.\n",
              "          quickchartButtonEl.classList.add('colab-df-spinner');\n",
              "          try {\n",
              "            const charts = await google.colab.kernel.invokeFunction(\n",
              "                'suggestCharts', [key], {});\n",
              "          } catch (error) {\n",
              "            console.error('Error during call to suggestCharts:', error);\n",
              "          }\n",
              "          quickchartButtonEl.classList.remove('colab-df-spinner');\n",
              "          quickchartButtonEl.classList.add('colab-df-quickchart-complete');\n",
              "        }\n",
              "        (() => {\n",
              "          let quickchartButtonEl =\n",
              "            document.querySelector('#df-c6a549d6-f3cc-4078-ad56-85cb9565b148 button');\n",
              "          quickchartButtonEl.style.display =\n",
              "            google.colab.kernel.accessAllowed ? 'block' : 'none';\n",
              "        })();\n",
              "      </script>\n",
              "    </div>\n",
              "\n",
              "    </div>\n",
              "  </div>\n"
            ],
            "text/plain": [
              "                      Nulos  % Total\n",
              "Diabetes_binary           0      0.0\n",
              "HighBP                    0      0.0\n",
              "HighChol                  0      0.0\n",
              "CholCheck                 0      0.0\n",
              "BMI                       0      0.0\n",
              "Smoker                    0      0.0\n",
              "Stroke                    0      0.0\n",
              "HeartDiseaseorAttack      0      0.0\n",
              "PhysActivity              0      0.0\n",
              "Fruits                    0      0.0\n",
              "Veggies                   0      0.0\n",
              "HvyAlcoholConsump         0      0.0\n",
              "AnyHealthcare             0      0.0\n",
              "NoDocbcCost               0      0.0\n",
              "GenHlth                   0      0.0\n",
              "MentHlth                  0      0.0\n",
              "PhysHlth                  0      0.0\n",
              "DiffWalk                  0      0.0\n",
              "Sex                       0      0.0\n",
              "Age                       0      0.0\n",
              "Education                 0      0.0\n",
              "Income                    0      0.0"
            ]
          },
          "execution_count": 12,
          "metadata": {},
          "output_type": "execute_result"
        }
      ],
      "source": [
        "missing_counts = df.isnull().sum()\n",
        "missing_perc   = (missing_counts / len(df) * 100).round(2)\n",
        "\n",
        "pd.DataFrame({\n",
        "    'Nulos':   missing_counts,\n",
        "    '% Total': missing_perc\n",
        "}).sort_values('% Total', ascending=False)"
      ]
    },
    {
      "cell_type": "markdown",
      "metadata": {
        "id": "dqTTObhUW9-j"
      },
      "source": [
        "## ***Observación***\n",
        "\n",
        "Al revisar el conteo y la visualización, vemos que ninguna columna presenta valores ausentes. Esto confirma que nuestro dataset está íntegro y no requiere agregar ni eliminar registros, permitiéndonos avanzar sin obstáculos a las siguientes etapas de limpieza y análisis."
      ]
    },
    {
      "cell_type": "markdown",
      "metadata": {
        "id": "bb9Lnbg5qOiW"
      },
      "source": [
        "# **🔄 5. Tratamiento de Valores Faltantes**\n",
        "\n",
        "En esta sección agregaremos o eliminaremos los datos ausentes identificados en la etapa anterior, aplicando técnicas estadísticas adecuadas (media/mediana para variables numéricas; moda para variables categóricas), justificando cada elección y documentando el porcentaje de registros agregado o descartados para asegurar la calidad y coherencia del conjunto de datos."
      ]
    },
    {
      "cell_type": "markdown",
      "metadata": {
        "id": "3cBytm3_Xfqx"
      },
      "source": [
        "***El dataset no contiene valores ausentes en ninguna variable, por lo que no es necesario realizar agregaciones ni eliminación de registros en esta etapa.***"
      ]
    },
    {
      "cell_type": "markdown",
      "metadata": {
        "id": "8cBDkib7qk_J"
      },
      "source": [
        "# **📉 6. Análisis de Distribución y Detección de Outliers**\n",
        "\n",
        "En esta sección estudiaremos la forma de las variables numéricas (histogramas y boxplots), identificaremos puntos atípicos calculando el rango intercuartílico (IQR) y estableceremos criterios de tratamiento (eliminación, recorte o winsorización). Documentaremos el umbral utilizado, el porcentaje de datos afectado para garantizar la integridad del conjunto y verificamos con boxplots si no existen mas outliers."
      ]
    },
    {
      "cell_type": "markdown",
      "metadata": {
        "id": "-M1mj1vi1bQv"
      },
      "source": [
        "## *6.0 Copia de seguridad antes de la detección de outliers*"
      ]
    },
    {
      "cell_type": "code",
      "execution_count": null,
      "metadata": {
        "id": "-7I9l6d3tMEc"
      },
      "outputs": [],
      "source": [
        "df_backup_outliers = df.copy()"
      ]
    },
    {
      "cell_type": "markdown",
      "metadata": {
        "id": "NzdtW43B4CDx"
      },
      "source": [
        "## *6.1 Variables numéricas a evaluar*"
      ]
    },
    {
      "cell_type": "code",
      "execution_count": null,
      "metadata": {
        "id": "n1ZKG_fG4Exm"
      },
      "outputs": [],
      "source": [
        "num_vars = ['BMI', 'MentHlth', 'PhysHlth']"
      ]
    },
    {
      "cell_type": "markdown",
      "metadata": {
        "id": "Gm4e3zeL4Y0u"
      },
      "source": [
        "## *6.2 Mostrar distribución y caja de cada variable*"
      ]
    },
    {
      "cell_type": "code",
      "execution_count": null,
      "metadata": {
        "colab": {
          "base_uri": "https://localhost:8080/",
          "height": 1000
        },
        "id": "jcADJHrv4ty7",
        "outputId": "77adb4b8-af90-4c94-df66-4d62bfb68741"
      },
      "outputs": [
        {
          "data": {
            "image/png": "[encoded data removed]",
            "text/plain": [
              "<Figure size 1000x400 with 2 Axes>"
            ]
          },
          "metadata": {},
          "output_type": "display_data"
        },
        {
          "data": {
            "image/png": "[encoded data removed]",
            "text/plain": [
              "<Figure size 1000x400 with 2 Axes>"
            ]
          },
          "metadata": {},
          "output_type": "display_data"
        },
        {
          "data": {
            "image/png": "[encoded data removed]",
            "text/plain": [
              "<Figure size 1000x400 with 2 Axes>"
            ]
          },
          "metadata": {},
          "output_type": "display_data"
        }
      ],
      "source": [
        "for col in num_vars:\n",
        "    # Crear figura con dos subgráficos\n",
        "    fig, (ax1, ax2) = plt.subplots(1, 2, figsize=(10, 4))\n",
        "\n",
        "    # Histograma\n",
        "    ax1.hist(df[col], bins=30, edgecolor='k')  # frecuencia de valores\n",
        "    ax1.set_title(f\"Histograma de {col}\")\n",
        "\n",
        "    # Boxplot\n",
        "    ax2.boxplot(df[col], vert=False)           # puntos atípicos en caja\n",
        "    ax2.set_title(f\"Boxplot de {col}\")\n",
        "\n",
        "    plt.tight_layout()                         # ajustar espacios\n",
        "    plt.show()"
      ]
    },
    {
      "cell_type": "markdown",
      "metadata": {
        "id": "br_Hb9XF5K1y"
      },
      "source": [
        "## *6.3 Calcular límites IQR y contar outliers*"
      ]
    },
    {
      "cell_type": "code",
      "execution_count": null,
      "metadata": {
        "colab": {
          "base_uri": "https://localhost:8080/"
        },
        "id": "OFw6iuCR5PJ8",
        "outputId": "a995213d-1c0c-433f-c463-052bdad65e83"
      },
      "outputs": [
        {
          "name": "stdout",
          "output_type": "stream",
          "text": [
            "Variable | Límite inf | Límite sup | Outliers bajos | Outliers altos\n",
            "BMI       |      13.00 |      45.00 |              0 |           1955\n",
            "MentHlth  |      -3.00 |       5.00 |              0 |          10683\n",
            "PhysHlth  |      -9.00 |      15.00 |              0 |           9611\n"
          ]
        }
      ],
      "source": [
        "print(\"Variable | Límite inf | Límite sup | Outliers bajos | Outliers altos\")\n",
        "for col in num_vars:\n",
        "    Q1, Q3 = df[col].quantile([0.25, 0.75])     # primeros cuartiles\n",
        "    IQR    = Q3 - Q1                            # rango intercuartílico\n",
        "    lower  = Q1 - 1.5 * IQR                     # umbral inferior\n",
        "    upper  = Q3 + 1.5 * IQR                     # umbral superior\n",
        "    n_low  = (df[col] < lower).sum()            # cuántos por debajo\n",
        "    n_high = (df[col] > upper).sum()            # cuántos por encima\n",
        "\n",
        "    # Imprimir resumen de cada variable\n",
        "    print(f\"{col:9} | {lower:10.2f} | {upper:10.2f} | {n_low:14d} | {n_high:14d}\")"
      ]
    },
    {
      "cell_type": "markdown",
      "metadata": {
        "id": "_6icpYqVEENo"
      },
      "source": [
        "## *6.4 Tratamiento de outliers*\n",
        "\n",
        "**MentHlth y PhysHlth**  \n",
        "- Se mantienen íntegros, no se eliminan ni recortan, pues cada “outlier” refleja días reales de malestar que aportan señal crítica.  \n",
        "- *Posible opción adicional:* crear variables binarias para resaltar los casos de larga duración:\n",
        "  - `HighMentHlth = (MentHlth > 5)`\n",
        "  - `HighPhysHlth = (PhysHlth > 15)`\n",
        "\n",
        "**BMI**  \n",
        "- Winsorización al percentil 1–99 para atenuar el impacto de valores extremos como obesidades muy marcadas que pueden sesgar modelos lineales o basados en distancia.  \n",
        "- Así se conservan los casos de sobrepeso sin permitir que unos pocos valores muy altos distorsionen la escala ni las métricas de entrenamiento.\n",
        "\n"
      ]
    },
    {
      "cell_type": "markdown",
      "metadata": {
        "id": "iblXzDGVhKDF"
      },
      "source": [
        "### *6.4.1 Copia de seguridad antes de winsorizar BMI*"
      ]
    },
    {
      "cell_type": "code",
      "execution_count": null,
      "metadata": {
        "id": "vDnBUnswhJm8"
      },
      "outputs": [],
      "source": [
        "df_backup_winsor = df.copy()"
      ]
    },
    {
      "cell_type": "markdown",
      "metadata": {
        "id": "n8Tj3NwOhjr8"
      },
      "source": [
        "### *6.4.2 Calcular percentiles 1 y 99 de BMI*"
      ]
    },
    {
      "cell_type": "code",
      "execution_count": null,
      "metadata": {
        "id": "1ihdc5l5hmWK"
      },
      "outputs": [],
      "source": [
        "p1  = df['BMI'].quantile(0.01)\n",
        "p99 = df['BMI'].quantile(0.99)"
      ]
    },
    {
      "cell_type": "markdown",
      "metadata": {
        "id": "9PvcVnh4hrMc"
      },
      "source": [
        "### *6.4.3 Winsorización de BMI en el extremo superior*"
      ]
    },
    {
      "cell_type": "code",
      "execution_count": null,
      "metadata": {
        "id": "-0LKpXIpht7j"
      },
      "outputs": [],
      "source": [
        "df['BMI'] = df['BMI'].clip(lower=p1, upper=p99)"
      ]
    },
    {
      "cell_type": "markdown",
      "metadata": {
        "id": "w_A81SR3NBFF"
      },
      "source": [
        "### *6.4.4 Variables binarias para casos extremos de salud*"
      ]
    },
    {
      "cell_type": "code",
      "execution_count": null,
      "metadata": {
        "id": "caNv4IrMNCyW"
      },
      "outputs": [],
      "source": [
        "df['HighMentHlth'] = (df['MentHlth'] > 5).astype('int8')   # 1 si días mentales > 5, sino 0\n",
        "df['HighPhysHlth'] = (df['PhysHlth'] > 15).astype('int8')  # 1 si días físicos > 15, sino 0"
      ]
    },
    {
      "cell_type": "markdown",
      "metadata": {
        "id": "5NzvoEXCNQyA"
      },
      "source": [
        "*Verificar conteos*"
      ]
    },
    {
      "cell_type": "code",
      "execution_count": null,
      "metadata": {
        "colab": {
          "base_uri": "https://localhost:8080/"
        },
        "id": "TI6JMeSCNQPt",
        "outputId": "8232d54f-deba-41bf-b6ca-319706b8ae90"
      },
      "outputs": [
        {
          "name": "stdout",
          "output_type": "stream",
          "text": [
            "HighMentHlth\n",
            "0    52939\n",
            "1    10683\n",
            "Name: count, dtype: int64\n",
            "HighPhysHlth\n",
            "0    54011\n",
            "1     9611\n",
            "Name: count, dtype: int64\n"
          ]
        }
      ],
      "source": [
        "print(df['HighMentHlth'].value_counts())\n",
        "print(df['HighPhysHlth'].value_counts())"
      ]
    },
    {
      "cell_type": "markdown",
      "metadata": {
        "id": "0JQHxxNYh0ac"
      },
      "source": [
        "## *6.5 Verificar tamaño tras winsorización*"
      ]
    },
    {
      "cell_type": "code",
      "execution_count": null,
      "metadata": {
        "colab": {
          "base_uri": "https://localhost:8080/"
        },
        "id": "_sehapvvh4Tq",
        "outputId": "8e456a1b-91e9-4193-efda-9369415cd1bf"
      },
      "outputs": [
        {
          "name": "stdout",
          "output_type": "stream",
          "text": [
            "Filas antes de winsorizar BMI: 63622\n",
            "Filas después de winsorizar BMI: 63622\n",
            "Columnas: 24\n"
          ]
        }
      ],
      "source": [
        "print(\"Filas antes de winsorizar BMI:\", df_backup_winsor.shape[0])\n",
        "print(\"Filas después de winsorizar BMI:\", df.shape[0])\n",
        "print(\"Columnas:\", df.shape[1])"
      ]
    },
    {
      "cell_type": "markdown",
      "metadata": {
        "id": "BYxbjutsiDPC"
      },
      "source": [
        "## *6.6 Revisión de outliers en BMI tras winsorización*"
      ]
    },
    {
      "cell_type": "code",
      "execution_count": null,
      "metadata": {
        "colab": {
          "base_uri": "https://localhost:8080/",
          "height": 314
        },
        "id": "X_wH2nlCtMXE",
        "outputId": "089602f4-d9ab-4619-a283-f58b8262306d"
      },
      "outputs": [
        {
          "data": {
            "image/png": "[encoded data removed]",
            "text/plain": [
              "<Figure size 600x300 with 1 Axes>"
            ]
          },
          "metadata": {},
          "output_type": "display_data"
        }
      ],
      "source": [
        "plt.figure(figsize=(6,3))\n",
        "plt.boxplot(df['BMI'], vert=False)    # boxplot de BMI ajustado\n",
        "plt.title(\"Boxplot de BMI después de winsorización\")\n",
        "plt.show()"
      ]
    },
    {
      "cell_type": "markdown",
      "metadata": {
        "id": "ZIuuvsR6jDa_"
      },
      "source": [
        "## ***Observación***\n",
        "\n",
        "Después de la winsorización, el DataFrame mantiene sus 63 622 registros y el BMI queda acotado entre aproximadamente 18 kg/m² y 55 kg/m², eliminando la dispersión extrema más allá de 45 kg/m²; la caja IQR sigue centrada en 25–40 kg/m², lo que atenúa el impacto de valores muy altos sin perder la señal de sobrepeso y mejora la estabilidad del modelo."
      ]
    },
    {
      "cell_type": "markdown",
      "metadata": {
        "id": "MXZBOMvlr13o"
      },
      "source": [
        "# **📏 7. Normalización y Escalamiento de Variables Numéricas**\n",
        "\n",
        "En esta sección evaluaremos la dispersión de las variables numéricas y aplicaremos técnicas de escalado (MinMaxScaler para rango 0–1 y StandardScaler para media 0 y varianza 1), verificaremos mediante estadísticas descriptivas que la transformación no altere la forma de la distribución y documentaremos los parámetros de cada scaler para asegurar la convergencia y estabilidad de los algoritmos de aprendizaje."
      ]
    },
    {
      "cell_type": "code",
      "execution_count": null,
      "metadata": {
        "id": "0iXKKqiMkLh8"
      },
      "outputs": [],
      "source": [
        "# 7.0 — Copia de seguridad antes de escalar\n",
        "df_backup_scaling = df.copy()\n"
      ]
    },
    {
      "cell_type": "code",
      "execution_count": null,
      "metadata": {
        "id": "jP0tAZfgOj8t"
      },
      "outputs": [],
      "source": [
        "# 7.1 — Definir variables numéricas\n",
        "num_vars = ['BMI', 'MentHlth', 'PhysHlth']\n"
      ]
    },
    {
      "cell_type": "code",
      "execution_count": null,
      "metadata": {
        "id": "zgDSlPOyOlBI"
      },
      "outputs": [],
      "source": [
        "# 7.2 — Inicializar escaladores\n",
        "from sklearn.preprocessing import StandardScaler, MinMaxScaler\n",
        "\n",
        "scaler_std = StandardScaler()   # media=0, var=1\n",
        "scaler_mm  = MinMaxScaler()     # rango [0,1]\n",
        "\n"
      ]
    },
    {
      "cell_type": "code",
      "execution_count": null,
      "metadata": {
        "colab": {
          "base_uri": "https://localhost:8080/"
        },
        "id": "2oF4gvTuOmFQ",
        "outputId": "fea7dc4e-77fe-4e52-cc3d-dcfd7f1ccbae"
      },
      "outputs": [
        {
          "name": "stdout",
          "output_type": "stream",
          "text": [
            "StandardScaler: media = [29.77  3.76  5.83]  varianza = [ 43.53  66.7  101.59]\n",
            "               BMI      MentHlth      PhysHlth\n",
            "mean -1.588908e-09  1.918681e-09 -1.425520e-08\n",
            "std   9.999298e-01  9.998213e-01  1.000145e+00\n"
          ]
        }
      ],
      "source": [
        "# 7.3 — Aplicar StandardScaler en copia\n",
        "df_std = df.copy()\n",
        "df_std[num_vars] = scaler_std.fit_transform(df_std[num_vars])\n",
        "\n",
        "# Parámetros StandardScaler\n",
        "print(\"StandardScaler: media =\", scaler_std.mean_.round(2),\n",
        "      \" varianza =\", scaler_std.var_.round(2))\n",
        "\n",
        "# Estadísticas tras StandardScaler\n",
        "print(df_std[num_vars].describe().loc[['mean','std']])\n"
      ]
    },
    {
      "cell_type": "code",
      "execution_count": null,
      "metadata": {
        "colab": {
          "base_uri": "https://localhost:8080/"
        },
        "id": "imPG6TotOnu-",
        "outputId": "a1243e48-a6b8-4926-a809-6a078a4be663"
      },
      "outputs": [
        {
          "name": "stdout",
          "output_type": "stream",
          "text": [
            "MinMaxScaler: min = [19.  0.  0.]  max = [52. 30. 30.]\n",
            "     BMI  MentHlth  PhysHlth\n",
            "min  0.0       0.0       0.0\n",
            "max  1.0       1.0       1.0\n"
          ]
        }
      ],
      "source": [
        "# 7.4 — Aplicar MinMaxScaler en otra copia\n",
        "df_mm = df.copy()\n",
        "df_mm[num_vars] = scaler_mm.fit_transform(df_mm[num_vars])\n",
        "\n",
        "# Parámetros MinMaxScaler\n",
        "print(\"MinMaxScaler: min =\", scaler_mm.data_min_.round(2),\n",
        "      \" max =\", scaler_mm.data_max_.round(2))\n",
        "\n",
        "# Estadísticas tras MinMaxScaler\n",
        "print(df_mm[num_vars].describe().loc[['min','max']])\n"
      ]
    },
    {
      "cell_type": "code",
      "execution_count": null,
      "metadata": {
        "colab": {
          "base_uri": "https://localhost:8080/",
          "height": 672
        },
        "id": "xfP_U528OpBW",
        "outputId": "ee230587-1722-44c7-99c0-75951dd53dcc"
      },
      "outputs": [
        {
          "data": {
            "image/png": "[encoded data removed]",
            "text/plain": [
              "<Figure size 1200x900 with 9 Axes>"
            ]
          },
          "metadata": {},
          "output_type": "display_data"
        }
      ],
      "source": [
        "# 7.5 — Comparar distribuciones original vs escaladas\n",
        "fig, axes = plt.subplots(len(num_vars), 3, figsize=(12, 9))\n",
        "for i, col in enumerate(num_vars):\n",
        "    # Original\n",
        "    axes[i,0].hist(df[col], bins=30, edgecolor='k')\n",
        "    axes[i,0].set_title(f\"Original ({col})\")\n",
        "    # StandardScaler\n",
        "    axes[i,1].hist(df_std[col], bins=30, edgecolor='k')\n",
        "    axes[i,1].set_title(f\"StdScaler ({col})\")\n",
        "    # MinMaxScaler\n",
        "    axes[i,2].hist(df_mm[col], bins=30, edgecolor='k')\n",
        "    axes[i,2].set_title(f\"MinMaxScaler ({col})\")\n",
        "plt.tight_layout()\n",
        "plt.show()\n"
      ]
    },
    {
      "cell_type": "code",
      "execution_count": null,
      "metadata": {
        "id": "CkOZUoYfj6oo"
      },
      "outputs": [],
      "source": [
        "# 7.6 — Aplicar StandardScaler al DataFrame principal\n",
        "df[num_vars] = scaler_std.transform(df[num_vars])\n"
      ]
    },
    {
      "cell_type": "markdown",
      "metadata": {
        "id": "UrsNBsRPOr_i"
      },
      "source": [
        "**Decisión:**  \n",
        "Tras comparar, `StandardScaler` centra las variables en media 0 y varianza 1 manteniendo la forma de la distribución, mientras que `MinMaxScaler` las comprime a [0,1] afectando más las colas. Dado que nuestros modelos (e.g., regresión, SVM) se benefician de datos centrados y escalados por varianza, aplicaremos **StandardScaler** al DataFrame principal.\n"
      ]
    },
    {
      "cell_type": "markdown",
      "metadata": {
        "id": "TIj6j_ylsWsf"
      },
      "source": [
        "## 🔀 8. Tratamiento de Variables Categóricas\n",
        "\n",
        "**En esta sección** convertiremos todas las columnas categóricas a formatos numéricos compatibles con modelos de machine learning (por ejemplo, One‑Hot Encoding con `drop_first=True` o Label Encoding), verificaremos que no se introduzca colinealidad ni se dupliquen categorías, y dejaremos registrada la lista de variables transformadas, el método aplicado y la nueva forma del DataFrame."
      ]
    },
    {
      "cell_type": "code",
      "execution_count": null,
      "metadata": {
        "id": "_d5yJ6Xwg6ak"
      },
      "outputs": [],
      "source": [
        "# 8.1 Copia de seguridad\n",
        "df_backup_cat = df.copy()\n"
      ]
    },
    {
      "cell_type": "code",
      "execution_count": null,
      "metadata": {
        "colab": {
          "base_uri": "https://localhost:8080/"
        },
        "id": "ji6A9vSDg6Tm",
        "outputId": "1da478e4-846e-44f4-9bd5-a5c1c06527b8"
      },
      "outputs": [
        {
          "name": "stdout",
          "output_type": "stream",
          "text": [
            "Variables a codificar: ['GenHlth', 'Age', 'Education', 'Income']\n"
          ]
        }
      ],
      "source": [
        "# 8.2 Identificar variables categóricas\n",
        "cat_vars = df.select_dtypes(include=['category']).columns.tolist()\n",
        "print(\"Variables a codificar:\", cat_vars)\n"
      ]
    },
    {
      "cell_type": "code",
      "execution_count": null,
      "metadata": {
        "id": "SihRZKz3g6LE"
      },
      "outputs": [],
      "source": [
        "# 8.3 One-Hot Encoding con drop_first=True\n",
        "df = pd.get_dummies(df, columns=cat_vars, drop_first=True)\n"
      ]
    },
    {
      "cell_type": "code",
      "execution_count": null,
      "metadata": {
        "colab": {
          "base_uri": "https://localhost:8080/"
        },
        "id": "ret18JI7g59n",
        "outputId": "3cb23ea0-4053-4c2e-82e4-00090a59e567"
      },
      "outputs": [
        {
          "name": "stdout",
          "output_type": "stream",
          "text": [
            "Forma tras One-Hot Encoding: (63622, 48)\n",
            "Columnas (nuevas dummies incluidas):\n",
            "['GenHlth_2', 'GenHlth_3', 'GenHlth_4', 'GenHlth_5', 'Age_2', 'Age_3', 'Age_4', 'Age_5', 'Age_6', 'Age_7', 'Age_8', 'Age_9', 'Age_10', 'Age_11', 'Age_12', 'Age_13', 'Education_2', 'Education_3', 'Education_4', 'Education_5', 'Education_6', 'Income_2', 'Income_3', 'Income_4', 'Income_5', 'Income_6', 'Income_7', 'Income_8']\n"
          ]
        }
      ],
      "source": [
        "# 8.4 Verificación de forma y columnas nuevas\n",
        "print(\"Forma tras One-Hot Encoding:\", df.shape)\n",
        "print(\"Columnas (nuevas dummies incluidas):\")\n",
        "print([c for c in df.columns if any(var in c for var in cat_vars)])\n"
      ]
    },
    {
      "cell_type": "markdown",
      "metadata": {
        "id": "Au47vGZyg2cG"
      },
      "source": [
        "*Verificación final*"
      ]
    },
    {
      "cell_type": "code",
      "execution_count": null,
      "metadata": {
        "colab": {
          "base_uri": "https://localhost:8080/",
          "height": 1000
        },
        "id": "2sabDdKbPjb4",
        "outputId": "95f566db-ad95-4eba-a67b-7477034c957d"
      },
      "outputs": [
        {
          "name": "stdout",
          "output_type": "stream",
          "text": [
            "Shape: (63622, 48)\n",
            "<class 'pandas.core.frame.DataFrame'>\n",
            "RangeIndex: 63622 entries, 0 to 63621\n",
            "Data columns (total 48 columns):\n",
            " #   Column                Non-Null Count  Dtype  \n",
            "---  ------                --------------  -----  \n",
            " 0   Diabetes_binary       63622 non-null  bool   \n",
            " 1   HighBP                63622 non-null  bool   \n",
            " 2   HighChol              63622 non-null  bool   \n",
            " 3   CholCheck             63622 non-null  bool   \n",
            " 4   BMI                   63622 non-null  float32\n",
            " 5   Smoker                63622 non-null  bool   \n",
            " 6   Stroke                63622 non-null  bool   \n",
            " 7   HeartDiseaseorAttack  63622 non-null  bool   \n",
            " 8   PhysActivity          63622 non-null  bool   \n",
            " 9   Fruits                63622 non-null  bool   \n",
            " 10  Veggies               63622 non-null  bool   \n",
            " 11  HvyAlcoholConsump     63622 non-null  bool   \n",
            " 12  AnyHealthcare         63622 non-null  bool   \n",
            " 13  NoDocbcCost           63622 non-null  bool   \n",
            " 14  MentHlth              63622 non-null  float32\n",
            " 15  PhysHlth              63622 non-null  float32\n",
            " 16  DiffWalk              63622 non-null  bool   \n",
            " 17  Sex                   63622 non-null  bool   \n",
            " 18  HighMentHlth          63622 non-null  int8   \n",
            " 19  HighPhysHlth          63622 non-null  int8   \n",
            " 20  GenHlth_2             63622 non-null  bool   \n",
            " 21  GenHlth_3             63622 non-null  bool   \n",
            " 22  GenHlth_4             63622 non-null  bool   \n",
            " 23  GenHlth_5             63622 non-null  bool   \n",
            " 24  Age_2                 63622 non-null  bool   \n",
            " 25  Age_3                 63622 non-null  bool   \n",
            " 26  Age_4                 63622 non-null  bool   \n",
            " 27  Age_5                 63622 non-null  bool   \n",
            " 28  Age_6                 63622 non-null  bool   \n",
            " 29  Age_7                 63622 non-null  bool   \n",
            " 30  Age_8                 63622 non-null  bool   \n",
            " 31  Age_9                 63622 non-null  bool   \n",
            " 32  Age_10                63622 non-null  bool   \n",
            " 33  Age_11                63622 non-null  bool   \n",
            " 34  Age_12                63622 non-null  bool   \n",
            " 35  Age_13                63622 non-null  bool   \n",
            " 36  Education_2           63622 non-null  bool   \n",
            " 37  Education_3           63622 non-null  bool   \n",
            " 38  Education_4           63622 non-null  bool   \n",
            " 39  Education_5           63622 non-null  bool   \n",
            " 40  Education_6           63622 non-null  bool   \n",
            " 41  Income_2              63622 non-null  bool   \n",
            " 42  Income_3              63622 non-null  bool   \n",
            " 43  Income_4              63622 non-null  bool   \n",
            " 44  Income_5              63622 non-null  bool   \n",
            " 45  Income_6              63622 non-null  bool   \n",
            " 46  Income_7              63622 non-null  bool   \n",
            " 47  Income_8              63622 non-null  bool   \n",
            "dtypes: bool(43), float32(3), int8(2)\n",
            "memory usage: 3.5 MB\n",
            "\n",
            "Valores nulos por columna:\n",
            " Diabetes_binary         0\n",
            "HighBP                  0\n",
            "HighChol                0\n",
            "CholCheck               0\n",
            "BMI                     0\n",
            "Smoker                  0\n",
            "Stroke                  0\n",
            "HeartDiseaseorAttack    0\n",
            "PhysActivity            0\n",
            "Fruits                  0\n",
            "Veggies                 0\n",
            "HvyAlcoholConsump       0\n",
            "AnyHealthcare           0\n",
            "NoDocbcCost             0\n",
            "MentHlth                0\n",
            "PhysHlth                0\n",
            "DiffWalk                0\n",
            "Sex                     0\n",
            "HighMentHlth            0\n",
            "HighPhysHlth            0\n",
            "GenHlth_2               0\n",
            "GenHlth_3               0\n",
            "GenHlth_4               0\n",
            "GenHlth_5               0\n",
            "Age_2                   0\n",
            "Age_3                   0\n",
            "Age_4                   0\n",
            "Age_5                   0\n",
            "Age_6                   0\n",
            "Age_7                   0\n",
            "Age_8                   0\n",
            "Age_9                   0\n",
            "Age_10                  0\n",
            "Age_11                  0\n",
            "Age_12                  0\n",
            "Age_13                  0\n",
            "Education_2             0\n",
            "Education_3             0\n",
            "Education_4             0\n",
            "Education_5             0\n",
            "Education_6             0\n",
            "Income_2                0\n",
            "Income_3                0\n",
            "Income_4                0\n",
            "Income_5                0\n",
            "Income_6                0\n",
            "Income_7                0\n",
            "Income_8                0\n",
            "dtype: int64\n"
          ]
        },
        {
          "data": {
            "application/vnd.google.colaboratory.intrinsic+json": {
              "type": "dataframe",
              "variable_name": "df"
            },
            "text/html": [
              "\n",
              "  <div id=\"df-b23b7a6d-40df-4a63-bc4a-da339cd8b8c8\" class=\"colab-df-container\">\n",
              "    <div>\n",
              "<style scoped>\n",
              "    .dataframe tbody tr th:only-of-type {\n",
              "        vertical-align: middle;\n",
              "    }\n",
              "\n",
              "    .dataframe tbody tr th {\n",
              "        vertical-align: top;\n",
              "    }\n",
              "\n",
              "    .dataframe thead th {\n",
              "        text-align: right;\n",
              "    }\n",
              "</style>\n",
              "<table border=\"1\" class=\"dataframe\">\n",
              "  <thead>\n",
              "    <tr style=\"text-align: right;\">\n",
              "      <th></th>\n",
              "      <th>Diabetes_binary</th>\n",
              "      <th>HighBP</th>\n",
              "      <th>HighChol</th>\n",
              "      <th>CholCheck</th>\n",
              "      <th>BMI</th>\n",
              "      <th>Smoker</th>\n",
              "      <th>Stroke</th>\n",
              "      <th>HeartDiseaseorAttack</th>\n",
              "      <th>PhysActivity</th>\n",
              "      <th>Fruits</th>\n",
              "      <th>...</th>\n",
              "      <th>Education_4</th>\n",
              "      <th>Education_5</th>\n",
              "      <th>Education_6</th>\n",
              "      <th>Income_2</th>\n",
              "      <th>Income_3</th>\n",
              "      <th>Income_4</th>\n",
              "      <th>Income_5</th>\n",
              "      <th>Income_6</th>\n",
              "      <th>Income_7</th>\n",
              "      <th>Income_8</th>\n",
              "    </tr>\n",
              "  </thead>\n",
              "  <tbody>\n",
              "    <tr>\n",
              "      <th>0</th>\n",
              "      <td>True</td>\n",
              "      <td>False</td>\n",
              "      <td>True</td>\n",
              "      <td>True</td>\n",
              "      <td>-1.026210</td>\n",
              "      <td>True</td>\n",
              "      <td>False</td>\n",
              "      <td>False</td>\n",
              "      <td>True</td>\n",
              "      <td>False</td>\n",
              "      <td>...</td>\n",
              "      <td>True</td>\n",
              "      <td>False</td>\n",
              "      <td>False</td>\n",
              "      <td>False</td>\n",
              "      <td>False</td>\n",
              "      <td>False</td>\n",
              "      <td>True</td>\n",
              "      <td>False</td>\n",
              "      <td>False</td>\n",
              "      <td>False</td>\n",
              "    </tr>\n",
              "    <tr>\n",
              "      <th>1</th>\n",
              "      <td>False</td>\n",
              "      <td>False</td>\n",
              "      <td>False</td>\n",
              "      <td>True</td>\n",
              "      <td>0.489444</td>\n",
              "      <td>True</td>\n",
              "      <td>False</td>\n",
              "      <td>False</td>\n",
              "      <td>False</td>\n",
              "      <td>True</td>\n",
              "      <td>...</td>\n",
              "      <td>False</td>\n",
              "      <td>True</td>\n",
              "      <td>False</td>\n",
              "      <td>False</td>\n",
              "      <td>False</td>\n",
              "      <td>True</td>\n",
              "      <td>False</td>\n",
              "      <td>False</td>\n",
              "      <td>False</td>\n",
              "      <td>False</td>\n",
              "    </tr>\n",
              "    <tr>\n",
              "      <th>2</th>\n",
              "      <td>False</td>\n",
              "      <td>True</td>\n",
              "      <td>True</td>\n",
              "      <td>True</td>\n",
              "      <td>-0.419948</td>\n",
              "      <td>True</td>\n",
              "      <td>False</td>\n",
              "      <td>False</td>\n",
              "      <td>True</td>\n",
              "      <td>True</td>\n",
              "      <td>...</td>\n",
              "      <td>False</td>\n",
              "      <td>False</td>\n",
              "      <td>True</td>\n",
              "      <td>False</td>\n",
              "      <td>False</td>\n",
              "      <td>False</td>\n",
              "      <td>False</td>\n",
              "      <td>True</td>\n",
              "      <td>False</td>\n",
              "      <td>False</td>\n",
              "    </tr>\n",
              "    <tr>\n",
              "      <th>3</th>\n",
              "      <td>False</td>\n",
              "      <td>False</td>\n",
              "      <td>True</td>\n",
              "      <td>True</td>\n",
              "      <td>-0.116817</td>\n",
              "      <td>True</td>\n",
              "      <td>False</td>\n",
              "      <td>False</td>\n",
              "      <td>False</td>\n",
              "      <td>True</td>\n",
              "      <td>...</td>\n",
              "      <td>False</td>\n",
              "      <td>True</td>\n",
              "      <td>False</td>\n",
              "      <td>False</td>\n",
              "      <td>False</td>\n",
              "      <td>False</td>\n",
              "      <td>False</td>\n",
              "      <td>False</td>\n",
              "      <td>False</td>\n",
              "      <td>True</td>\n",
              "    </tr>\n",
              "    <tr>\n",
              "      <th>4</th>\n",
              "      <td>True</td>\n",
              "      <td>True</td>\n",
              "      <td>False</td>\n",
              "      <td>True</td>\n",
              "      <td>2.611360</td>\n",
              "      <td>False</td>\n",
              "      <td>False</td>\n",
              "      <td>False</td>\n",
              "      <td>True</td>\n",
              "      <td>True</td>\n",
              "      <td>...</td>\n",
              "      <td>False</td>\n",
              "      <td>False</td>\n",
              "      <td>True</td>\n",
              "      <td>False</td>\n",
              "      <td>True</td>\n",
              "      <td>False</td>\n",
              "      <td>False</td>\n",
              "      <td>False</td>\n",
              "      <td>False</td>\n",
              "      <td>False</td>\n",
              "    </tr>\n",
              "  </tbody>\n",
              "</table>\n",
              "<p>5 rows × 48 columns</p>\n",
              "</div>\n",
              "    <div class=\"colab-df-buttons\">\n",
              "\n",
              "  <div class=\"colab-df-container\">\n",
              "    <button class=\"colab-df-convert\" onclick=\"convertToInteractive('df-b23b7a6d-40df-4a63-bc4a-da339cd8b8c8')\"\n",
              "            title=\"Convert this dataframe to an interactive table.\"\n",
              "            style=\"display:none;\">\n",
              "\n",
              "  <svg xmlns=\"http://www.w3.org/2000/svg\" height=\"24px\" viewBox=\"0 -960 960 960\">\n",
              "    <path d=\"M120-120v-720h720v720H120Zm60-500h600v-160H180v160Zm220 220h160v-160H400v160Zm0 220h160v-160H400v160ZM180-400h160v-160H180v160Zm440 0h160v-160H620v160ZM180-180h160v-160H180v160Zm440 0h160v-160H620v160Z\"/>\n",
              "  </svg>\n",
              "    </button>\n",
              "\n",
              "  <style>\n",
              "    .colab-df-container {\n",
              "      display:flex;\n",
              "      gap: 12px;\n",
              "    }\n",
              "\n",
              "    .colab-df-convert {\n",
              "      background-color: #E8F0FE;\n",
              "      border: none;\n",
              "      border-radius: 50%;\n",
              "      cursor: pointer;\n",
              "      display: none;\n",
              "      fill: #1967D2;\n",
              "      height: 32px;\n",
              "      padding: 0 0 0 0;\n",
              "      width: 32px;\n",
              "    }\n",
              "\n",
              "    .colab-df-convert:hover {\n",
              "      background-color: #E2EBFA;\n",
              "      box-shadow: 0px 1px 2px rgba(60, 64, 67, 0.3), 0px 1px 3px 1px rgba(60, 64, 67, 0.15);\n",
              "      fill: #174EA6;\n",
              "    }\n",
              "\n",
              "    .colab-df-buttons div {\n",
              "      margin-bottom: 4px;\n",
              "    }\n",
              "\n",
              "    [theme=dark] .colab-df-convert {\n",
              "      background-color: #3B4455;\n",
              "      fill: #D2E3FC;\n",
              "    }\n",
              "\n",
              "    [theme=dark] .colab-df-convert:hover {\n",
              "      background-color: #434B5C;\n",
              "      box-shadow: 0px 1px 3px 1px rgba(0, 0, 0, 0.15);\n",
              "      filter: drop-shadow(0px 1px 2px rgba(0, 0, 0, 0.3));\n",
              "      fill: #FFFFFF;\n",
              "    }\n",
              "  </style>\n",
              "\n",
              "    <script>\n",
              "      const buttonEl =\n",
              "        document.querySelector('#df-b23b7a6d-40df-4a63-bc4a-da339cd8b8c8 button.colab-df-convert');\n",
              "      buttonEl.style.display =\n",
              "        google.colab.kernel.accessAllowed ? 'block' : 'none';\n",
              "\n",
              "      async function convertToInteractive(key) {\n",
              "        const element = document.querySelector('#df-b23b7a6d-40df-4a63-bc4a-da339cd8b8c8');\n",
              "        const dataTable =\n",
              "          await google.colab.kernel.invokeFunction('convertToInteractive',\n",
              "                                                    [key], {});\n",
              "        if (!dataTable) return;\n",
              "\n",
              "        const docLinkHtml = 'Like what you see? Visit the ' +\n",
              "          '<a target=\"_blank\" href=https://colab.research.google.com/notebooks/data_table.ipynb>data table notebook</a>'\n",
              "          + ' to learn more about interactive tables.';\n",
              "        element.innerHTML = '';\n",
              "        dataTable['output_type'] = 'display_data';\n",
              "        await google.colab.output.renderOutput(dataTable, element);\n",
              "        const docLink = document.createElement('div');\n",
              "        docLink.innerHTML = docLinkHtml;\n",
              "        element.appendChild(docLink);\n",
              "      }\n",
              "    </script>\n",
              "  </div>\n",
              "\n",
              "\n",
              "    <div id=\"df-1df8d8f7-601e-4efc-ac6d-9cc7b08f8401\">\n",
              "      <button class=\"colab-df-quickchart\" onclick=\"quickchart('df-1df8d8f7-601e-4efc-ac6d-9cc7b08f8401')\"\n",
              "                title=\"Suggest charts\"\n",
              "                style=\"display:none;\">\n",
              "\n",
              "<svg xmlns=\"http://www.w3.org/2000/svg\" height=\"24px\"viewBox=\"0 0 24 24\"\n",
              "     width=\"24px\">\n",
              "    <g>\n",
              "        <path d=\"M19 3H5c-1.1 0-2 .9-2 2v14c0 1.1.9 2 2 2h14c1.1 0 2-.9 2-2V5c0-1.1-.9-2-2-2zM9 17H7v-7h2v7zm4 0h-2V7h2v10zm4 0h-2v-4h2v4z\"/>\n",
              "    </g>\n",
              "</svg>\n",
              "      </button>\n",
              "\n",
              "<style>\n",
              "  .colab-df-quickchart {\n",
              "      --bg-color: #E8F0FE;\n",
              "      --fill-color: #1967D2;\n",
              "      --hover-bg-color: #E2EBFA;\n",
              "      --hover-fill-color: #174EA6;\n",
              "      --disabled-fill-color: #AAA;\n",
              "      --disabled-bg-color: #DDD;\n",
              "  }\n",
              "\n",
              "  [theme=dark] .colab-df-quickchart {\n",
              "      --bg-color: #3B4455;\n",
              "      --fill-color: #D2E3FC;\n",
              "      --hover-bg-color: #434B5C;\n",
              "      --hover-fill-color: #FFFFFF;\n",
              "      --disabled-bg-color: #3B4455;\n",
              "      --disabled-fill-color: #666;\n",
              "  }\n",
              "\n",
              "  .colab-df-quickchart {\n",
              "    background-color: var(--bg-color);\n",
              "    border: none;\n",
              "    border-radius: 50%;\n",
              "    cursor: pointer;\n",
              "    display: none;\n",
              "    fill: var(--fill-color);\n",
              "    height: 32px;\n",
              "    padding: 0;\n",
              "    width: 32px;\n",
              "  }\n",
              "\n",
              "  .colab-df-quickchart:hover {\n",
              "    background-color: var(--hover-bg-color);\n",
              "    box-shadow: 0 1px 2px rgba(60, 64, 67, 0.3), 0 1px 3px 1px rgba(60, 64, 67, 0.15);\n",
              "    fill: var(--button-hover-fill-color);\n",
              "  }\n",
              "\n",
              "  .colab-df-quickchart-complete:disabled,\n",
              "  .colab-df-quickchart-complete:disabled:hover {\n",
              "    background-color: var(--disabled-bg-color);\n",
              "    fill: var(--disabled-fill-color);\n",
              "    box-shadow: none;\n",
              "  }\n",
              "\n",
              "  .colab-df-spinner {\n",
              "    border: 2px solid var(--fill-color);\n",
              "    border-color: transparent;\n",
              "    border-bottom-color: var(--fill-color);\n",
              "    animation:\n",
              "      spin 1s steps(1) infinite;\n",
              "  }\n",
              "\n",
              "  @keyframes spin {\n",
              "    0% {\n",
              "      border-color: transparent;\n",
              "      border-bottom-color: var(--fill-color);\n",
              "      border-left-color: var(--fill-color);\n",
              "    }\n",
              "    20% {\n",
              "      border-color: transparent;\n",
              "      border-left-color: var(--fill-color);\n",
              "      border-top-color: var(--fill-color);\n",
              "    }\n",
              "    30% {\n",
              "      border-color: transparent;\n",
              "      border-left-color: var(--fill-color);\n",
              "      border-top-color: var(--fill-color);\n",
              "      border-right-color: var(--fill-color);\n",
              "    }\n",
              "    40% {\n",
              "      border-color: transparent;\n",
              "      border-right-color: var(--fill-color);\n",
              "      border-top-color: var(--fill-color);\n",
              "    }\n",
              "    60% {\n",
              "      border-color: transparent;\n",
              "      border-right-color: var(--fill-color);\n",
              "    }\n",
              "    80% {\n",
              "      border-color: transparent;\n",
              "      border-right-color: var(--fill-color);\n",
              "      border-bottom-color: var(--fill-color);\n",
              "    }\n",
              "    90% {\n",
              "      border-color: transparent;\n",
              "      border-bottom-color: var(--fill-color);\n",
              "    }\n",
              "  }\n",
              "</style>\n",
              "\n",
              "      <script>\n",
              "        async function quickchart(key) {\n",
              "          const quickchartButtonEl =\n",
              "            document.querySelector('#' + key + ' button');\n",
              "          quickchartButtonEl.disabled = true;  // To prevent multiple clicks.\n",
              "          quickchartButtonEl.classList.add('colab-df-spinner');\n",
              "          try {\n",
              "            const charts = await google.colab.kernel.invokeFunction(\n",
              "                'suggestCharts', [key], {});\n",
              "          } catch (error) {\n",
              "            console.error('Error during call to suggestCharts:', error);\n",
              "          }\n",
              "          quickchartButtonEl.classList.remove('colab-df-spinner');\n",
              "          quickchartButtonEl.classList.add('colab-df-quickchart-complete');\n",
              "        }\n",
              "        (() => {\n",
              "          let quickchartButtonEl =\n",
              "            document.querySelector('#df-1df8d8f7-601e-4efc-ac6d-9cc7b08f8401 button');\n",
              "          quickchartButtonEl.style.display =\n",
              "            google.colab.kernel.accessAllowed ? 'block' : 'none';\n",
              "        })();\n",
              "      </script>\n",
              "    </div>\n",
              "\n",
              "    </div>\n",
              "  </div>\n"
            ],
            "text/plain": [
              "   Diabetes_binary  HighBP  HighChol  CholCheck       BMI  Smoker  Stroke  \\\n",
              "0             True   False      True       True -1.026210    True   False   \n",
              "1            False   False     False       True  0.489444    True   False   \n",
              "2            False    True      True       True -0.419948    True   False   \n",
              "3            False   False      True       True -0.116817    True   False   \n",
              "4             True    True     False       True  2.611360   False   False   \n",
              "\n",
              "   HeartDiseaseorAttack  PhysActivity  Fruits  ...  Education_4  Education_5  \\\n",
              "0                 False          True   False  ...         True        False   \n",
              "1                 False         False    True  ...        False         True   \n",
              "2                 False          True    True  ...        False        False   \n",
              "3                 False         False    True  ...        False         True   \n",
              "4                 False          True    True  ...        False        False   \n",
              "\n",
              "   Education_6  Income_2  Income_3  Income_4  Income_5  Income_6  Income_7  \\\n",
              "0        False     False     False     False      True     False     False   \n",
              "1        False     False     False      True     False     False     False   \n",
              "2         True     False     False     False     False      True     False   \n",
              "3        False     False     False     False     False     False     False   \n",
              "4         True     False      True     False     False     False     False   \n",
              "\n",
              "   Income_8  \n",
              "0     False  \n",
              "1     False  \n",
              "2     False  \n",
              "3      True  \n",
              "4     False  \n",
              "\n",
              "[5 rows x 48 columns]"
            ]
          },
          "execution_count": 35,
          "metadata": {},
          "output_type": "execute_result"
        }
      ],
      "source": [
        "\n",
        "# 1. Forma del DataFrame\n",
        "print(\"Shape:\", df.shape)\n",
        "\n",
        "# 2. Tipos de datos y uso de memoria\n",
        "df.info()\n",
        "\n",
        "# 3. Nulos totales por columna\n",
        "print(\"\\nValores nulos por columna:\\n\", df.isnull().sum())\n",
        "\n",
        "# 4. Primeras filas para ver el resultado\n",
        "df.head()\n"
      ]
    },
    {
      "cell_type": "markdown",
      "metadata": {
        "id": "0M0i07zHwB1A"
      },
      "source": [
        "## 9. 📐 Preparación de Datos para el Modelo KNN\n",
        "\n",
        "En esta sección guardamos un respaldo, definimos las variables predictoras (X) y el objetivo (y), y dividimos el dataset en conjuntos de entrenamiento (80 %) y prueba (20 %) usando stratify=y para mantener la proporción de clases."
      ]
    },
    {
      "cell_type": "code",
      "execution_count": null,
      "metadata": {
        "colab": {
          "base_uri": "https://localhost:8080/"
        },
        "id": "ZqmEfDMLwJVH",
        "outputId": "5d3d3888-7c53-407f-b3d8-417e46ce972f"
      },
      "outputs": [
        {
          "name": "stdout",
          "output_type": "stream",
          "text": [
            "Conjunto entrenamiento: 50897 filas, 47 columnas\n",
            "Conjunto prueba      : 12725 filas, 47 columnas\n",
            "\n",
            "Distribución en y_train:\n",
            "Diabetes_binary\n",
            "True     0.502\n",
            "False    0.498\n",
            "Name: proportion, dtype: float64\n",
            "\n",
            "Distribución en y_test :\n",
            "Diabetes_binary\n",
            "True     0.502\n",
            "False    0.498\n",
            "Name: proportion, dtype: float64\n"
          ]
        }
      ],
      "source": [
        "# 9.1 — Backup de df antes de preparar X e y\n",
        "df_backup_model = df.copy()\n",
        "\n",
        "# 9.2 — Definir X (features) e y (target)\n",
        "X = df.drop('Diabetes_binary', axis=1)\n",
        "y = df['Diabetes_binary']\n",
        "\n",
        "# 9.3 — División en entrenamiento y prueba con estratificación\n",
        "from sklearn.model_selection import train_test_split\n",
        "\n",
        "X_train, X_test, y_train, y_test = train_test_split(\n",
        "    X, y,\n",
        "    test_size=0.20,       # 20% para prueba\n",
        "    random_state=42,      # reproducibilidad\n",
        "    stratify=y            # mantiene proporción de clases\n",
        ")\n",
        "\n",
        "# 9.4 — Verificar tamaños y distribución de clases\n",
        "print(f\"Conjunto entrenamiento: {X_train.shape[0]} filas, {X_train.shape[1]} columnas\")\n",
        "print(f\"Conjunto prueba      : {X_test.shape[0]} filas, {X_test.shape[1]} columnas\\n\")\n",
        "\n",
        "print(\"Distribución en y_train:\")\n",
        "print(y_train.value_counts(normalize=True).round(3))\n",
        "print(\"\\nDistribución en y_test :\")\n",
        "print(y_test.value_counts(normalize=True).round(3))\n"
      ]
    },
    {
      "cell_type": "markdown",
      "metadata": {
        "id": "wSlS5Aj8xE1D"
      },
      "source": [
        "## 10. ⚙️ Entrenamiento Inicial de KNN\n",
        "En esta sección entrenamos un modelo K-Nearest Neighbors con k=5 y hacemos una evaluación básica sobre el conjunto de prueba."
      ]
    },
    {
      "cell_type": "code",
      "execution_count": null,
      "metadata": {
        "colab": {
          "base_uri": "https://localhost:8080/"
        },
        "id": "8BBJbFC-xMzj",
        "outputId": "4a4c86a9-7eb9-46df-b6f0-980bd8de12cb"
      },
      "outputs": [
        {
          "name": "stdout",
          "output_type": "stream",
          "text": [
            "Accuracy: 0.7063\n",
            "\n",
            "Matriz de Confusión:\n",
            "[[4292 2050]\n",
            " [1687 4696]] \n",
            "\n",
            "Reporte de Clasificación:\n",
            "              precision    recall  f1-score   support\n",
            "\n",
            "       False       0.72      0.68      0.70      6342\n",
            "        True       0.70      0.74      0.72      6383\n",
            "\n",
            "    accuracy                           0.71     12725\n",
            "   macro avg       0.71      0.71      0.71     12725\n",
            "weighted avg       0.71      0.71      0.71     12725\n",
            "\n"
          ]
        }
      ],
      "source": [
        "# 10.1 — Importar clase y métricas\n",
        "from sklearn.neighbors import KNeighborsClassifier\n",
        "from sklearn.metrics import accuracy_score, confusion_matrix, classification_report\n",
        "\n",
        "# 10.2 — Instanciar KNN con k=5\n",
        "knn = KNeighborsClassifier(n_neighbors=5)\n",
        "\n",
        "# 10.3 — Ajustar el modelo al conjunto de entrenamiento\n",
        "knn.fit(X_train, y_train)\n",
        "\n",
        "# 10.4 — Predecir sobre X_test\n",
        "y_pred = knn.predict(X_test)\n",
        "\n",
        "# 10.5 — Métricas de evaluación\n",
        "acc = accuracy_score(y_test, y_pred)\n",
        "cm  = confusion_matrix(y_test, y_pred)\n",
        "cr  = classification_report(y_test, y_pred)\n",
        "\n",
        "print(f\"Accuracy: {acc:.4f}\\n\")\n",
        "print(\"Matriz de Confusión:\")\n",
        "print(cm, \"\\n\")\n",
        "print(\"Reporte de Clasificación:\")\n",
        "print(cr)\n"
      ]
    },
    {
      "cell_type": "markdown",
      "metadata": {
        "id": "BHfPEvBexCzR"
      },
      "source": [
        "## 11. 🔍 Selección de Vecinos (Búsqueda de Hiperparámetros)\n",
        "\n",
        "En esta sección buscamos el valor óptimo de k entre 1 y 20 usando validación cruzada 5-fold y optimizando la F1-score, que equilibra precisión y recall en casos desbalanceados."
      ]
    },
    {
      "cell_type": "code",
      "execution_count": null,
      "metadata": {
        "id": "DNaGofkJZlVb"
      },
      "outputs": [],
      "source": [
        "# 11.0 — Copia de seguridad antes de GridSearch\n",
        "df_backup_gs = df.copy()\n",
        "X_train_gs, y_train_gs = X_train.copy(), y_train.copy()\n"
      ]
    },
    {
      "cell_type": "code",
      "execution_count": null,
      "metadata": {
        "id": "Qini8nDkZorz"
      },
      "outputs": [],
      "source": [
        "# 11.1 — Definir rango de k a probar\n",
        "param_grid = {'n_neighbors': list(range(1, 20))}\n"
      ]
    },
    {
      "cell_type": "code",
      "execution_count": null,
      "metadata": {
        "id": "t3oIWqoSZrBP"
      },
      "outputs": [],
      "source": [
        "# 11.2 — Instanciar GridSearchCV\n",
        "from sklearn.model_selection import GridSearchCV\n",
        "\n",
        "grid_knn = GridSearchCV(\n",
        "    estimator=KNeighborsClassifier(),\n",
        "    param_grid=param_grid,\n",
        "    scoring='f1',    # optimizar F1-score\n",
        "    cv=5,            # 5-fold CV\n",
        "    n_jobs=-1        # usar todos los núcleos disponibles\n",
        ")\n"
      ]
    },
    {
      "cell_type": "code",
      "execution_count": null,
      "metadata": {
        "colab": {
          "base_uri": "https://localhost:8080/",
          "height": 166
        },
        "id": "aRnYzg0IZrxr",
        "outputId": "4a22fefb-677d-47dd-f22b-3d969a6da79c"
      },
      "outputs": [
        {
          "data": {
            "text/html": [
              "<style>#sk-container-id-1 {\n",
              "  /* Definition of color scheme common for light and dark mode */\n",
              "  --sklearn-color-text: #000;\n",
              "  --sklearn-color-text-muted: #666;\n",
              "  --sklearn-color-line: gray;\n",
              "  /* Definition of color scheme for unfitted estimators */\n",
              "  --sklearn-color-unfitted-level-0: #fff5e6;\n",
              "  --sklearn-color-unfitted-level-1: #f6e4d2;\n",
              "  --sklearn-color-unfitted-level-2: #ffe0b3;\n",
              "  --sklearn-color-unfitted-level-3: chocolate;\n",
              "  /* Definition of color scheme for fitted estimators */\n",
              "  --sklearn-color-fitted-level-0: #f0f8ff;\n",
              "  --sklearn-color-fitted-level-1: #d4ebff;\n",
              "  --sklearn-color-fitted-level-2: #b3dbfd;\n",
              "  --sklearn-color-fitted-level-3: cornflowerblue;\n",
              "\n",
              "  /* Specific color for light theme */\n",
              "  --sklearn-color-text-on-default-background: var(--sg-text-color, var(--theme-code-foreground, var(--jp-content-font-color1, black)));\n",
              "  --sklearn-color-background: var(--sg-background-color, var(--theme-background, var(--jp-layout-color0, white)));\n",
              "  --sklearn-color-border-box: var(--sg-text-color, var(--theme-code-foreground, var(--jp-content-font-color1, black)));\n",
              "  --sklearn-color-icon: #696969;\n",
              "\n",
              "  @media (prefers-color-scheme: dark) {\n",
              "    /* Redefinition of color scheme for dark theme */\n",
              "    --sklearn-color-text-on-default-background: var(--sg-text-color, var(--theme-code-foreground, var(--jp-content-font-color1, white)));\n",
              "    --sklearn-color-background: var(--sg-background-color, var(--theme-background, var(--jp-layout-color0, #111)));\n",
              "    --sklearn-color-border-box: var(--sg-text-color, var(--theme-code-foreground, var(--jp-content-font-color1, white)));\n",
              "    --sklearn-color-icon: #878787;\n",
              "  }\n",
              "}\n",
              "\n",
              "#sk-container-id-1 {\n",
              "  color: var(--sklearn-color-text);\n",
              "}\n",
              "\n",
              "#sk-container-id-1 pre {\n",
              "  padding: 0;\n",
              "}\n",
              "\n",
              "#sk-container-id-1 input.sk-hidden--visually {\n",
              "  border: 0;\n",
              "  clip: rect(1px 1px 1px 1px);\n",
              "  clip: rect(1px, 1px, 1px, 1px);\n",
              "  height: 1px;\n",
              "  margin: -1px;\n",
              "  overflow: hidden;\n",
              "  padding: 0;\n",
              "  position: absolute;\n",
              "  width: 1px;\n",
              "}\n",
              "\n",
              "#sk-container-id-1 div.sk-dashed-wrapped {\n",
              "  border: 1px dashed var(--sklearn-color-line);\n",
              "  margin: 0 0.4em 0.5em 0.4em;\n",
              "  box-sizing: border-box;\n",
              "  padding-bottom: 0.4em;\n",
              "  background-color: var(--sklearn-color-background);\n",
              "}\n",
              "\n",
              "#sk-container-id-1 div.sk-container {\n",
              "  /* jupyter's `normalize.less` sets `[hidden] { display: none; }`\n",
              "     but bootstrap.min.css set `[hidden] { display: none !important; }`\n",
              "     so we also need the `!important` here to be able to override the\n",
              "     default hidden behavior on the sphinx rendered scikit-learn.org.\n",
              "     See: https://github.com/scikit-learn/scikit-learn/issues/21755 */\n",
              "  display: inline-block !important;\n",
              "  position: relative;\n",
              "}\n",
              "\n",
              "#sk-container-id-1 div.sk-text-repr-fallback {\n",
              "  display: none;\n",
              "}\n",
              "\n",
              "div.sk-parallel-item,\n",
              "div.sk-serial,\n",
              "div.sk-item {\n",
              "  /* draw centered vertical line to link estimators */\n",
              "  background-image: linear-gradient(var(--sklearn-color-text-on-default-background), var(--sklearn-color-text-on-default-background));\n",
              "  background-size: 2px 100%;\n",
              "  background-repeat: no-repeat;\n",
              "  background-position: center center;\n",
              "}\n",
              "\n",
              "/* Parallel-specific style estimator block */\n",
              "\n",
              "#sk-container-id-1 div.sk-parallel-item::after {\n",
              "  content: \"\";\n",
              "  width: 100%;\n",
              "  border-bottom: 2px solid var(--sklearn-color-text-on-default-background);\n",
              "  flex-grow: 1;\n",
              "}\n",
              "\n",
              "#sk-container-id-1 div.sk-parallel {\n",
              "  display: flex;\n",
              "  align-items: stretch;\n",
              "  justify-content: center;\n",
              "  background-color: var(--sklearn-color-background);\n",
              "  position: relative;\n",
              "}\n",
              "\n",
              "#sk-container-id-1 div.sk-parallel-item {\n",
              "  display: flex;\n",
              "  flex-direction: column;\n",
              "}\n",
              "\n",
              "#sk-container-id-1 div.sk-parallel-item:first-child::after {\n",
              "  align-self: flex-end;\n",
              "  width: 50%;\n",
              "}\n",
              "\n",
              "#sk-container-id-1 div.sk-parallel-item:last-child::after {\n",
              "  align-self: flex-start;\n",
              "  width: 50%;\n",
              "}\n",
              "\n",
              "#sk-container-id-1 div.sk-parallel-item:only-child::after {\n",
              "  width: 0;\n",
              "}\n",
              "\n",
              "/* Serial-specific style estimator block */\n",
              "\n",
              "#sk-container-id-1 div.sk-serial {\n",
              "  display: flex;\n",
              "  flex-direction: column;\n",
              "  align-items: center;\n",
              "  background-color: var(--sklearn-color-background);\n",
              "  padding-right: 1em;\n",
              "  padding-left: 1em;\n",
              "}\n",
              "\n",
              "\n",
              "/* Toggleable style: style used for estimator/Pipeline/ColumnTransformer box that is\n",
              "clickable and can be expanded/collapsed.\n",
              "- Pipeline and ColumnTransformer use this feature and define the default style\n",
              "- Estimators will overwrite some part of the style using the `sk-estimator` class\n",
              "*/\n",
              "\n",
              "/* Pipeline and ColumnTransformer style (default) */\n",
              "\n",
              "#sk-container-id-1 div.sk-toggleable {\n",
              "  /* Default theme specific background. It is overwritten whether we have a\n",
              "  specific estimator or a Pipeline/ColumnTransformer */\n",
              "  background-color: var(--sklearn-color-background);\n",
              "}\n",
              "\n",
              "/* Toggleable label */\n",
              "#sk-container-id-1 label.sk-toggleable__label {\n",
              "  cursor: pointer;\n",
              "  display: flex;\n",
              "  width: 100%;\n",
              "  margin-bottom: 0;\n",
              "  padding: 0.5em;\n",
              "  box-sizing: border-box;\n",
              "  text-align: center;\n",
              "  align-items: start;\n",
              "  justify-content: space-between;\n",
              "  gap: 0.5em;\n",
              "}\n",
              "\n",
              "#sk-container-id-1 label.sk-toggleable__label .caption {\n",
              "  font-size: 0.6rem;\n",
              "  font-weight: lighter;\n",
              "  color: var(--sklearn-color-text-muted);\n",
              "}\n",
              "\n",
              "#sk-container-id-1 label.sk-toggleable__label-arrow:before {\n",
              "  /* Arrow on the left of the label */\n",
              "  content: \"▸\";\n",
              "  float: left;\n",
              "  margin-right: 0.25em;\n",
              "  color: var(--sklearn-color-icon);\n",
              "}\n",
              "\n",
              "#sk-container-id-1 label.sk-toggleable__label-arrow:hover:before {\n",
              "  color: var(--sklearn-color-text);\n",
              "}\n",
              "\n",
              "/* Toggleable content - dropdown */\n",
              "\n",
              "#sk-container-id-1 div.sk-toggleable__content {\n",
              "  max-height: 0;\n",
              "  max-width: 0;\n",
              "  overflow: hidden;\n",
              "  text-align: left;\n",
              "  /* unfitted */\n",
              "  background-color: var(--sklearn-color-unfitted-level-0);\n",
              "}\n",
              "\n",
              "#sk-container-id-1 div.sk-toggleable__content.fitted {\n",
              "  /* fitted */\n",
              "  background-color: var(--sklearn-color-fitted-level-0);\n",
              "}\n",
              "\n",
              "#sk-container-id-1 div.sk-toggleable__content pre {\n",
              "  margin: 0.2em;\n",
              "  border-radius: 0.25em;\n",
              "  color: var(--sklearn-color-text);\n",
              "  /* unfitted */\n",
              "  background-color: var(--sklearn-color-unfitted-level-0);\n",
              "}\n",
              "\n",
              "#sk-container-id-1 div.sk-toggleable__content.fitted pre {\n",
              "  /* unfitted */\n",
              "  background-color: var(--sklearn-color-fitted-level-0);\n",
              "}\n",
              "\n",
              "#sk-container-id-1 input.sk-toggleable__control:checked~div.sk-toggleable__content {\n",
              "  /* Expand drop-down */\n",
              "  max-height: 200px;\n",
              "  max-width: 100%;\n",
              "  overflow: auto;\n",
              "}\n",
              "\n",
              "#sk-container-id-1 input.sk-toggleable__control:checked~label.sk-toggleable__label-arrow:before {\n",
              "  content: \"▾\";\n",
              "}\n",
              "\n",
              "/* Pipeline/ColumnTransformer-specific style */\n",
              "\n",
              "#sk-container-id-1 div.sk-label input.sk-toggleable__control:checked~label.sk-toggleable__label {\n",
              "  color: var(--sklearn-color-text);\n",
              "  background-color: var(--sklearn-color-unfitted-level-2);\n",
              "}\n",
              "\n",
              "#sk-container-id-1 div.sk-label.fitted input.sk-toggleable__control:checked~label.sk-toggleable__label {\n",
              "  background-color: var(--sklearn-color-fitted-level-2);\n",
              "}\n",
              "\n",
              "/* Estimator-specific style */\n",
              "\n",
              "/* Colorize estimator box */\n",
              "#sk-container-id-1 div.sk-estimator input.sk-toggleable__control:checked~label.sk-toggleable__label {\n",
              "  /* unfitted */\n",
              "  background-color: var(--sklearn-color-unfitted-level-2);\n",
              "}\n",
              "\n",
              "#sk-container-id-1 div.sk-estimator.fitted input.sk-toggleable__control:checked~label.sk-toggleable__label {\n",
              "  /* fitted */\n",
              "  background-color: var(--sklearn-color-fitted-level-2);\n",
              "}\n",
              "\n",
              "#sk-container-id-1 div.sk-label label.sk-toggleable__label,\n",
              "#sk-container-id-1 div.sk-label label {\n",
              "  /* The background is the default theme color */\n",
              "  color: var(--sklearn-color-text-on-default-background);\n",
              "}\n",
              "\n",
              "/* On hover, darken the color of the background */\n",
              "#sk-container-id-1 div.sk-label:hover label.sk-toggleable__label {\n",
              "  color: var(--sklearn-color-text);\n",
              "  background-color: var(--sklearn-color-unfitted-level-2);\n",
              "}\n",
              "\n",
              "/* Label box, darken color on hover, fitted */\n",
              "#sk-container-id-1 div.sk-label.fitted:hover label.sk-toggleable__label.fitted {\n",
              "  color: var(--sklearn-color-text);\n",
              "  background-color: var(--sklearn-color-fitted-level-2);\n",
              "}\n",
              "\n",
              "/* Estimator label */\n",
              "\n",
              "#sk-container-id-1 div.sk-label label {\n",
              "  font-family: monospace;\n",
              "  font-weight: bold;\n",
              "  display: inline-block;\n",
              "  line-height: 1.2em;\n",
              "}\n",
              "\n",
              "#sk-container-id-1 div.sk-label-container {\n",
              "  text-align: center;\n",
              "}\n",
              "\n",
              "/* Estimator-specific */\n",
              "#sk-container-id-1 div.sk-estimator {\n",
              "  font-family: monospace;\n",
              "  border: 1px dotted var(--sklearn-color-border-box);\n",
              "  border-radius: 0.25em;\n",
              "  box-sizing: border-box;\n",
              "  margin-bottom: 0.5em;\n",
              "  /* unfitted */\n",
              "  background-color: var(--sklearn-color-unfitted-level-0);\n",
              "}\n",
              "\n",
              "#sk-container-id-1 div.sk-estimator.fitted {\n",
              "  /* fitted */\n",
              "  background-color: var(--sklearn-color-fitted-level-0);\n",
              "}\n",
              "\n",
              "/* on hover */\n",
              "#sk-container-id-1 div.sk-estimator:hover {\n",
              "  /* unfitted */\n",
              "  background-color: var(--sklearn-color-unfitted-level-2);\n",
              "}\n",
              "\n",
              "#sk-container-id-1 div.sk-estimator.fitted:hover {\n",
              "  /* fitted */\n",
              "  background-color: var(--sklearn-color-fitted-level-2);\n",
              "}\n",
              "\n",
              "/* Specification for estimator info (e.g. \"i\" and \"?\") */\n",
              "\n",
              "/* Common style for \"i\" and \"?\" */\n",
              "\n",
              ".sk-estimator-doc-link,\n",
              "a:link.sk-estimator-doc-link,\n",
              "a:visited.sk-estimator-doc-link {\n",
              "  float: right;\n",
              "  font-size: smaller;\n",
              "  line-height: 1em;\n",
              "  font-family: monospace;\n",
              "  background-color: var(--sklearn-color-background);\n",
              "  border-radius: 1em;\n",
              "  height: 1em;\n",
              "  width: 1em;\n",
              "  text-decoration: none !important;\n",
              "  margin-left: 0.5em;\n",
              "  text-align: center;\n",
              "  /* unfitted */\n",
              "  border: var(--sklearn-color-unfitted-level-1) 1pt solid;\n",
              "  color: var(--sklearn-color-unfitted-level-1);\n",
              "}\n",
              "\n",
              ".sk-estimator-doc-link.fitted,\n",
              "a:link.sk-estimator-doc-link.fitted,\n",
              "a:visited.sk-estimator-doc-link.fitted {\n",
              "  /* fitted */\n",
              "  border: var(--sklearn-color-fitted-level-1) 1pt solid;\n",
              "  color: var(--sklearn-color-fitted-level-1);\n",
              "}\n",
              "\n",
              "/* On hover */\n",
              "div.sk-estimator:hover .sk-estimator-doc-link:hover,\n",
              ".sk-estimator-doc-link:hover,\n",
              "div.sk-label-container:hover .sk-estimator-doc-link:hover,\n",
              ".sk-estimator-doc-link:hover {\n",
              "  /* unfitted */\n",
              "  background-color: var(--sklearn-color-unfitted-level-3);\n",
              "  color: var(--sklearn-color-background);\n",
              "  text-decoration: none;\n",
              "}\n",
              "\n",
              "div.sk-estimator.fitted:hover .sk-estimator-doc-link.fitted:hover,\n",
              ".sk-estimator-doc-link.fitted:hover,\n",
              "div.sk-label-container:hover .sk-estimator-doc-link.fitted:hover,\n",
              ".sk-estimator-doc-link.fitted:hover {\n",
              "  /* fitted */\n",
              "  background-color: var(--sklearn-color-fitted-level-3);\n",
              "  color: var(--sklearn-color-background);\n",
              "  text-decoration: none;\n",
              "}\n",
              "\n",
              "/* Span, style for the box shown on hovering the info icon */\n",
              ".sk-estimator-doc-link span {\n",
              "  display: none;\n",
              "  z-index: 9999;\n",
              "  position: relative;\n",
              "  font-weight: normal;\n",
              "  right: .2ex;\n",
              "  padding: .5ex;\n",
              "  margin: .5ex;\n",
              "  width: min-content;\n",
              "  min-width: 20ex;\n",
              "  max-width: 50ex;\n",
              "  color: var(--sklearn-color-text);\n",
              "  box-shadow: 2pt 2pt 4pt #999;\n",
              "  /* unfitted */\n",
              "  background: var(--sklearn-color-unfitted-level-0);\n",
              "  border: .5pt solid var(--sklearn-color-unfitted-level-3);\n",
              "}\n",
              "\n",
              ".sk-estimator-doc-link.fitted span {\n",
              "  /* fitted */\n",
              "  background: var(--sklearn-color-fitted-level-0);\n",
              "  border: var(--sklearn-color-fitted-level-3);\n",
              "}\n",
              "\n",
              ".sk-estimator-doc-link:hover span {\n",
              "  display: block;\n",
              "}\n",
              "\n",
              "/* \"?\"-specific style due to the `<a>` HTML tag */\n",
              "\n",
              "#sk-container-id-1 a.estimator_doc_link {\n",
              "  float: right;\n",
              "  font-size: 1rem;\n",
              "  line-height: 1em;\n",
              "  font-family: monospace;\n",
              "  background-color: var(--sklearn-color-background);\n",
              "  border-radius: 1rem;\n",
              "  height: 1rem;\n",
              "  width: 1rem;\n",
              "  text-decoration: none;\n",
              "  /* unfitted */\n",
              "  color: var(--sklearn-color-unfitted-level-1);\n",
              "  border: var(--sklearn-color-unfitted-level-1) 1pt solid;\n",
              "}\n",
              "\n",
              "#sk-container-id-1 a.estimator_doc_link.fitted {\n",
              "  /* fitted */\n",
              "  border: var(--sklearn-color-fitted-level-1) 1pt solid;\n",
              "  color: var(--sklearn-color-fitted-level-1);\n",
              "}\n",
              "\n",
              "/* On hover */\n",
              "#sk-container-id-1 a.estimator_doc_link:hover {\n",
              "  /* unfitted */\n",
              "  background-color: var(--sklearn-color-unfitted-level-3);\n",
              "  color: var(--sklearn-color-background);\n",
              "  text-decoration: none;\n",
              "}\n",
              "\n",
              "#sk-container-id-1 a.estimator_doc_link.fitted:hover {\n",
              "  /* fitted */\n",
              "  background-color: var(--sklearn-color-fitted-level-3);\n",
              "}\n",
              "</style><div id=\"sk-container-id-1\" class=\"sk-top-container\"><div class=\"sk-text-repr-fallback\"><pre>GridSearchCV(cv=5, estimator=KNeighborsClassifier(), n_jobs=-1,\n",
              "             param_grid={&#x27;n_neighbors&#x27;: [1, 2, 3, 4, 5, 6, 7, 8, 9, 10, 11, 12,\n",
              "                                         13, 14, 15, 16, 17, 18, 19]},\n",
              "             scoring=&#x27;f1&#x27;)</pre><b>In a Jupyter environment, please rerun this cell to show the HTML representation or trust the notebook. <br />On GitHub, the HTML representation is unable to render, please try loading this page with nbviewer.org.</b></div><div class=\"sk-container\" hidden><div class=\"sk-item sk-dashed-wrapped\"><div class=\"sk-label-container\"><div class=\"sk-label fitted sk-toggleable\"><input class=\"sk-toggleable__control sk-hidden--visually\" id=\"sk-estimator-id-1\" type=\"checkbox\" ><label for=\"sk-estimator-id-1\" class=\"sk-toggleable__label fitted sk-toggleable__label-arrow\"><div><div>GridSearchCV</div></div><div><a class=\"sk-estimator-doc-link fitted\" rel=\"noreferrer\" target=\"_blank\" href=\"https://scikit-learn.org/1.6/modules/generated/sklearn.model_selection.GridSearchCV.html\">?<span>Documentation for GridSearchCV</span></a><span class=\"sk-estimator-doc-link fitted\">i<span>Fitted</span></span></div></label><div class=\"sk-toggleable__content fitted\"><pre>GridSearchCV(cv=5, estimator=KNeighborsClassifier(), n_jobs=-1,\n",
              "             param_grid={&#x27;n_neighbors&#x27;: [1, 2, 3, 4, 5, 6, 7, 8, 9, 10, 11, 12,\n",
              "                                         13, 14, 15, 16, 17, 18, 19]},\n",
              "             scoring=&#x27;f1&#x27;)</pre></div> </div></div><div class=\"sk-parallel\"><div class=\"sk-parallel-item\"><div class=\"sk-item\"><div class=\"sk-label-container\"><div class=\"sk-label fitted sk-toggleable\"><input class=\"sk-toggleable__control sk-hidden--visually\" id=\"sk-estimator-id-2\" type=\"checkbox\" ><label for=\"sk-estimator-id-2\" class=\"sk-toggleable__label fitted sk-toggleable__label-arrow\"><div><div>best_estimator_: KNeighborsClassifier</div></div></label><div class=\"sk-toggleable__content fitted\"><pre>KNeighborsClassifier(n_neighbors=19)</pre></div> </div></div><div class=\"sk-serial\"><div class=\"sk-item\"><div class=\"sk-estimator fitted sk-toggleable\"><input class=\"sk-toggleable__control sk-hidden--visually\" id=\"sk-estimator-id-3\" type=\"checkbox\" ><label for=\"sk-estimator-id-3\" class=\"sk-toggleable__label fitted sk-toggleable__label-arrow\"><div><div>KNeighborsClassifier</div></div><div><a class=\"sk-estimator-doc-link fitted\" rel=\"noreferrer\" target=\"_blank\" href=\"https://scikit-learn.org/1.6/modules/generated/sklearn.neighbors.KNeighborsClassifier.html\">?<span>Documentation for KNeighborsClassifier</span></a></div></label><div class=\"sk-toggleable__content fitted\"><pre>KNeighborsClassifier(n_neighbors=19)</pre></div> </div></div></div></div></div></div></div></div></div>"
            ],
            "text/plain": [
              "GridSearchCV(cv=5, estimator=KNeighborsClassifier(), n_jobs=-1,\n",
              "             param_grid={'n_neighbors': [1, 2, 3, 4, 5, 6, 7, 8, 9, 10, 11, 12,\n",
              "                                         13, 14, 15, 16, 17, 18, 19]},\n",
              "             scoring='f1')"
            ]
          },
          "execution_count": 41,
          "metadata": {},
          "output_type": "execute_result"
        }
      ],
      "source": [
        "# 11.3 — Ejecutar búsqueda\n",
        "grid_knn.fit(X_train_gs, y_train_gs)\n"
      ]
    },
    {
      "cell_type": "code",
      "execution_count": null,
      "metadata": {
        "colab": {
          "base_uri": "https://localhost:8080/"
        },
        "id": "rddYSZvoZt82",
        "outputId": "9c6efbdf-0148-4358-c85b-22d6c2ce91c1"
      },
      "outputs": [
        {
          "name": "stdout",
          "output_type": "stream",
          "text": [
            "Mejor k: 19\n",
            "Mejor F1-score (CV5): 0.7395\n"
          ]
        }
      ],
      "source": [
        "# 11.4 — Mostrar resultados\n",
        "best_k    = grid_knn.best_params_['n_neighbors']\n",
        "best_f1   = grid_knn.best_score_\n",
        "\n",
        "print(f\"Mejor k: {best_k}\")\n",
        "print(f\"Mejor F1-score (CV5): {best_f1:.4f}\")\n"
      ]
    },
    {
      "cell_type": "code",
      "execution_count": null,
      "metadata": {
        "colab": {
          "base_uri": "https://localhost:8080/",
          "height": 410
        },
        "id": "2bhCfBgYZuwk",
        "outputId": "1f103430-fdb7-4916-d7a5-dcb06b0eb0a0"
      },
      "outputs": [
        {
          "data": {
            "image/png": "[encoded data removed]",
            "text/plain": [
              "<Figure size 600x400 with 1 Axes>"
            ]
          },
          "metadata": {},
          "output_type": "display_data"
        }
      ],
      "source": [
        "# 11.5 — (Opcional) Curva de validación: F1 vs k\n",
        "results = pd.DataFrame(grid_knn.cv_results_)[['param_n_neighbors','mean_test_score']]\n",
        "results.plot(x='param_n_neighbors', y='mean_test_score', marker='o', figsize=(6,4))\n",
        "plt.xlabel('Número de vecinos (k)')\n",
        "plt.ylabel('F1-score (validación)')\n",
        "plt.title('Validación de k en KNN')\n",
        "plt.grid(True)\n",
        "plt.show()\n"
      ]
    },
    {
      "cell_type": "markdown",
      "metadata": {
        "id": "uUEKeQcTcIDM"
      },
      "source": [
        "## 12. 📊 Evaluación del Modelo KNN Ajustado\n",
        "\n",
        "En esta sección ajustamos el KNN definitivo con el valor óptimo de k encontrado (19), obtenemos predicciones y probabilidades, y calculamos las métricas de desempeño y la curva ROC.\n",
        "\n"
      ]
    },
    {
      "cell_type": "markdown",
      "metadata": {
        "id": "8U_lvcRicYss"
      },
      "source": [
        "### 12.1 Entrenar el modelo definitivo\n",
        "Usamos `k=19` para volver a entrenar el clasificador sobre todo el conjunto de entrenamiento.\n"
      ]
    },
    {
      "cell_type": "code",
      "execution_count": null,
      "metadata": {
        "colab": {
          "base_uri": "https://localhost:8080/",
          "height": 80
        },
        "id": "w7ojWk17cS2Z",
        "outputId": "21d45e1c-2bce-421b-802f-5804ed7fbe04"
      },
      "outputs": [
        {
          "data": {
            "text/html": [
              "<style>#sk-container-id-2 {\n",
              "  /* Definition of color scheme common for light and dark mode */\n",
              "  --sklearn-color-text: #000;\n",
              "  --sklearn-color-text-muted: #666;\n",
              "  --sklearn-color-line: gray;\n",
              "  /* Definition of color scheme for unfitted estimators */\n",
              "  --sklearn-color-unfitted-level-0: #fff5e6;\n",
              "  --sklearn-color-unfitted-level-1: #f6e4d2;\n",
              "  --sklearn-color-unfitted-level-2: #ffe0b3;\n",
              "  --sklearn-color-unfitted-level-3: chocolate;\n",
              "  /* Definition of color scheme for fitted estimators */\n",
              "  --sklearn-color-fitted-level-0: #f0f8ff;\n",
              "  --sklearn-color-fitted-level-1: #d4ebff;\n",
              "  --sklearn-color-fitted-level-2: #b3dbfd;\n",
              "  --sklearn-color-fitted-level-3: cornflowerblue;\n",
              "\n",
              "  /* Specific color for light theme */\n",
              "  --sklearn-color-text-on-default-background: var(--sg-text-color, var(--theme-code-foreground, var(--jp-content-font-color1, black)));\n",
              "  --sklearn-color-background: var(--sg-background-color, var(--theme-background, var(--jp-layout-color0, white)));\n",
              "  --sklearn-color-border-box: var(--sg-text-color, var(--theme-code-foreground, var(--jp-content-font-color1, black)));\n",
              "  --sklearn-color-icon: #696969;\n",
              "\n",
              "  @media (prefers-color-scheme: dark) {\n",
              "    /* Redefinition of color scheme for dark theme */\n",
              "    --sklearn-color-text-on-default-background: var(--sg-text-color, var(--theme-code-foreground, var(--jp-content-font-color1, white)));\n",
              "    --sklearn-color-background: var(--sg-background-color, var(--theme-background, var(--jp-layout-color0, #111)));\n",
              "    --sklearn-color-border-box: var(--sg-text-color, var(--theme-code-foreground, var(--jp-content-font-color1, white)));\n",
              "    --sklearn-color-icon: #878787;\n",
              "  }\n",
              "}\n",
              "\n",
              "#sk-container-id-2 {\n",
              "  color: var(--sklearn-color-text);\n",
              "}\n",
              "\n",
              "#sk-container-id-2 pre {\n",
              "  padding: 0;\n",
              "}\n",
              "\n",
              "#sk-container-id-2 input.sk-hidden--visually {\n",
              "  border: 0;\n",
              "  clip: rect(1px 1px 1px 1px);\n",
              "  clip: rect(1px, 1px, 1px, 1px);\n",
              "  height: 1px;\n",
              "  margin: -1px;\n",
              "  overflow: hidden;\n",
              "  padding: 0;\n",
              "  position: absolute;\n",
              "  width: 1px;\n",
              "}\n",
              "\n",
              "#sk-container-id-2 div.sk-dashed-wrapped {\n",
              "  border: 1px dashed var(--sklearn-color-line);\n",
              "  margin: 0 0.4em 0.5em 0.4em;\n",
              "  box-sizing: border-box;\n",
              "  padding-bottom: 0.4em;\n",
              "  background-color: var(--sklearn-color-background);\n",
              "}\n",
              "\n",
              "#sk-container-id-2 div.sk-container {\n",
              "  /* jupyter's `normalize.less` sets `[hidden] { display: none; }`\n",
              "     but bootstrap.min.css set `[hidden] { display: none !important; }`\n",
              "     so we also need the `!important` here to be able to override the\n",
              "     default hidden behavior on the sphinx rendered scikit-learn.org.\n",
              "     See: https://github.com/scikit-learn/scikit-learn/issues/21755 */\n",
              "  display: inline-block !important;\n",
              "  position: relative;\n",
              "}\n",
              "\n",
              "#sk-container-id-2 div.sk-text-repr-fallback {\n",
              "  display: none;\n",
              "}\n",
              "\n",
              "div.sk-parallel-item,\n",
              "div.sk-serial,\n",
              "div.sk-item {\n",
              "  /* draw centered vertical line to link estimators */\n",
              "  background-image: linear-gradient(var(--sklearn-color-text-on-default-background), var(--sklearn-color-text-on-default-background));\n",
              "  background-size: 2px 100%;\n",
              "  background-repeat: no-repeat;\n",
              "  background-position: center center;\n",
              "}\n",
              "\n",
              "/* Parallel-specific style estimator block */\n",
              "\n",
              "#sk-container-id-2 div.sk-parallel-item::after {\n",
              "  content: \"\";\n",
              "  width: 100%;\n",
              "  border-bottom: 2px solid var(--sklearn-color-text-on-default-background);\n",
              "  flex-grow: 1;\n",
              "}\n",
              "\n",
              "#sk-container-id-2 div.sk-parallel {\n",
              "  display: flex;\n",
              "  align-items: stretch;\n",
              "  justify-content: center;\n",
              "  background-color: var(--sklearn-color-background);\n",
              "  position: relative;\n",
              "}\n",
              "\n",
              "#sk-container-id-2 div.sk-parallel-item {\n",
              "  display: flex;\n",
              "  flex-direction: column;\n",
              "}\n",
              "\n",
              "#sk-container-id-2 div.sk-parallel-item:first-child::after {\n",
              "  align-self: flex-end;\n",
              "  width: 50%;\n",
              "}\n",
              "\n",
              "#sk-container-id-2 div.sk-parallel-item:last-child::after {\n",
              "  align-self: flex-start;\n",
              "  width: 50%;\n",
              "}\n",
              "\n",
              "#sk-container-id-2 div.sk-parallel-item:only-child::after {\n",
              "  width: 0;\n",
              "}\n",
              "\n",
              "/* Serial-specific style estimator block */\n",
              "\n",
              "#sk-container-id-2 div.sk-serial {\n",
              "  display: flex;\n",
              "  flex-direction: column;\n",
              "  align-items: center;\n",
              "  background-color: var(--sklearn-color-background);\n",
              "  padding-right: 1em;\n",
              "  padding-left: 1em;\n",
              "}\n",
              "\n",
              "\n",
              "/* Toggleable style: style used for estimator/Pipeline/ColumnTransformer box that is\n",
              "clickable and can be expanded/collapsed.\n",
              "- Pipeline and ColumnTransformer use this feature and define the default style\n",
              "- Estimators will overwrite some part of the style using the `sk-estimator` class\n",
              "*/\n",
              "\n",
              "/* Pipeline and ColumnTransformer style (default) */\n",
              "\n",
              "#sk-container-id-2 div.sk-toggleable {\n",
              "  /* Default theme specific background. It is overwritten whether we have a\n",
              "  specific estimator or a Pipeline/ColumnTransformer */\n",
              "  background-color: var(--sklearn-color-background);\n",
              "}\n",
              "\n",
              "/* Toggleable label */\n",
              "#sk-container-id-2 label.sk-toggleable__label {\n",
              "  cursor: pointer;\n",
              "  display: flex;\n",
              "  width: 100%;\n",
              "  margin-bottom: 0;\n",
              "  padding: 0.5em;\n",
              "  box-sizing: border-box;\n",
              "  text-align: center;\n",
              "  align-items: start;\n",
              "  justify-content: space-between;\n",
              "  gap: 0.5em;\n",
              "}\n",
              "\n",
              "#sk-container-id-2 label.sk-toggleable__label .caption {\n",
              "  font-size: 0.6rem;\n",
              "  font-weight: lighter;\n",
              "  color: var(--sklearn-color-text-muted);\n",
              "}\n",
              "\n",
              "#sk-container-id-2 label.sk-toggleable__label-arrow:before {\n",
              "  /* Arrow on the left of the label */\n",
              "  content: \"▸\";\n",
              "  float: left;\n",
              "  margin-right: 0.25em;\n",
              "  color: var(--sklearn-color-icon);\n",
              "}\n",
              "\n",
              "#sk-container-id-2 label.sk-toggleable__label-arrow:hover:before {\n",
              "  color: var(--sklearn-color-text);\n",
              "}\n",
              "\n",
              "/* Toggleable content - dropdown */\n",
              "\n",
              "#sk-container-id-2 div.sk-toggleable__content {\n",
              "  max-height: 0;\n",
              "  max-width: 0;\n",
              "  overflow: hidden;\n",
              "  text-align: left;\n",
              "  /* unfitted */\n",
              "  background-color: var(--sklearn-color-unfitted-level-0);\n",
              "}\n",
              "\n",
              "#sk-container-id-2 div.sk-toggleable__content.fitted {\n",
              "  /* fitted */\n",
              "  background-color: var(--sklearn-color-fitted-level-0);\n",
              "}\n",
              "\n",
              "#sk-container-id-2 div.sk-toggleable__content pre {\n",
              "  margin: 0.2em;\n",
              "  border-radius: 0.25em;\n",
              "  color: var(--sklearn-color-text);\n",
              "  /* unfitted */\n",
              "  background-color: var(--sklearn-color-unfitted-level-0);\n",
              "}\n",
              "\n",
              "#sk-container-id-2 div.sk-toggleable__content.fitted pre {\n",
              "  /* unfitted */\n",
              "  background-color: var(--sklearn-color-fitted-level-0);\n",
              "}\n",
              "\n",
              "#sk-container-id-2 input.sk-toggleable__control:checked~div.sk-toggleable__content {\n",
              "  /* Expand drop-down */\n",
              "  max-height: 200px;\n",
              "  max-width: 100%;\n",
              "  overflow: auto;\n",
              "}\n",
              "\n",
              "#sk-container-id-2 input.sk-toggleable__control:checked~label.sk-toggleable__label-arrow:before {\n",
              "  content: \"▾\";\n",
              "}\n",
              "\n",
              "/* Pipeline/ColumnTransformer-specific style */\n",
              "\n",
              "#sk-container-id-2 div.sk-label input.sk-toggleable__control:checked~label.sk-toggleable__label {\n",
              "  color: var(--sklearn-color-text);\n",
              "  background-color: var(--sklearn-color-unfitted-level-2);\n",
              "}\n",
              "\n",
              "#sk-container-id-2 div.sk-label.fitted input.sk-toggleable__control:checked~label.sk-toggleable__label {\n",
              "  background-color: var(--sklearn-color-fitted-level-2);\n",
              "}\n",
              "\n",
              "/* Estimator-specific style */\n",
              "\n",
              "/* Colorize estimator box */\n",
              "#sk-container-id-2 div.sk-estimator input.sk-toggleable__control:checked~label.sk-toggleable__label {\n",
              "  /* unfitted */\n",
              "  background-color: var(--sklearn-color-unfitted-level-2);\n",
              "}\n",
              "\n",
              "#sk-container-id-2 div.sk-estimator.fitted input.sk-toggleable__control:checked~label.sk-toggleable__label {\n",
              "  /* fitted */\n",
              "  background-color: var(--sklearn-color-fitted-level-2);\n",
              "}\n",
              "\n",
              "#sk-container-id-2 div.sk-label label.sk-toggleable__label,\n",
              "#sk-container-id-2 div.sk-label label {\n",
              "  /* The background is the default theme color */\n",
              "  color: var(--sklearn-color-text-on-default-background);\n",
              "}\n",
              "\n",
              "/* On hover, darken the color of the background */\n",
              "#sk-container-id-2 div.sk-label:hover label.sk-toggleable__label {\n",
              "  color: var(--sklearn-color-text);\n",
              "  background-color: var(--sklearn-color-unfitted-level-2);\n",
              "}\n",
              "\n",
              "/* Label box, darken color on hover, fitted */\n",
              "#sk-container-id-2 div.sk-label.fitted:hover label.sk-toggleable__label.fitted {\n",
              "  color: var(--sklearn-color-text);\n",
              "  background-color: var(--sklearn-color-fitted-level-2);\n",
              "}\n",
              "\n",
              "/* Estimator label */\n",
              "\n",
              "#sk-container-id-2 div.sk-label label {\n",
              "  font-family: monospace;\n",
              "  font-weight: bold;\n",
              "  display: inline-block;\n",
              "  line-height: 1.2em;\n",
              "}\n",
              "\n",
              "#sk-container-id-2 div.sk-label-container {\n",
              "  text-align: center;\n",
              "}\n",
              "\n",
              "/* Estimator-specific */\n",
              "#sk-container-id-2 div.sk-estimator {\n",
              "  font-family: monospace;\n",
              "  border: 1px dotted var(--sklearn-color-border-box);\n",
              "  border-radius: 0.25em;\n",
              "  box-sizing: border-box;\n",
              "  margin-bottom: 0.5em;\n",
              "  /* unfitted */\n",
              "  background-color: var(--sklearn-color-unfitted-level-0);\n",
              "}\n",
              "\n",
              "#sk-container-id-2 div.sk-estimator.fitted {\n",
              "  /* fitted */\n",
              "  background-color: var(--sklearn-color-fitted-level-0);\n",
              "}\n",
              "\n",
              "/* on hover */\n",
              "#sk-container-id-2 div.sk-estimator:hover {\n",
              "  /* unfitted */\n",
              "  background-color: var(--sklearn-color-unfitted-level-2);\n",
              "}\n",
              "\n",
              "#sk-container-id-2 div.sk-estimator.fitted:hover {\n",
              "  /* fitted */\n",
              "  background-color: var(--sklearn-color-fitted-level-2);\n",
              "}\n",
              "\n",
              "/* Specification for estimator info (e.g. \"i\" and \"?\") */\n",
              "\n",
              "/* Common style for \"i\" and \"?\" */\n",
              "\n",
              ".sk-estimator-doc-link,\n",
              "a:link.sk-estimator-doc-link,\n",
              "a:visited.sk-estimator-doc-link {\n",
              "  float: right;\n",
              "  font-size: smaller;\n",
              "  line-height: 1em;\n",
              "  font-family: monospace;\n",
              "  background-color: var(--sklearn-color-background);\n",
              "  border-radius: 1em;\n",
              "  height: 1em;\n",
              "  width: 1em;\n",
              "  text-decoration: none !important;\n",
              "  margin-left: 0.5em;\n",
              "  text-align: center;\n",
              "  /* unfitted */\n",
              "  border: var(--sklearn-color-unfitted-level-1) 1pt solid;\n",
              "  color: var(--sklearn-color-unfitted-level-1);\n",
              "}\n",
              "\n",
              ".sk-estimator-doc-link.fitted,\n",
              "a:link.sk-estimator-doc-link.fitted,\n",
              "a:visited.sk-estimator-doc-link.fitted {\n",
              "  /* fitted */\n",
              "  border: var(--sklearn-color-fitted-level-1) 1pt solid;\n",
              "  color: var(--sklearn-color-fitted-level-1);\n",
              "}\n",
              "\n",
              "/* On hover */\n",
              "div.sk-estimator:hover .sk-estimator-doc-link:hover,\n",
              ".sk-estimator-doc-link:hover,\n",
              "div.sk-label-container:hover .sk-estimator-doc-link:hover,\n",
              ".sk-estimator-doc-link:hover {\n",
              "  /* unfitted */\n",
              "  background-color: var(--sklearn-color-unfitted-level-3);\n",
              "  color: var(--sklearn-color-background);\n",
              "  text-decoration: none;\n",
              "}\n",
              "\n",
              "div.sk-estimator.fitted:hover .sk-estimator-doc-link.fitted:hover,\n",
              ".sk-estimator-doc-link.fitted:hover,\n",
              "div.sk-label-container:hover .sk-estimator-doc-link.fitted:hover,\n",
              ".sk-estimator-doc-link.fitted:hover {\n",
              "  /* fitted */\n",
              "  background-color: var(--sklearn-color-fitted-level-3);\n",
              "  color: var(--sklearn-color-background);\n",
              "  text-decoration: none;\n",
              "}\n",
              "\n",
              "/* Span, style for the box shown on hovering the info icon */\n",
              ".sk-estimator-doc-link span {\n",
              "  display: none;\n",
              "  z-index: 9999;\n",
              "  position: relative;\n",
              "  font-weight: normal;\n",
              "  right: .2ex;\n",
              "  padding: .5ex;\n",
              "  margin: .5ex;\n",
              "  width: min-content;\n",
              "  min-width: 20ex;\n",
              "  max-width: 50ex;\n",
              "  color: var(--sklearn-color-text);\n",
              "  box-shadow: 2pt 2pt 4pt #999;\n",
              "  /* unfitted */\n",
              "  background: var(--sklearn-color-unfitted-level-0);\n",
              "  border: .5pt solid var(--sklearn-color-unfitted-level-3);\n",
              "}\n",
              "\n",
              ".sk-estimator-doc-link.fitted span {\n",
              "  /* fitted */\n",
              "  background: var(--sklearn-color-fitted-level-0);\n",
              "  border: var(--sklearn-color-fitted-level-3);\n",
              "}\n",
              "\n",
              ".sk-estimator-doc-link:hover span {\n",
              "  display: block;\n",
              "}\n",
              "\n",
              "/* \"?\"-specific style due to the `<a>` HTML tag */\n",
              "\n",
              "#sk-container-id-2 a.estimator_doc_link {\n",
              "  float: right;\n",
              "  font-size: 1rem;\n",
              "  line-height: 1em;\n",
              "  font-family: monospace;\n",
              "  background-color: var(--sklearn-color-background);\n",
              "  border-radius: 1rem;\n",
              "  height: 1rem;\n",
              "  width: 1rem;\n",
              "  text-decoration: none;\n",
              "  /* unfitted */\n",
              "  color: var(--sklearn-color-unfitted-level-1);\n",
              "  border: var(--sklearn-color-unfitted-level-1) 1pt solid;\n",
              "}\n",
              "\n",
              "#sk-container-id-2 a.estimator_doc_link.fitted {\n",
              "  /* fitted */\n",
              "  border: var(--sklearn-color-fitted-level-1) 1pt solid;\n",
              "  color: var(--sklearn-color-fitted-level-1);\n",
              "}\n",
              "\n",
              "/* On hover */\n",
              "#sk-container-id-2 a.estimator_doc_link:hover {\n",
              "  /* unfitted */\n",
              "  background-color: var(--sklearn-color-unfitted-level-3);\n",
              "  color: var(--sklearn-color-background);\n",
              "  text-decoration: none;\n",
              "}\n",
              "\n",
              "#sk-container-id-2 a.estimator_doc_link.fitted:hover {\n",
              "  /* fitted */\n",
              "  background-color: var(--sklearn-color-fitted-level-3);\n",
              "}\n",
              "</style><div id=\"sk-container-id-2\" class=\"sk-top-container\"><div class=\"sk-text-repr-fallback\"><pre>KNeighborsClassifier(n_neighbors=19)</pre><b>In a Jupyter environment, please rerun this cell to show the HTML representation or trust the notebook. <br />On GitHub, the HTML representation is unable to render, please try loading this page with nbviewer.org.</b></div><div class=\"sk-container\" hidden><div class=\"sk-item\"><div class=\"sk-estimator fitted sk-toggleable\"><input class=\"sk-toggleable__control sk-hidden--visually\" id=\"sk-estimator-id-4\" type=\"checkbox\" checked><label for=\"sk-estimator-id-4\" class=\"sk-toggleable__label fitted sk-toggleable__label-arrow\"><div><div>KNeighborsClassifier</div></div><div><a class=\"sk-estimator-doc-link fitted\" rel=\"noreferrer\" target=\"_blank\" href=\"https://scikit-learn.org/1.6/modules/generated/sklearn.neighbors.KNeighborsClassifier.html\">?<span>Documentation for KNeighborsClassifier</span></a><span class=\"sk-estimator-doc-link fitted\">i<span>Fitted</span></span></div></label><div class=\"sk-toggleable__content fitted\"><pre>KNeighborsClassifier(n_neighbors=19)</pre></div> </div></div></div></div>"
            ],
            "text/plain": [
              "KNeighborsClassifier(n_neighbors=19)"
            ]
          },
          "execution_count": 44,
          "metadata": {},
          "output_type": "execute_result"
        }
      ],
      "source": [
        "from sklearn.neighbors import KNeighborsClassifier\n",
        "\n",
        "knn_best = KNeighborsClassifier(n_neighbors=19)\n",
        "knn_best.fit(X_train, y_train)                   # Ajuste final\n"
      ]
    },
    {
      "cell_type": "markdown",
      "metadata": {
        "id": "_E0WdiLHccPS"
      },
      "source": [
        "### 12.2 Predicción y probabilidades\n",
        "Obtenemos tanto las etiquetas predichas como las probabilidades de la clase positiva para la curva ROC.\n"
      ]
    },
    {
      "cell_type": "code",
      "execution_count": null,
      "metadata": {
        "id": "F4EAiX50cStQ"
      },
      "outputs": [],
      "source": [
        "y_pred_best  = knn_best.predict(X_test)          # Etiquetas\n",
        "y_proba_best = knn_best.predict_proba(X_test)[:,1]  # Probabilidad clase “1”\n"
      ]
    },
    {
      "cell_type": "markdown",
      "metadata": {
        "id": "XjJ2bzZJceRZ"
      },
      "source": [
        "### 12.3 Métricas de clasificación\n",
        "Calculamos **accuracy**, **matriz de confusión** y **classification report** (precision, recall, f1-score).\n"
      ]
    },
    {
      "cell_type": "code",
      "execution_count": null,
      "metadata": {
        "colab": {
          "base_uri": "https://localhost:8080/"
        },
        "id": "z4Njf82zcSim",
        "outputId": "bf98d558-1f51-4596-e807-98cdbc8e5f35"
      },
      "outputs": [
        {
          "name": "stdout",
          "output_type": "stream",
          "text": [
            "Accuracy (k=): 0.7346\n",
            "\n",
            "Matriz de Confusión:\n",
            "[[4421 1921]\n",
            " [1456 4927]] \n",
            "\n",
            "Classification Report:\n",
            "              precision    recall  f1-score   support\n",
            "\n",
            "       False       0.75      0.70      0.72      6342\n",
            "        True       0.72      0.77      0.74      6383\n",
            "\n",
            "    accuracy                           0.73     12725\n",
            "   macro avg       0.74      0.73      0.73     12725\n",
            "weighted avg       0.74      0.73      0.73     12725\n",
            "\n"
          ]
        }
      ],
      "source": [
        "from sklearn.metrics import (\n",
        "    accuracy_score,\n",
        "    confusion_matrix,\n",
        "    classification_report\n",
        ")\n",
        "\n",
        "# Accuracy\n",
        "acc_best = accuracy_score(y_test, y_pred_best)\n",
        "print(f\"Accuracy (k=): {acc_best:.4f}\\n\")\n",
        "\n",
        "# Matriz de confusión\n",
        "cm_best = confusion_matrix(y_test, y_pred_best)\n",
        "print(\"Matriz de Confusión:\")\n",
        "print(cm_best, \"\\n\")\n",
        "\n",
        "# Reporte detallado\n",
        "print(\"Classification Report:\")\n",
        "print(classification_report(y_test, y_pred_best))\n"
      ]
    },
    {
      "cell_type": "code",
      "execution_count": null,
      "metadata": {
        "colab": {
          "base_uri": "https://localhost:8080/",
          "height": 407
        },
        "id": "cOmb7qg9do_1",
        "outputId": "b86ab577-a92a-4071-eb64-0a23df1b075f"
      },
      "outputs": [
        {
          "data": {
            "image/png": "[encoded data removed]",
            "text/plain": [
              "<Figure size 500x400 with 1 Axes>"
            ]
          },
          "metadata": {},
          "output_type": "display_data"
        }
      ],
      "source": [
        "import seaborn as sns\n",
        "\n",
        "# 12.3.1 — Plot de la matriz de confusión\n",
        "plt.figure(figsize=(5,4))\n",
        "sns.heatmap(\n",
        "    cm_best,\n",
        "    annot=True,        # muestra los valores\n",
        "    fmt='d',           # enteros\n",
        "    cmap='Blues',      # paleta de colores\n",
        "    cbar=False,\n",
        "    xticklabels=['No Diabetes', 'Diabetes'],\n",
        "    yticklabels=['No Diabetes', 'Diabetes']\n",
        ")\n",
        "plt.xlabel(\"Predicción\")\n",
        "plt.ylabel(\"Real\")\n",
        "plt.title(\"Matriz de Confusión — KNN (k=19)\")\n",
        "plt.tight_layout()\n",
        "plt.show()\n"
      ]
    },
    {
      "cell_type": "markdown",
      "metadata": {
        "id": "cK4qY6VachBo"
      },
      "source": [
        "### 12.4 Curva ROC y AUC\n",
        "Trazamos la curva ROC y calculamos el AUC para evaluar la capacidad discriminativa del clasificador.\n"
      ]
    },
    {
      "cell_type": "code",
      "execution_count": null,
      "metadata": {
        "colab": {
          "base_uri": "https://localhost:8080/",
          "height": 407
        },
        "id": "8ERghfdpcSOX",
        "outputId": "593c9404-d123-435b-ece8-f4daf3910bdd"
      },
      "outputs": [
        {
          "data": {
            "image/png": "[encoded data removed]",
            "text/plain": [
              "<Figure size 600x400 with 1 Axes>"
            ]
          },
          "metadata": {},
          "output_type": "display_data"
        }
      ],
      "source": [
        "from sklearn.metrics import roc_curve, roc_auc_score\n",
        "import matplotlib.pyplot as plt\n",
        "\n",
        "# Curva ROC\n",
        "fpr, tpr, _ = roc_curve(y_test, y_proba_best)\n",
        "auc_score   = roc_auc_score(y_test, y_proba_best)\n",
        "\n",
        "plt.figure(figsize=(6,4))\n",
        "plt.plot(fpr, tpr, label=f\"AUC = {auc_score:.3f}\")\n",
        "plt.plot([0,1],[0,1], '--', color='gray')\n",
        "plt.xlabel(\"False Positive Rate\")\n",
        "plt.ylabel(\"True Positive Rate\")\n",
        "plt.title(\"Curva ROC — KNN (k=19)\")\n",
        "plt.legend()\n",
        "plt.tight_layout()\n",
        "plt.show()\n"
      ]
    },
    {
      "cell_type": "markdown",
      "metadata": {
        "id": "Pm5frYcJeZJ3"
      },
      "source": [
        "## 13. 📈 Curvas de Aprendizaje y Validación\n",
        "En esta sección trazaremos las curvas de aprendizaje del modelo KNN con k=19 para observar cómo evoluciona el rendimiento (F1-score) al variar el tamaño del conjunto de entrenamiento. Esto nos ayuda a diagnosticar sesgo y varianza."
      ]
    },
    {
      "cell_type": "markdown",
      "metadata": {
        "id": "lUcueU_fednX"
      },
      "source": [
        "### 13.1 Preparación\n",
        "Usamos `learning_curve` con validación cruzada 5-fold, F1-score como métrica y distintos tamaños de entrenamiento.\n"
      ]
    },
    {
      "cell_type": "code",
      "execution_count": null,
      "metadata": {
        "id": "ll2jYdPpeft9"
      },
      "outputs": [],
      "source": [
        "from sklearn.model_selection import learning_curve\n",
        "\n",
        "# 13.1 — Parámetros de la curva de aprendizaje\n",
        "estimator = KNeighborsClassifier(n_neighbors=19)\n",
        "train_sizes = [0.1, 0.3, 0.5, 0.7, 1.0]  # fracciones de X_train\n",
        "\n",
        "# 13.2 — Calcular learning curve\n",
        "train_sizes_abs, train_scores, val_scores = learning_curve(\n",
        "    estimator,\n",
        "    X_train, y_train,\n",
        "    train_sizes=train_sizes,\n",
        "    cv=5,\n",
        "    scoring='f1',\n",
        "    n_jobs=-1\n",
        ")\n"
      ]
    },
    {
      "cell_type": "markdown",
      "metadata": {
        "id": "AYnRKk9FehgJ"
      },
      "source": [
        "### 13.2 Graficar resultados\n",
        "Mostramos media y desviación estándar de los scores de entrenamiento y validación.\n"
      ]
    },
    {
      "cell_type": "code",
      "execution_count": null,
      "metadata": {
        "colab": {
          "base_uri": "https://localhost:8080/",
          "height": 507
        },
        "id": "JCD9KYXqejLR",
        "outputId": "f153231e-9372-42a5-ee54-a98621597395"
      },
      "outputs": [
        {
          "data": {
            "image/png": "[encoded data removed]",
            "text/plain": [
              "<Figure size 700x500 with 1 Axes>"
            ]
          },
          "metadata": {},
          "output_type": "display_data"
        }
      ],
      "source": [
        "# 13.3 — Estadísticos de aprendizaje\n",
        "import numpy as np\n",
        "\n",
        "train_mean = np.mean(train_scores, axis=1)\n",
        "train_std  = np.std(train_scores, axis=1)\n",
        "val_mean   = np.mean(val_scores, axis=1)\n",
        "val_std    = np.std(val_scores, axis=1)\n",
        "\n",
        "# 13.4 — Plot\n",
        "plt.figure(figsize=(7,5))\n",
        "plt.plot(train_sizes_abs, train_mean,  'o-', label='Entrenamiento')\n",
        "plt.fill_between(train_sizes_abs, train_mean-train_std, train_mean+train_std, alpha=0.2)\n",
        "\n",
        "plt.plot(train_sizes_abs, val_mean, 'o-', label='Validación')\n",
        "plt.fill_between(train_sizes_abs, val_mean-val_std, val_mean+val_std, alpha=0.2)\n",
        "\n",
        "plt.xlabel(\"Tamaño del conjunto de entrenamiento\")\n",
        "plt.ylabel(\"F1-score\")\n",
        "plt.title(\"Curvas de Aprendizaje — KNN (k=19)\")\n",
        "plt.legend()\n",
        "plt.grid(True)\n",
        "plt.tight_layout()\n",
        "plt.show()\n"
      ]
    },
    {
      "cell_type": "markdown",
      "metadata": {
        "id": "bqQidFyyelLu"
      },
      "source": [
        "### 13.3 Interpretación\n",
        "- **Sesgo:** Si la curva de validación se estabiliza por debajo de la de entrenamiento, puede haber alto sesgo.  \n",
        "- **Varianza:** Si ambas curvas divergen a medida que aumenta la muestra, indica varianza.  \n",
        "En nuestro caso, observamos que el F1-score de validación se acerca al de entrenamiento al crecer los datos, lo cual sugiere un buen balance entre sesgo y varianza, y que agregar más datos podría mejorar ligeramente el rendimiento.\n"
      ]
    },
    {
      "cell_type": "markdown",
      "metadata": {
        "id": "WuMuwuPdiFsd"
      },
      "source": [
        "## 14. 📝 Conclusiones y Recomendaciones"
      ]
    },
    {
      "cell_type": "markdown",
      "metadata": {
        "id": "h7g4Iw6oiKGv"
      },
      "source": [
        "\n",
        "**Conclusiones**  \n",
        "- El clasificador KNN con \\(k=19\\) alcanzó una **accuracy** de 0.7346, un **F1-score** alrededor de 0.73–0.74 y un **AUC** de 0.806, lo que demuestra una buena capacidad para distinguir entre casos con y sin diabetes.  \n",
        "- La matriz de confusión muestra un equilibrio razonable entre verdaderos positivos/negativos y falsos positivos/negativos, reflejando un modelo estable.  \n",
        "- Las curvas de aprendizaje indican un bajo sesgo y varianza moderada: ambas curvas (entrenamiento y validación) convergen al aumentar los datos, señalando que más ejemplos podrían mejorar ligeramente el rendimiento.\n",
        "\n",
        "**Recomendaciones**  \n",
        "1. **Probar otros algoritmos** — Logistic Regression, Random Forest o SVM pueden ofrecer mejoras y servir de comparación.  \n",
        "2. **Afinar distancia y pesos** — experimentar con métricas distintas (manhattan, minkowski) y ponderaciones por inverso de la distancia.  \n",
        "3. **Selección de características** — reducir variables poco informativas (feature selection) o usar PCA para acelerar predicciones.  \n",
        "4. **Recolección de datos** — ampliar el conjunto si es posible; más muestras refuerzan la generalización.  \n",
        "5. **Implementación en producción** — optimizar el cálculo de vecinos (KD-trees, Ball-trees) para reducir latencia en tiempo real.  \n",
        "6. **Monitoreo continuo** — vigilar deriva de datos y recalibrar el modelo periódicamente con nuevas observaciones.\n"
      ]
    },
    {
      "cell_type": "markdown",
      "metadata": {
        "id": "nwo1LhQk720b"
      },
      "source": [
        "## **15. Entrenamiento de Modelo de Regresión Logística**\n",
        "\n",
        "Un modelo de regresión logística es un algoritmo de aprendizaje supervisado utilizado para predecir una variable categórica binaria, es decir, aquella que solo puede tomar dos valores posibles (como sí/no, positivo/negativo, verdadero/falso).\n",
        "\n",
        "A diferencia de la regresión lineal, que predice valores continuos, la regresión logística calcula la probabilidad de que una observación pertenezca a una clase específica. Para ello, utiliza la función logística (o sigmoide), que transforma cualquier valor real en un rango entre 0 y 1. Con base en un umbral (usualmente 0.5), se asigna la clase final.\n",
        "\n",
        "Es ampliamente usada en problemas como detección de enfermedades, clasificación de correos como spam o no spam, y predicción de abandono escolar, entre otros.\n",
        "\n",
        "Para entrenar un modelo de regresión logística es necesario:\n",
        "\n",
        "1. Pre-procesar y limpiar el dataset. Hay que asegurarse que las variables que sean categóricas estén en un formato tipo dummy.\n",
        "2. Dividir el dataset en datos de entrenamiento y evaluación.\n",
        "3. Crear un modelo de regresion logistica y entrenarlo con los datos de entrenamiento.\n",
        "4. Evaluar el modelo entrenado con los datos de evaluación.\n",
        "\n",
        "---\n",
        "\n"
      ]
    },
    {
      "cell_type": "markdown",
      "metadata": {
        "id": "0Xk9Sckd8Jrg"
      },
      "source": [
        "### 🔹 Sección 15.1 – Preparación del entorno y respaldo para Regresión Logística\n",
        "En esta sección vamos a:\n",
        "\n",
        "Crear una copia del conjunto original df con todas las transformaciones previas aplicadas (es decir, variables dummy, escalado, sin outliers extremos, etc.).\n",
        "\n",
        "Dividir nuevamente los datos en X (predictoras) e y (variable objetivo Diabetes_binary) si es necesario.\n",
        "\n",
        "Asegurarnos de que X_train y X_test estén correctamente definidos. Si ya los tienes de una partición anterior y no han sido alterados, los reutilizamos."
      ]
    },
    {
      "cell_type": "code",
      "execution_count": null,
      "metadata": {
        "colab": {
          "base_uri": "https://localhost:8080/"
        },
        "id": "CHfwhV8p8Lf6",
        "outputId": "b7c25af9-0b6e-43c1-886b-0d601b39894f"
      },
      "outputs": [
        {
          "name": "stdout",
          "output_type": "stream",
          "text": [
            "Entrenamiento: (50897, 47), Test: (12725, 47)\n"
          ]
        }
      ],
      "source": [
        "# 10.1 — Copia de seguridad antes de entrenar Regresión Logística\n",
        "X_train_log = X_train.copy()\n",
        "X_test_log  = X_test.copy()\n",
        "y_train_log = y_train.copy()\n",
        "y_test_log  = y_test.copy()\n",
        "\n",
        "print(f\"Entrenamiento: {X_train_log.shape}, Test: {X_test_log.shape}\")"
      ]
    },
    {
      "cell_type": "markdown",
      "metadata": {
        "id": "nM3QwY4i9DBn"
      },
      "source": [
        "### 15.2 ⚙️ Entrenamiento del Modelo de Regresión Logística\n",
        "En esta sección inicializamos y entrenamos un modelo de Regresión Logística, adecuado para clasificación binaria como es el caso del diagnóstico de diabetes (Diabetes_binary). Usaremos el solver 'liblinear', recomendado para datasets no tan grandes y que admite regularización L1 o L2."
      ]
    },
    {
      "cell_type": "code",
      "execution_count": null,
      "metadata": {
        "colab": {
          "base_uri": "https://localhost:8080/",
          "height": 80
        },
        "id": "MaM2_5im9F5y",
        "outputId": "31c3a1ee-79bc-4435-b6b0-c96e58a561b1"
      },
      "outputs": [
        {
          "data": {
            "text/html": [
              "<style>#sk-container-id-3 {\n",
              "  /* Definition of color scheme common for light and dark mode */\n",
              "  --sklearn-color-text: #000;\n",
              "  --sklearn-color-text-muted: #666;\n",
              "  --sklearn-color-line: gray;\n",
              "  /* Definition of color scheme for unfitted estimators */\n",
              "  --sklearn-color-unfitted-level-0: #fff5e6;\n",
              "  --sklearn-color-unfitted-level-1: #f6e4d2;\n",
              "  --sklearn-color-unfitted-level-2: #ffe0b3;\n",
              "  --sklearn-color-unfitted-level-3: chocolate;\n",
              "  /* Definition of color scheme for fitted estimators */\n",
              "  --sklearn-color-fitted-level-0: #f0f8ff;\n",
              "  --sklearn-color-fitted-level-1: #d4ebff;\n",
              "  --sklearn-color-fitted-level-2: #b3dbfd;\n",
              "  --sklearn-color-fitted-level-3: cornflowerblue;\n",
              "\n",
              "  /* Specific color for light theme */\n",
              "  --sklearn-color-text-on-default-background: var(--sg-text-color, var(--theme-code-foreground, var(--jp-content-font-color1, black)));\n",
              "  --sklearn-color-background: var(--sg-background-color, var(--theme-background, var(--jp-layout-color0, white)));\n",
              "  --sklearn-color-border-box: var(--sg-text-color, var(--theme-code-foreground, var(--jp-content-font-color1, black)));\n",
              "  --sklearn-color-icon: #696969;\n",
              "\n",
              "  @media (prefers-color-scheme: dark) {\n",
              "    /* Redefinition of color scheme for dark theme */\n",
              "    --sklearn-color-text-on-default-background: var(--sg-text-color, var(--theme-code-foreground, var(--jp-content-font-color1, white)));\n",
              "    --sklearn-color-background: var(--sg-background-color, var(--theme-background, var(--jp-layout-color0, #111)));\n",
              "    --sklearn-color-border-box: var(--sg-text-color, var(--theme-code-foreground, var(--jp-content-font-color1, white)));\n",
              "    --sklearn-color-icon: #878787;\n",
              "  }\n",
              "}\n",
              "\n",
              "#sk-container-id-3 {\n",
              "  color: var(--sklearn-color-text);\n",
              "}\n",
              "\n",
              "#sk-container-id-3 pre {\n",
              "  padding: 0;\n",
              "}\n",
              "\n",
              "#sk-container-id-3 input.sk-hidden--visually {\n",
              "  border: 0;\n",
              "  clip: rect(1px 1px 1px 1px);\n",
              "  clip: rect(1px, 1px, 1px, 1px);\n",
              "  height: 1px;\n",
              "  margin: -1px;\n",
              "  overflow: hidden;\n",
              "  padding: 0;\n",
              "  position: absolute;\n",
              "  width: 1px;\n",
              "}\n",
              "\n",
              "#sk-container-id-3 div.sk-dashed-wrapped {\n",
              "  border: 1px dashed var(--sklearn-color-line);\n",
              "  margin: 0 0.4em 0.5em 0.4em;\n",
              "  box-sizing: border-box;\n",
              "  padding-bottom: 0.4em;\n",
              "  background-color: var(--sklearn-color-background);\n",
              "}\n",
              "\n",
              "#sk-container-id-3 div.sk-container {\n",
              "  /* jupyter's `normalize.less` sets `[hidden] { display: none; }`\n",
              "     but bootstrap.min.css set `[hidden] { display: none !important; }`\n",
              "     so we also need the `!important` here to be able to override the\n",
              "     default hidden behavior on the sphinx rendered scikit-learn.org.\n",
              "     See: https://github.com/scikit-learn/scikit-learn/issues/21755 */\n",
              "  display: inline-block !important;\n",
              "  position: relative;\n",
              "}\n",
              "\n",
              "#sk-container-id-3 div.sk-text-repr-fallback {\n",
              "  display: none;\n",
              "}\n",
              "\n",
              "div.sk-parallel-item,\n",
              "div.sk-serial,\n",
              "div.sk-item {\n",
              "  /* draw centered vertical line to link estimators */\n",
              "  background-image: linear-gradient(var(--sklearn-color-text-on-default-background), var(--sklearn-color-text-on-default-background));\n",
              "  background-size: 2px 100%;\n",
              "  background-repeat: no-repeat;\n",
              "  background-position: center center;\n",
              "}\n",
              "\n",
              "/* Parallel-specific style estimator block */\n",
              "\n",
              "#sk-container-id-3 div.sk-parallel-item::after {\n",
              "  content: \"\";\n",
              "  width: 100%;\n",
              "  border-bottom: 2px solid var(--sklearn-color-text-on-default-background);\n",
              "  flex-grow: 1;\n",
              "}\n",
              "\n",
              "#sk-container-id-3 div.sk-parallel {\n",
              "  display: flex;\n",
              "  align-items: stretch;\n",
              "  justify-content: center;\n",
              "  background-color: var(--sklearn-color-background);\n",
              "  position: relative;\n",
              "}\n",
              "\n",
              "#sk-container-id-3 div.sk-parallel-item {\n",
              "  display: flex;\n",
              "  flex-direction: column;\n",
              "}\n",
              "\n",
              "#sk-container-id-3 div.sk-parallel-item:first-child::after {\n",
              "  align-self: flex-end;\n",
              "  width: 50%;\n",
              "}\n",
              "\n",
              "#sk-container-id-3 div.sk-parallel-item:last-child::after {\n",
              "  align-self: flex-start;\n",
              "  width: 50%;\n",
              "}\n",
              "\n",
              "#sk-container-id-3 div.sk-parallel-item:only-child::after {\n",
              "  width: 0;\n",
              "}\n",
              "\n",
              "/* Serial-specific style estimator block */\n",
              "\n",
              "#sk-container-id-3 div.sk-serial {\n",
              "  display: flex;\n",
              "  flex-direction: column;\n",
              "  align-items: center;\n",
              "  background-color: var(--sklearn-color-background);\n",
              "  padding-right: 1em;\n",
              "  padding-left: 1em;\n",
              "}\n",
              "\n",
              "\n",
              "/* Toggleable style: style used for estimator/Pipeline/ColumnTransformer box that is\n",
              "clickable and can be expanded/collapsed.\n",
              "- Pipeline and ColumnTransformer use this feature and define the default style\n",
              "- Estimators will overwrite some part of the style using the `sk-estimator` class\n",
              "*/\n",
              "\n",
              "/* Pipeline and ColumnTransformer style (default) */\n",
              "\n",
              "#sk-container-id-3 div.sk-toggleable {\n",
              "  /* Default theme specific background. It is overwritten whether we have a\n",
              "  specific estimator or a Pipeline/ColumnTransformer */\n",
              "  background-color: var(--sklearn-color-background);\n",
              "}\n",
              "\n",
              "/* Toggleable label */\n",
              "#sk-container-id-3 label.sk-toggleable__label {\n",
              "  cursor: pointer;\n",
              "  display: flex;\n",
              "  width: 100%;\n",
              "  margin-bottom: 0;\n",
              "  padding: 0.5em;\n",
              "  box-sizing: border-box;\n",
              "  text-align: center;\n",
              "  align-items: start;\n",
              "  justify-content: space-between;\n",
              "  gap: 0.5em;\n",
              "}\n",
              "\n",
              "#sk-container-id-3 label.sk-toggleable__label .caption {\n",
              "  font-size: 0.6rem;\n",
              "  font-weight: lighter;\n",
              "  color: var(--sklearn-color-text-muted);\n",
              "}\n",
              "\n",
              "#sk-container-id-3 label.sk-toggleable__label-arrow:before {\n",
              "  /* Arrow on the left of the label */\n",
              "  content: \"▸\";\n",
              "  float: left;\n",
              "  margin-right: 0.25em;\n",
              "  color: var(--sklearn-color-icon);\n",
              "}\n",
              "\n",
              "#sk-container-id-3 label.sk-toggleable__label-arrow:hover:before {\n",
              "  color: var(--sklearn-color-text);\n",
              "}\n",
              "\n",
              "/* Toggleable content - dropdown */\n",
              "\n",
              "#sk-container-id-3 div.sk-toggleable__content {\n",
              "  max-height: 0;\n",
              "  max-width: 0;\n",
              "  overflow: hidden;\n",
              "  text-align: left;\n",
              "  /* unfitted */\n",
              "  background-color: var(--sklearn-color-unfitted-level-0);\n",
              "}\n",
              "\n",
              "#sk-container-id-3 div.sk-toggleable__content.fitted {\n",
              "  /* fitted */\n",
              "  background-color: var(--sklearn-color-fitted-level-0);\n",
              "}\n",
              "\n",
              "#sk-container-id-3 div.sk-toggleable__content pre {\n",
              "  margin: 0.2em;\n",
              "  border-radius: 0.25em;\n",
              "  color: var(--sklearn-color-text);\n",
              "  /* unfitted */\n",
              "  background-color: var(--sklearn-color-unfitted-level-0);\n",
              "}\n",
              "\n",
              "#sk-container-id-3 div.sk-toggleable__content.fitted pre {\n",
              "  /* unfitted */\n",
              "  background-color: var(--sklearn-color-fitted-level-0);\n",
              "}\n",
              "\n",
              "#sk-container-id-3 input.sk-toggleable__control:checked~div.sk-toggleable__content {\n",
              "  /* Expand drop-down */\n",
              "  max-height: 200px;\n",
              "  max-width: 100%;\n",
              "  overflow: auto;\n",
              "}\n",
              "\n",
              "#sk-container-id-3 input.sk-toggleable__control:checked~label.sk-toggleable__label-arrow:before {\n",
              "  content: \"▾\";\n",
              "}\n",
              "\n",
              "/* Pipeline/ColumnTransformer-specific style */\n",
              "\n",
              "#sk-container-id-3 div.sk-label input.sk-toggleable__control:checked~label.sk-toggleable__label {\n",
              "  color: var(--sklearn-color-text);\n",
              "  background-color: var(--sklearn-color-unfitted-level-2);\n",
              "}\n",
              "\n",
              "#sk-container-id-3 div.sk-label.fitted input.sk-toggleable__control:checked~label.sk-toggleable__label {\n",
              "  background-color: var(--sklearn-color-fitted-level-2);\n",
              "}\n",
              "\n",
              "/* Estimator-specific style */\n",
              "\n",
              "/* Colorize estimator box */\n",
              "#sk-container-id-3 div.sk-estimator input.sk-toggleable__control:checked~label.sk-toggleable__label {\n",
              "  /* unfitted */\n",
              "  background-color: var(--sklearn-color-unfitted-level-2);\n",
              "}\n",
              "\n",
              "#sk-container-id-3 div.sk-estimator.fitted input.sk-toggleable__control:checked~label.sk-toggleable__label {\n",
              "  /* fitted */\n",
              "  background-color: var(--sklearn-color-fitted-level-2);\n",
              "}\n",
              "\n",
              "#sk-container-id-3 div.sk-label label.sk-toggleable__label,\n",
              "#sk-container-id-3 div.sk-label label {\n",
              "  /* The background is the default theme color */\n",
              "  color: var(--sklearn-color-text-on-default-background);\n",
              "}\n",
              "\n",
              "/* On hover, darken the color of the background */\n",
              "#sk-container-id-3 div.sk-label:hover label.sk-toggleable__label {\n",
              "  color: var(--sklearn-color-text);\n",
              "  background-color: var(--sklearn-color-unfitted-level-2);\n",
              "}\n",
              "\n",
              "/* Label box, darken color on hover, fitted */\n",
              "#sk-container-id-3 div.sk-label.fitted:hover label.sk-toggleable__label.fitted {\n",
              "  color: var(--sklearn-color-text);\n",
              "  background-color: var(--sklearn-color-fitted-level-2);\n",
              "}\n",
              "\n",
              "/* Estimator label */\n",
              "\n",
              "#sk-container-id-3 div.sk-label label {\n",
              "  font-family: monospace;\n",
              "  font-weight: bold;\n",
              "  display: inline-block;\n",
              "  line-height: 1.2em;\n",
              "}\n",
              "\n",
              "#sk-container-id-3 div.sk-label-container {\n",
              "  text-align: center;\n",
              "}\n",
              "\n",
              "/* Estimator-specific */\n",
              "#sk-container-id-3 div.sk-estimator {\n",
              "  font-family: monospace;\n",
              "  border: 1px dotted var(--sklearn-color-border-box);\n",
              "  border-radius: 0.25em;\n",
              "  box-sizing: border-box;\n",
              "  margin-bottom: 0.5em;\n",
              "  /* unfitted */\n",
              "  background-color: var(--sklearn-color-unfitted-level-0);\n",
              "}\n",
              "\n",
              "#sk-container-id-3 div.sk-estimator.fitted {\n",
              "  /* fitted */\n",
              "  background-color: var(--sklearn-color-fitted-level-0);\n",
              "}\n",
              "\n",
              "/* on hover */\n",
              "#sk-container-id-3 div.sk-estimator:hover {\n",
              "  /* unfitted */\n",
              "  background-color: var(--sklearn-color-unfitted-level-2);\n",
              "}\n",
              "\n",
              "#sk-container-id-3 div.sk-estimator.fitted:hover {\n",
              "  /* fitted */\n",
              "  background-color: var(--sklearn-color-fitted-level-2);\n",
              "}\n",
              "\n",
              "/* Specification for estimator info (e.g. \"i\" and \"?\") */\n",
              "\n",
              "/* Common style for \"i\" and \"?\" */\n",
              "\n",
              ".sk-estimator-doc-link,\n",
              "a:link.sk-estimator-doc-link,\n",
              "a:visited.sk-estimator-doc-link {\n",
              "  float: right;\n",
              "  font-size: smaller;\n",
              "  line-height: 1em;\n",
              "  font-family: monospace;\n",
              "  background-color: var(--sklearn-color-background);\n",
              "  border-radius: 1em;\n",
              "  height: 1em;\n",
              "  width: 1em;\n",
              "  text-decoration: none !important;\n",
              "  margin-left: 0.5em;\n",
              "  text-align: center;\n",
              "  /* unfitted */\n",
              "  border: var(--sklearn-color-unfitted-level-1) 1pt solid;\n",
              "  color: var(--sklearn-color-unfitted-level-1);\n",
              "}\n",
              "\n",
              ".sk-estimator-doc-link.fitted,\n",
              "a:link.sk-estimator-doc-link.fitted,\n",
              "a:visited.sk-estimator-doc-link.fitted {\n",
              "  /* fitted */\n",
              "  border: var(--sklearn-color-fitted-level-1) 1pt solid;\n",
              "  color: var(--sklearn-color-fitted-level-1);\n",
              "}\n",
              "\n",
              "/* On hover */\n",
              "div.sk-estimator:hover .sk-estimator-doc-link:hover,\n",
              ".sk-estimator-doc-link:hover,\n",
              "div.sk-label-container:hover .sk-estimator-doc-link:hover,\n",
              ".sk-estimator-doc-link:hover {\n",
              "  /* unfitted */\n",
              "  background-color: var(--sklearn-color-unfitted-level-3);\n",
              "  color: var(--sklearn-color-background);\n",
              "  text-decoration: none;\n",
              "}\n",
              "\n",
              "div.sk-estimator.fitted:hover .sk-estimator-doc-link.fitted:hover,\n",
              ".sk-estimator-doc-link.fitted:hover,\n",
              "div.sk-label-container:hover .sk-estimator-doc-link.fitted:hover,\n",
              ".sk-estimator-doc-link.fitted:hover {\n",
              "  /* fitted */\n",
              "  background-color: var(--sklearn-color-fitted-level-3);\n",
              "  color: var(--sklearn-color-background);\n",
              "  text-decoration: none;\n",
              "}\n",
              "\n",
              "/* Span, style for the box shown on hovering the info icon */\n",
              ".sk-estimator-doc-link span {\n",
              "  display: none;\n",
              "  z-index: 9999;\n",
              "  position: relative;\n",
              "  font-weight: normal;\n",
              "  right: .2ex;\n",
              "  padding: .5ex;\n",
              "  margin: .5ex;\n",
              "  width: min-content;\n",
              "  min-width: 20ex;\n",
              "  max-width: 50ex;\n",
              "  color: var(--sklearn-color-text);\n",
              "  box-shadow: 2pt 2pt 4pt #999;\n",
              "  /* unfitted */\n",
              "  background: var(--sklearn-color-unfitted-level-0);\n",
              "  border: .5pt solid var(--sklearn-color-unfitted-level-3);\n",
              "}\n",
              "\n",
              ".sk-estimator-doc-link.fitted span {\n",
              "  /* fitted */\n",
              "  background: var(--sklearn-color-fitted-level-0);\n",
              "  border: var(--sklearn-color-fitted-level-3);\n",
              "}\n",
              "\n",
              ".sk-estimator-doc-link:hover span {\n",
              "  display: block;\n",
              "}\n",
              "\n",
              "/* \"?\"-specific style due to the `<a>` HTML tag */\n",
              "\n",
              "#sk-container-id-3 a.estimator_doc_link {\n",
              "  float: right;\n",
              "  font-size: 1rem;\n",
              "  line-height: 1em;\n",
              "  font-family: monospace;\n",
              "  background-color: var(--sklearn-color-background);\n",
              "  border-radius: 1rem;\n",
              "  height: 1rem;\n",
              "  width: 1rem;\n",
              "  text-decoration: none;\n",
              "  /* unfitted */\n",
              "  color: var(--sklearn-color-unfitted-level-1);\n",
              "  border: var(--sklearn-color-unfitted-level-1) 1pt solid;\n",
              "}\n",
              "\n",
              "#sk-container-id-3 a.estimator_doc_link.fitted {\n",
              "  /* fitted */\n",
              "  border: var(--sklearn-color-fitted-level-1) 1pt solid;\n",
              "  color: var(--sklearn-color-fitted-level-1);\n",
              "}\n",
              "\n",
              "/* On hover */\n",
              "#sk-container-id-3 a.estimator_doc_link:hover {\n",
              "  /* unfitted */\n",
              "  background-color: var(--sklearn-color-unfitted-level-3);\n",
              "  color: var(--sklearn-color-background);\n",
              "  text-decoration: none;\n",
              "}\n",
              "\n",
              "#sk-container-id-3 a.estimator_doc_link.fitted:hover {\n",
              "  /* fitted */\n",
              "  background-color: var(--sklearn-color-fitted-level-3);\n",
              "}\n",
              "</style><div id=\"sk-container-id-3\" class=\"sk-top-container\"><div class=\"sk-text-repr-fallback\"><pre>LogisticRegression(random_state=42, solver=&#x27;liblinear&#x27;)</pre><b>In a Jupyter environment, please rerun this cell to show the HTML representation or trust the notebook. <br />On GitHub, the HTML representation is unable to render, please try loading this page with nbviewer.org.</b></div><div class=\"sk-container\" hidden><div class=\"sk-item\"><div class=\"sk-estimator fitted sk-toggleable\"><input class=\"sk-toggleable__control sk-hidden--visually\" id=\"sk-estimator-id-5\" type=\"checkbox\" checked><label for=\"sk-estimator-id-5\" class=\"sk-toggleable__label fitted sk-toggleable__label-arrow\"><div><div>LogisticRegression</div></div><div><a class=\"sk-estimator-doc-link fitted\" rel=\"noreferrer\" target=\"_blank\" href=\"https://scikit-learn.org/1.6/modules/generated/sklearn.linear_model.LogisticRegression.html\">?<span>Documentation for LogisticRegression</span></a><span class=\"sk-estimator-doc-link fitted\">i<span>Fitted</span></span></div></label><div class=\"sk-toggleable__content fitted\"><pre>LogisticRegression(random_state=42, solver=&#x27;liblinear&#x27;)</pre></div> </div></div></div></div>"
            ],
            "text/plain": [
              "LogisticRegression(random_state=42, solver='liblinear')"
            ]
          },
          "execution_count": 52,
          "metadata": {},
          "output_type": "execute_result"
        }
      ],
      "source": [
        "# 15.2 — Importar clase del modelo\n",
        "from sklearn.linear_model import LogisticRegression\n",
        "\n",
        "# 15.2.1 — Instanciar el modelo con configuración base\n",
        "log_model = LogisticRegression(\n",
        "    solver='liblinear',    # buen rendimiento en datasets pequeños a medianos\n",
        "    random_state=42        # para reproducibilidad\n",
        ")\n",
        "\n",
        "# 15.2.2 — Entrenamiento del modelo\n",
        "log_model.fit(X_train_log, y_train_log)\n"
      ]
    },
    {
      "cell_type": "markdown",
      "metadata": {
        "id": "aZ8Ck0eA9tOc"
      },
      "source": [
        "### 15.3 📊 Evaluación del Modelo de Regresión Logística\n",
        "En esta sección vamos a:\n",
        "\n",
        "* Obtener las predicciones del modelo.\n",
        "\n",
        "* Calcular métricas de rendimiento: precisión, recall, f1-score y accuracy.\n",
        "\n",
        "* Visualizar la matriz de confusión.\n",
        "\n",
        "* Graficar la curva ROC y calcular el AUC."
      ]
    },
    {
      "cell_type": "markdown",
      "metadata": {
        "id": "hadw-d_d926P"
      },
      "source": [
        "📌 10.3.1 — Predicción en el conjunto de prueba"
      ]
    },
    {
      "cell_type": "code",
      "execution_count": null,
      "metadata": {
        "id": "-ksIElTi95ss"
      },
      "outputs": [],
      "source": [
        "# Predecir clases\n",
        "y_pred_log = log_model.predict(X_test_log)\n",
        "\n",
        "# Predecir probabilidades para ROC\n",
        "y_proba_log = log_model.predict_proba(X_test_log)[:, 1]\n"
      ]
    },
    {
      "cell_type": "markdown",
      "metadata": {
        "id": "CMSW_J899725"
      },
      "source": [
        "📌 15.3.2 — Reporte de métricas y matriz de confusión"
      ]
    },
    {
      "cell_type": "code",
      "execution_count": null,
      "metadata": {
        "colab": {
          "base_uri": "https://localhost:8080/"
        },
        "id": "P9n7QXVo9-37",
        "outputId": "e632fa80-e5b3-43d2-a13a-db65b5be9bfc"
      },
      "outputs": [
        {
          "name": "stdout",
          "output_type": "stream",
          "text": [
            "Accuracy (LogReg): 0.7532\n",
            "\n",
            "Matriz de Confusión:\n",
            "[[4566 1776]\n",
            " [1364 5019]]\n",
            "\n",
            "Reporte de Clasificación:\n",
            "              precision    recall  f1-score   support\n",
            "\n",
            "       False       0.77      0.72      0.74      6342\n",
            "        True       0.74      0.79      0.76      6383\n",
            "\n",
            "    accuracy                           0.75     12725\n",
            "   macro avg       0.75      0.75      0.75     12725\n",
            "weighted avg       0.75      0.75      0.75     12725\n",
            "\n"
          ]
        }
      ],
      "source": [
        "from sklearn.metrics import classification_report, confusion_matrix, accuracy_score\n",
        "\n",
        "# Mostrar métricas\n",
        "print(f\"Accuracy (LogReg): {accuracy_score(y_test_log, y_pred_log):.4f}\")\n",
        "print(\"\\nMatriz de Confusión:\")\n",
        "print(confusion_matrix(y_test_log, y_pred_log))\n",
        "print(\"\\nReporte de Clasificación:\")\n",
        "print(classification_report(y_test_log, y_pred_log))\n"
      ]
    },
    {
      "cell_type": "markdown",
      "metadata": {
        "id": "B1tnxm-j-UIk"
      },
      "source": [
        "📌 15.3.3 — Matriz de Confusión (Gráfico)"
      ]
    },
    {
      "cell_type": "code",
      "execution_count": null,
      "metadata": {
        "colab": {
          "base_uri": "https://localhost:8080/",
          "height": 411
        },
        "id": "nDS0X9Qj-Vae",
        "outputId": "5578a9c9-3a0c-4270-c0d0-61b62a25e5b7"
      },
      "outputs": [
        {
          "data": {
            "image/png": "[encoded data removed]",
            "text/plain": [
              "<Figure size 500x400 with 2 Axes>"
            ]
          },
          "metadata": {},
          "output_type": "display_data"
        }
      ],
      "source": [
        "import seaborn as sns\n",
        "import matplotlib.pyplot as plt\n",
        "\n",
        "# Visualizar la matriz\n",
        "plt.figure(figsize=(5, 4))\n",
        "sns.heatmap(confusion_matrix(y_test_log, y_pred_log),\n",
        "            annot=True, fmt='d', cmap='Blues',\n",
        "            xticklabels=[\"No Diabetes\", \"Diabetes\"],\n",
        "            yticklabels=[\"No Diabetes\", \"Diabetes\"])\n",
        "plt.title(\"Matriz de Confusión — Regresión Logística\")\n",
        "plt.xlabel(\"Predicción\")\n",
        "plt.ylabel(\"Real\")\n",
        "plt.show()\n"
      ]
    },
    {
      "cell_type": "markdown",
      "metadata": {
        "id": "xrc5bcy1-Zlh"
      },
      "source": [
        "📌 15.3.4 — Curva ROC y AUC"
      ]
    },
    {
      "cell_type": "code",
      "execution_count": null,
      "metadata": {
        "colab": {
          "base_uri": "https://localhost:8080/",
          "height": 411
        },
        "id": "5ovc50sS-cq0",
        "outputId": "f0df2d42-c9b3-4b65-c546-73c1d5178f35"
      },
      "outputs": [
        {
          "data": {
            "image/png": "[encoded data removed]",
            "text/plain": [
              "<Figure size 600x400 with 1 Axes>"
            ]
          },
          "metadata": {},
          "output_type": "display_data"
        }
      ],
      "source": [
        "from sklearn.metrics import roc_curve, auc\n",
        "\n",
        "# Calcular FPR, TPR y AUC\n",
        "fpr, tpr, _ = roc_curve(y_test_log, y_proba_log)\n",
        "auc_score = auc(fpr, tpr)\n",
        "\n",
        "# Gráfica ROC\n",
        "plt.figure(figsize=(6, 4))\n",
        "plt.plot(fpr, tpr, label=f'AUC = {auc_score:.3f}')\n",
        "plt.plot([0, 1], [0, 1], linestyle='--', color='gray')\n",
        "plt.xlabel(\"False Positive Rate\")\n",
        "plt.ylabel(\"True Positive Rate\")\n",
        "plt.title(\"Curva ROC — Regresión Logística\")\n",
        "plt.legend()\n",
        "plt.show()"
      ]
    },
    {
      "cell_type": "markdown",
      "metadata": {
        "id": "Ek78u5EgAzxS"
      },
      "source": [
        "## **16. Entrenamiento de Modelo de Árboles de Decisión**\n",
        "\n",
        "Los **modelos de árboles de decisión** en inteligencia artificial son algoritmos de aprendizaje supervisado que se utilizan tanto para **clasificación** como para **regresión**, aunque son más comunes en tareas de clasificación.\n",
        "\n",
        "### ¿Qué es un árbol de decisión?\n",
        "\n",
        "Un árbol de decisión es una estructura en forma de árbol donde:\n",
        "\n",
        "* **Cada nodo interno** representa una prueba sobre una característica (por ejemplo: “¿edad > 30?”).\n",
        "* **Cada rama** representa el resultado de esa prueba (por ejemplo: *sí* o *no*).\n",
        "* **Cada hoja** representa una decisión final o clase (por ejemplo: *aprobar* o *rechazar* un préstamo).\n",
        "\n",
        "El modelo **aprende a dividir los datos** en subconjuntos cada vez más homogéneos, tomando decisiones en cada nivel del árbol hasta llegar a una predicción.\n",
        "\n",
        "### ¿Cómo funciona?\n",
        "\n",
        "1. El algoritmo selecciona una característica del conjunto de datos y un valor de división que **mejor separa las clases** (usando métricas como *entropía*, *ganancia de información* o *índice Gini*).\n",
        "2. Se repite el proceso en los nuevos subconjuntos, construyendo ramas del árbol.\n",
        "3. Este proceso continúa hasta que se cumple una condición de parada (por ejemplo, una profundidad máxima del árbol o un número mínimo de ejemplos en una hoja).\n",
        "\n",
        "### Ventajas\n",
        "\n",
        "* **Fácil de interpretar** y visualizar.\n",
        "* Funciona con **datos tanto numéricos como categóricos**.\n",
        "* No requiere que los datos estén escalados o normalizados.\n",
        "* No es necesario que las variables categóricas sean convertidas a tipo dummy. Con indexarlas es más que suficicente.\n",
        "\n",
        "### Ejemplo sencillo\n",
        "\n",
        "Supón que queremos predecir si una persona **aprobará un examen**, y usamos dos variables: *horas de estudio* y *asistencia a clases*. Un árbol de decisión podría aprender reglas como:\n",
        "\n",
        "* Si horas de estudio > 4 → aprobará\n",
        "* Si horas de estudio ≤ 4 y asistencia es *alta* → aprobará\n",
        "* Si horas de estudio ≤ 4 y asistencia es *baja* → no aprobará\n",
        "\n",
        "Estas reglas se extraen automáticamente del conjunto de datos durante el entrenamiento."
      ]
    },
    {
      "cell_type": "markdown",
      "metadata": {
        "id": "aio2RN6lA9Jl"
      },
      "source": [
        "### 📦 16.1 — Preparación de datos para Árbol de Decisión\n",
        "En esta sección, prepararemos los datos de entrenamiento y prueba que serán usados para entrenar el modelo de Árbol de Decisión. Este modelo no requiere escalamiento de variables (como sí ocurrió con KNN o Regresión Logística), por lo tanto, usaremos el dataset que ya ha sido transformado con variables tipo dummy pero sin escalar.\n",
        "\n",
        "📌 Objetivos:\n",
        "Utilizar los mismos datos que en modelos anteriores para asegurar comparabilidad.\n",
        "\n",
        "* No aplicar escalamiento (Decision Trees no lo necesitan).\n",
        "\n",
        "* Conservar la variable objetivo Diabetes_binary."
      ]
    },
    {
      "cell_type": "markdown",
      "metadata": {
        "id": "vNStoW3EBb8n"
      },
      "source": [
        "✅ Paso 1: Crear de seguridad para el modelo de árbol"
      ]
    },
    {
      "cell_type": "code",
      "execution_count": null,
      "metadata": {
        "id": "mf5S3iBSBggq"
      },
      "outputs": [],
      "source": [
        "# Copiar datos preparados para el modelo de árbol de decisión\n",
        "X_train_tree = X_train.copy()\n",
        "X_test_tree = X_test.copy()\n",
        "y_train_tree = y_train.copy()\n",
        "y_test_tree = y_test.copy()\n"
      ]
    },
    {
      "cell_type": "markdown",
      "metadata": {
        "id": "wh5i-Z6nDmdm"
      },
      "source": [
        "✅ Paso 2: Verificar la forma de los datos"
      ]
    },
    {
      "cell_type": "code",
      "execution_count": null,
      "metadata": {
        "colab": {
          "base_uri": "https://localhost:8080/"
        },
        "id": "IjurbByODox7",
        "outputId": "9d863f97-ae05-41df-970e-2b6c8f877059"
      },
      "outputs": [
        {
          "name": "stdout",
          "output_type": "stream",
          "text": [
            "Conjunto entrenamiento: 50897 filas, 47 columnas\n",
            "Conjunto prueba:        12725 filas, 47 columnas\n"
          ]
        }
      ],
      "source": [
        "# Mostrar tamaño de los conjuntos\n",
        "print(f\"Conjunto entrenamiento: {X_train_tree.shape[0]} filas, {X_train_tree.shape[1]} columnas\")\n",
        "print(f\"Conjunto prueba:        {X_test_tree.shape[0]} filas, {X_test_tree.shape[1]} columnas\")\n"
      ]
    },
    {
      "cell_type": "markdown",
      "metadata": {
        "id": "i3dMRtK5DtA0"
      },
      "source": [
        "✅ Paso 3: Confirmar tipo de variables (no deben haber 'object')\n"
      ]
    },
    {
      "cell_type": "code",
      "execution_count": null,
      "metadata": {
        "colab": {
          "base_uri": "https://localhost:8080/"
        },
        "id": "f-VgDuKKDvfe",
        "outputId": "9b5e8aa7-86ac-4d17-e007-4ca39362fc01"
      },
      "outputs": [
        {
          "name": "stdout",
          "output_type": "stream",
          "text": [
            "bool       42\n",
            "float32     3\n",
            "int8        2\n",
            "Name: count, dtype: int64\n"
          ]
        }
      ],
      "source": [
        "# Verificar que no haya variables categóricas sin codificar\n",
        "print(X_train_tree.dtypes.value_counts())"
      ]
    },
    {
      "cell_type": "markdown",
      "metadata": {
        "id": "ql0C-UGKDwgZ"
      },
      "source": [
        "✅ Paso 4: Verificar la distribución de clases (target)"
      ]
    },
    {
      "cell_type": "code",
      "execution_count": null,
      "metadata": {
        "colab": {
          "base_uri": "https://localhost:8080/"
        },
        "id": "v10XbLfiEjy9",
        "outputId": "e4f5b237-8d4c-4cd5-a9dc-7bd63c31be0b"
      },
      "outputs": [
        {
          "name": "stdout",
          "output_type": "stream",
          "text": [
            "Distribución en y_train_tree:\n",
            " Diabetes_binary\n",
            "True     0.502\n",
            "False    0.498\n",
            "Name: proportion, dtype: float64\n",
            "Distribución en y_test_tree:\n",
            " Diabetes_binary\n",
            "True     0.502\n",
            "False    0.498\n",
            "Name: proportion, dtype: float64\n"
          ]
        }
      ],
      "source": [
        "# Verificar que las proporciones de la variable objetivo estén equilibradas\n",
        "print(\"Distribución en y_train_tree:\\n\", y_train_tree.value_counts(normalize=True).round(3))\n",
        "print(\"Distribución en y_test_tree:\\n\", y_test_tree.value_counts(normalize=True).round(3))\n"
      ]
    },
    {
      "cell_type": "markdown",
      "metadata": {
        "id": "r75cjQLAE-WO"
      },
      "source": [
        "### ⚙️ 16.2 — Entrenamiento del Modelo de Árbol de Decisión\n",
        "En esta sección vamos a entrenar un modelo de Árbol de Decisión utilizando el conjunto de datos preparado en el paso anterior. Se utilizará el algoritmo de clasificación DecisionTreeClassifier de sklearn.tree, el cual construye un árbol dividiendo los datos con base en un criterio de pureza (por defecto, índice Gini)."
      ]
    },
    {
      "cell_type": "markdown",
      "metadata": {
        "id": "BFPLtuu-FAae"
      },
      "source": [
        "✅ Paso 1: Importar el modelo y configurarlo"
      ]
    },
    {
      "cell_type": "code",
      "execution_count": null,
      "metadata": {
        "id": "yP3sAVheFLje"
      },
      "outputs": [],
      "source": [
        "from sklearn.tree import DecisionTreeClassifier\n",
        "\n",
        "# Crear el modelo base\n",
        "tree_model = DecisionTreeClassifier(\n",
        "    criterion='gini',      # mide impureza de Gini\n",
        "    max_depth=None,        # sin límite de profundidad por ahora\n",
        "    random_state=42        # reproducibilidad\n",
        ")\n"
      ]
    },
    {
      "cell_type": "markdown",
      "metadata": {
        "id": "oRcjdHqsFNSR"
      },
      "source": [
        "✅ Paso 2: Entrenar el modelo\n",
        "\n"
      ]
    },
    {
      "cell_type": "code",
      "execution_count": null,
      "metadata": {
        "colab": {
          "base_uri": "https://localhost:8080/",
          "height": 80
        },
        "id": "KLxzIgxdFOxw",
        "outputId": "58e68086-8e94-4503-8a1b-ca3abb249ca2"
      },
      "outputs": [
        {
          "data": {
            "text/html": [
              "<style>#sk-container-id-4 {\n",
              "  /* Definition of color scheme common for light and dark mode */\n",
              "  --sklearn-color-text: #000;\n",
              "  --sklearn-color-text-muted: #666;\n",
              "  --sklearn-color-line: gray;\n",
              "  /* Definition of color scheme for unfitted estimators */\n",
              "  --sklearn-color-unfitted-level-0: #fff5e6;\n",
              "  --sklearn-color-unfitted-level-1: #f6e4d2;\n",
              "  --sklearn-color-unfitted-level-2: #ffe0b3;\n",
              "  --sklearn-color-unfitted-level-3: chocolate;\n",
              "  /* Definition of color scheme for fitted estimators */\n",
              "  --sklearn-color-fitted-level-0: #f0f8ff;\n",
              "  --sklearn-color-fitted-level-1: #d4ebff;\n",
              "  --sklearn-color-fitted-level-2: #b3dbfd;\n",
              "  --sklearn-color-fitted-level-3: cornflowerblue;\n",
              "\n",
              "  /* Specific color for light theme */\n",
              "  --sklearn-color-text-on-default-background: var(--sg-text-color, var(--theme-code-foreground, var(--jp-content-font-color1, black)));\n",
              "  --sklearn-color-background: var(--sg-background-color, var(--theme-background, var(--jp-layout-color0, white)));\n",
              "  --sklearn-color-border-box: var(--sg-text-color, var(--theme-code-foreground, var(--jp-content-font-color1, black)));\n",
              "  --sklearn-color-icon: #696969;\n",
              "\n",
              "  @media (prefers-color-scheme: dark) {\n",
              "    /* Redefinition of color scheme for dark theme */\n",
              "    --sklearn-color-text-on-default-background: var(--sg-text-color, var(--theme-code-foreground, var(--jp-content-font-color1, white)));\n",
              "    --sklearn-color-background: var(--sg-background-color, var(--theme-background, var(--jp-layout-color0, #111)));\n",
              "    --sklearn-color-border-box: var(--sg-text-color, var(--theme-code-foreground, var(--jp-content-font-color1, white)));\n",
              "    --sklearn-color-icon: #878787;\n",
              "  }\n",
              "}\n",
              "\n",
              "#sk-container-id-4 {\n",
              "  color: var(--sklearn-color-text);\n",
              "}\n",
              "\n",
              "#sk-container-id-4 pre {\n",
              "  padding: 0;\n",
              "}\n",
              "\n",
              "#sk-container-id-4 input.sk-hidden--visually {\n",
              "  border: 0;\n",
              "  clip: rect(1px 1px 1px 1px);\n",
              "  clip: rect(1px, 1px, 1px, 1px);\n",
              "  height: 1px;\n",
              "  margin: -1px;\n",
              "  overflow: hidden;\n",
              "  padding: 0;\n",
              "  position: absolute;\n",
              "  width: 1px;\n",
              "}\n",
              "\n",
              "#sk-container-id-4 div.sk-dashed-wrapped {\n",
              "  border: 1px dashed var(--sklearn-color-line);\n",
              "  margin: 0 0.4em 0.5em 0.4em;\n",
              "  box-sizing: border-box;\n",
              "  padding-bottom: 0.4em;\n",
              "  background-color: var(--sklearn-color-background);\n",
              "}\n",
              "\n",
              "#sk-container-id-4 div.sk-container {\n",
              "  /* jupyter's `normalize.less` sets `[hidden] { display: none; }`\n",
              "     but bootstrap.min.css set `[hidden] { display: none !important; }`\n",
              "     so we also need the `!important` here to be able to override the\n",
              "     default hidden behavior on the sphinx rendered scikit-learn.org.\n",
              "     See: https://github.com/scikit-learn/scikit-learn/issues/21755 */\n",
              "  display: inline-block !important;\n",
              "  position: relative;\n",
              "}\n",
              "\n",
              "#sk-container-id-4 div.sk-text-repr-fallback {\n",
              "  display: none;\n",
              "}\n",
              "\n",
              "div.sk-parallel-item,\n",
              "div.sk-serial,\n",
              "div.sk-item {\n",
              "  /* draw centered vertical line to link estimators */\n",
              "  background-image: linear-gradient(var(--sklearn-color-text-on-default-background), var(--sklearn-color-text-on-default-background));\n",
              "  background-size: 2px 100%;\n",
              "  background-repeat: no-repeat;\n",
              "  background-position: center center;\n",
              "}\n",
              "\n",
              "/* Parallel-specific style estimator block */\n",
              "\n",
              "#sk-container-id-4 div.sk-parallel-item::after {\n",
              "  content: \"\";\n",
              "  width: 100%;\n",
              "  border-bottom: 2px solid var(--sklearn-color-text-on-default-background);\n",
              "  flex-grow: 1;\n",
              "}\n",
              "\n",
              "#sk-container-id-4 div.sk-parallel {\n",
              "  display: flex;\n",
              "  align-items: stretch;\n",
              "  justify-content: center;\n",
              "  background-color: var(--sklearn-color-background);\n",
              "  position: relative;\n",
              "}\n",
              "\n",
              "#sk-container-id-4 div.sk-parallel-item {\n",
              "  display: flex;\n",
              "  flex-direction: column;\n",
              "}\n",
              "\n",
              "#sk-container-id-4 div.sk-parallel-item:first-child::after {\n",
              "  align-self: flex-end;\n",
              "  width: 50%;\n",
              "}\n",
              "\n",
              "#sk-container-id-4 div.sk-parallel-item:last-child::after {\n",
              "  align-self: flex-start;\n",
              "  width: 50%;\n",
              "}\n",
              "\n",
              "#sk-container-id-4 div.sk-parallel-item:only-child::after {\n",
              "  width: 0;\n",
              "}\n",
              "\n",
              "/* Serial-specific style estimator block */\n",
              "\n",
              "#sk-container-id-4 div.sk-serial {\n",
              "  display: flex;\n",
              "  flex-direction: column;\n",
              "  align-items: center;\n",
              "  background-color: var(--sklearn-color-background);\n",
              "  padding-right: 1em;\n",
              "  padding-left: 1em;\n",
              "}\n",
              "\n",
              "\n",
              "/* Toggleable style: style used for estimator/Pipeline/ColumnTransformer box that is\n",
              "clickable and can be expanded/collapsed.\n",
              "- Pipeline and ColumnTransformer use this feature and define the default style\n",
              "- Estimators will overwrite some part of the style using the `sk-estimator` class\n",
              "*/\n",
              "\n",
              "/* Pipeline and ColumnTransformer style (default) */\n",
              "\n",
              "#sk-container-id-4 div.sk-toggleable {\n",
              "  /* Default theme specific background. It is overwritten whether we have a\n",
              "  specific estimator or a Pipeline/ColumnTransformer */\n",
              "  background-color: var(--sklearn-color-background);\n",
              "}\n",
              "\n",
              "/* Toggleable label */\n",
              "#sk-container-id-4 label.sk-toggleable__label {\n",
              "  cursor: pointer;\n",
              "  display: flex;\n",
              "  width: 100%;\n",
              "  margin-bottom: 0;\n",
              "  padding: 0.5em;\n",
              "  box-sizing: border-box;\n",
              "  text-align: center;\n",
              "  align-items: start;\n",
              "  justify-content: space-between;\n",
              "  gap: 0.5em;\n",
              "}\n",
              "\n",
              "#sk-container-id-4 label.sk-toggleable__label .caption {\n",
              "  font-size: 0.6rem;\n",
              "  font-weight: lighter;\n",
              "  color: var(--sklearn-color-text-muted);\n",
              "}\n",
              "\n",
              "#sk-container-id-4 label.sk-toggleable__label-arrow:before {\n",
              "  /* Arrow on the left of the label */\n",
              "  content: \"▸\";\n",
              "  float: left;\n",
              "  margin-right: 0.25em;\n",
              "  color: var(--sklearn-color-icon);\n",
              "}\n",
              "\n",
              "#sk-container-id-4 label.sk-toggleable__label-arrow:hover:before {\n",
              "  color: var(--sklearn-color-text);\n",
              "}\n",
              "\n",
              "/* Toggleable content - dropdown */\n",
              "\n",
              "#sk-container-id-4 div.sk-toggleable__content {\n",
              "  max-height: 0;\n",
              "  max-width: 0;\n",
              "  overflow: hidden;\n",
              "  text-align: left;\n",
              "  /* unfitted */\n",
              "  background-color: var(--sklearn-color-unfitted-level-0);\n",
              "}\n",
              "\n",
              "#sk-container-id-4 div.sk-toggleable__content.fitted {\n",
              "  /* fitted */\n",
              "  background-color: var(--sklearn-color-fitted-level-0);\n",
              "}\n",
              "\n",
              "#sk-container-id-4 div.sk-toggleable__content pre {\n",
              "  margin: 0.2em;\n",
              "  border-radius: 0.25em;\n",
              "  color: var(--sklearn-color-text);\n",
              "  /* unfitted */\n",
              "  background-color: var(--sklearn-color-unfitted-level-0);\n",
              "}\n",
              "\n",
              "#sk-container-id-4 div.sk-toggleable__content.fitted pre {\n",
              "  /* unfitted */\n",
              "  background-color: var(--sklearn-color-fitted-level-0);\n",
              "}\n",
              "\n",
              "#sk-container-id-4 input.sk-toggleable__control:checked~div.sk-toggleable__content {\n",
              "  /* Expand drop-down */\n",
              "  max-height: 200px;\n",
              "  max-width: 100%;\n",
              "  overflow: auto;\n",
              "}\n",
              "\n",
              "#sk-container-id-4 input.sk-toggleable__control:checked~label.sk-toggleable__label-arrow:before {\n",
              "  content: \"▾\";\n",
              "}\n",
              "\n",
              "/* Pipeline/ColumnTransformer-specific style */\n",
              "\n",
              "#sk-container-id-4 div.sk-label input.sk-toggleable__control:checked~label.sk-toggleable__label {\n",
              "  color: var(--sklearn-color-text);\n",
              "  background-color: var(--sklearn-color-unfitted-level-2);\n",
              "}\n",
              "\n",
              "#sk-container-id-4 div.sk-label.fitted input.sk-toggleable__control:checked~label.sk-toggleable__label {\n",
              "  background-color: var(--sklearn-color-fitted-level-2);\n",
              "}\n",
              "\n",
              "/* Estimator-specific style */\n",
              "\n",
              "/* Colorize estimator box */\n",
              "#sk-container-id-4 div.sk-estimator input.sk-toggleable__control:checked~label.sk-toggleable__label {\n",
              "  /* unfitted */\n",
              "  background-color: var(--sklearn-color-unfitted-level-2);\n",
              "}\n",
              "\n",
              "#sk-container-id-4 div.sk-estimator.fitted input.sk-toggleable__control:checked~label.sk-toggleable__label {\n",
              "  /* fitted */\n",
              "  background-color: var(--sklearn-color-fitted-level-2);\n",
              "}\n",
              "\n",
              "#sk-container-id-4 div.sk-label label.sk-toggleable__label,\n",
              "#sk-container-id-4 div.sk-label label {\n",
              "  /* The background is the default theme color */\n",
              "  color: var(--sklearn-color-text-on-default-background);\n",
              "}\n",
              "\n",
              "/* On hover, darken the color of the background */\n",
              "#sk-container-id-4 div.sk-label:hover label.sk-toggleable__label {\n",
              "  color: var(--sklearn-color-text);\n",
              "  background-color: var(--sklearn-color-unfitted-level-2);\n",
              "}\n",
              "\n",
              "/* Label box, darken color on hover, fitted */\n",
              "#sk-container-id-4 div.sk-label.fitted:hover label.sk-toggleable__label.fitted {\n",
              "  color: var(--sklearn-color-text);\n",
              "  background-color: var(--sklearn-color-fitted-level-2);\n",
              "}\n",
              "\n",
              "/* Estimator label */\n",
              "\n",
              "#sk-container-id-4 div.sk-label label {\n",
              "  font-family: monospace;\n",
              "  font-weight: bold;\n",
              "  display: inline-block;\n",
              "  line-height: 1.2em;\n",
              "}\n",
              "\n",
              "#sk-container-id-4 div.sk-label-container {\n",
              "  text-align: center;\n",
              "}\n",
              "\n",
              "/* Estimator-specific */\n",
              "#sk-container-id-4 div.sk-estimator {\n",
              "  font-family: monospace;\n",
              "  border: 1px dotted var(--sklearn-color-border-box);\n",
              "  border-radius: 0.25em;\n",
              "  box-sizing: border-box;\n",
              "  margin-bottom: 0.5em;\n",
              "  /* unfitted */\n",
              "  background-color: var(--sklearn-color-unfitted-level-0);\n",
              "}\n",
              "\n",
              "#sk-container-id-4 div.sk-estimator.fitted {\n",
              "  /* fitted */\n",
              "  background-color: var(--sklearn-color-fitted-level-0);\n",
              "}\n",
              "\n",
              "/* on hover */\n",
              "#sk-container-id-4 div.sk-estimator:hover {\n",
              "  /* unfitted */\n",
              "  background-color: var(--sklearn-color-unfitted-level-2);\n",
              "}\n",
              "\n",
              "#sk-container-id-4 div.sk-estimator.fitted:hover {\n",
              "  /* fitted */\n",
              "  background-color: var(--sklearn-color-fitted-level-2);\n",
              "}\n",
              "\n",
              "/* Specification for estimator info (e.g. \"i\" and \"?\") */\n",
              "\n",
              "/* Common style for \"i\" and \"?\" */\n",
              "\n",
              ".sk-estimator-doc-link,\n",
              "a:link.sk-estimator-doc-link,\n",
              "a:visited.sk-estimator-doc-link {\n",
              "  float: right;\n",
              "  font-size: smaller;\n",
              "  line-height: 1em;\n",
              "  font-family: monospace;\n",
              "  background-color: var(--sklearn-color-background);\n",
              "  border-radius: 1em;\n",
              "  height: 1em;\n",
              "  width: 1em;\n",
              "  text-decoration: none !important;\n",
              "  margin-left: 0.5em;\n",
              "  text-align: center;\n",
              "  /* unfitted */\n",
              "  border: var(--sklearn-color-unfitted-level-1) 1pt solid;\n",
              "  color: var(--sklearn-color-unfitted-level-1);\n",
              "}\n",
              "\n",
              ".sk-estimator-doc-link.fitted,\n",
              "a:link.sk-estimator-doc-link.fitted,\n",
              "a:visited.sk-estimator-doc-link.fitted {\n",
              "  /* fitted */\n",
              "  border: var(--sklearn-color-fitted-level-1) 1pt solid;\n",
              "  color: var(--sklearn-color-fitted-level-1);\n",
              "}\n",
              "\n",
              "/* On hover */\n",
              "div.sk-estimator:hover .sk-estimator-doc-link:hover,\n",
              ".sk-estimator-doc-link:hover,\n",
              "div.sk-label-container:hover .sk-estimator-doc-link:hover,\n",
              ".sk-estimator-doc-link:hover {\n",
              "  /* unfitted */\n",
              "  background-color: var(--sklearn-color-unfitted-level-3);\n",
              "  color: var(--sklearn-color-background);\n",
              "  text-decoration: none;\n",
              "}\n",
              "\n",
              "div.sk-estimator.fitted:hover .sk-estimator-doc-link.fitted:hover,\n",
              ".sk-estimator-doc-link.fitted:hover,\n",
              "div.sk-label-container:hover .sk-estimator-doc-link.fitted:hover,\n",
              ".sk-estimator-doc-link.fitted:hover {\n",
              "  /* fitted */\n",
              "  background-color: var(--sklearn-color-fitted-level-3);\n",
              "  color: var(--sklearn-color-background);\n",
              "  text-decoration: none;\n",
              "}\n",
              "\n",
              "/* Span, style for the box shown on hovering the info icon */\n",
              ".sk-estimator-doc-link span {\n",
              "  display: none;\n",
              "  z-index: 9999;\n",
              "  position: relative;\n",
              "  font-weight: normal;\n",
              "  right: .2ex;\n",
              "  padding: .5ex;\n",
              "  margin: .5ex;\n",
              "  width: min-content;\n",
              "  min-width: 20ex;\n",
              "  max-width: 50ex;\n",
              "  color: var(--sklearn-color-text);\n",
              "  box-shadow: 2pt 2pt 4pt #999;\n",
              "  /* unfitted */\n",
              "  background: var(--sklearn-color-unfitted-level-0);\n",
              "  border: .5pt solid var(--sklearn-color-unfitted-level-3);\n",
              "}\n",
              "\n",
              ".sk-estimator-doc-link.fitted span {\n",
              "  /* fitted */\n",
              "  background: var(--sklearn-color-fitted-level-0);\n",
              "  border: var(--sklearn-color-fitted-level-3);\n",
              "}\n",
              "\n",
              ".sk-estimator-doc-link:hover span {\n",
              "  display: block;\n",
              "}\n",
              "\n",
              "/* \"?\"-specific style due to the `<a>` HTML tag */\n",
              "\n",
              "#sk-container-id-4 a.estimator_doc_link {\n",
              "  float: right;\n",
              "  font-size: 1rem;\n",
              "  line-height: 1em;\n",
              "  font-family: monospace;\n",
              "  background-color: var(--sklearn-color-background);\n",
              "  border-radius: 1rem;\n",
              "  height: 1rem;\n",
              "  width: 1rem;\n",
              "  text-decoration: none;\n",
              "  /* unfitted */\n",
              "  color: var(--sklearn-color-unfitted-level-1);\n",
              "  border: var(--sklearn-color-unfitted-level-1) 1pt solid;\n",
              "}\n",
              "\n",
              "#sk-container-id-4 a.estimator_doc_link.fitted {\n",
              "  /* fitted */\n",
              "  border: var(--sklearn-color-fitted-level-1) 1pt solid;\n",
              "  color: var(--sklearn-color-fitted-level-1);\n",
              "}\n",
              "\n",
              "/* On hover */\n",
              "#sk-container-id-4 a.estimator_doc_link:hover {\n",
              "  /* unfitted */\n",
              "  background-color: var(--sklearn-color-unfitted-level-3);\n",
              "  color: var(--sklearn-color-background);\n",
              "  text-decoration: none;\n",
              "}\n",
              "\n",
              "#sk-container-id-4 a.estimator_doc_link.fitted:hover {\n",
              "  /* fitted */\n",
              "  background-color: var(--sklearn-color-fitted-level-3);\n",
              "}\n",
              "</style><div id=\"sk-container-id-4\" class=\"sk-top-container\"><div class=\"sk-text-repr-fallback\"><pre>DecisionTreeClassifier(random_state=42)</pre><b>In a Jupyter environment, please rerun this cell to show the HTML representation or trust the notebook. <br />On GitHub, the HTML representation is unable to render, please try loading this page with nbviewer.org.</b></div><div class=\"sk-container\" hidden><div class=\"sk-item\"><div class=\"sk-estimator fitted sk-toggleable\"><input class=\"sk-toggleable__control sk-hidden--visually\" id=\"sk-estimator-id-6\" type=\"checkbox\" checked><label for=\"sk-estimator-id-6\" class=\"sk-toggleable__label fitted sk-toggleable__label-arrow\"><div><div>DecisionTreeClassifier</div></div><div><a class=\"sk-estimator-doc-link fitted\" rel=\"noreferrer\" target=\"_blank\" href=\"https://scikit-learn.org/1.6/modules/generated/sklearn.tree.DecisionTreeClassifier.html\">?<span>Documentation for DecisionTreeClassifier</span></a><span class=\"sk-estimator-doc-link fitted\">i<span>Fitted</span></span></div></label><div class=\"sk-toggleable__content fitted\"><pre>DecisionTreeClassifier(random_state=42)</pre></div> </div></div></div></div>"
            ],
            "text/plain": [
              "DecisionTreeClassifier(random_state=42)"
            ]
          },
          "execution_count": 62,
          "metadata": {},
          "output_type": "execute_result"
        }
      ],
      "source": [
        "# Entrenar el modelo con los datos de entrenamiento\n",
        "tree_model.fit(X_train_tree, y_train_tree)\n"
      ]
    },
    {
      "cell_type": "markdown",
      "metadata": {
        "id": "4zYbepQ8FRQ-"
      },
      "source": [
        "📝 Comentario técnico:\n",
        "* El parámetro criterion='gini' determina cómo se evalúan las divisiones de los nodos.\n",
        "\n",
        "* Puedes usar también 'entropy' para usar la ganancia de información como criterio.\n",
        "\n",
        "* max_depth se puede ajustar en la fase de tuning si detectamos sobreajuste o árboles muy profundos.\n",
        "\n"
      ]
    },
    {
      "cell_type": "markdown",
      "metadata": {
        "id": "2Uss5FgUFyLK"
      },
      "source": [
        "### 📊 16.3 — Evaluación del Modelo de Árbol de Decisión\n",
        "En esta sección, evaluaremos el desempeño del modelo entrenado utilizando el conjunto de prueba. Se calcularán métricas clave como la matriz de confusión, la precisión (accuracy), el reporte de clasificación (precision, recall, F1-score) y la curva ROC con su AUC. Este análisis nos permitirá comparar directamente el rendimiento del Árbol de Decisión con los modelos anteriores (KNN y Regresión Logística)."
      ]
    },
    {
      "cell_type": "markdown",
      "metadata": {
        "id": "M5OTnowcF1sk"
      },
      "source": [
        "📌 Paso 1: Realizar predicciones sobre el conjunto de prueba"
      ]
    },
    {
      "cell_type": "code",
      "execution_count": null,
      "metadata": {
        "id": "p3ceTeYBF21i"
      },
      "outputs": [],
      "source": [
        "# Predecir etiquetas\n",
        "y_pred_tree = tree_model.predict(X_test_tree)\n",
        "\n",
        "# Obtener probabilidades para curva ROC\n",
        "y_proba_tree = tree_model.predict_proba(X_test_tree)[:, 1]\n"
      ]
    },
    {
      "cell_type": "markdown",
      "metadata": {
        "id": "aH_Rj6fpF4_6"
      },
      "source": [
        "📌 Paso 2: Calcular métricas de evaluación"
      ]
    },
    {
      "cell_type": "code",
      "execution_count": null,
      "metadata": {
        "colab": {
          "base_uri": "https://localhost:8080/"
        },
        "id": "wr_28Kt7F5rn",
        "outputId": "05790503-6170-4e0c-cbc9-301ab87ea302"
      },
      "outputs": [
        {
          "name": "stdout",
          "output_type": "stream",
          "text": [
            "Accuracy (Árbol Decisión): 0.6571\n",
            "Matriz de Confusión:\n",
            "[[4194 2148]\n",
            " [2215 4168]]\n",
            "\n",
            "Reporte de Clasificación:\n",
            "              precision    recall  f1-score   support\n",
            "\n",
            "       False       0.65      0.66      0.66      6342\n",
            "        True       0.66      0.65      0.66      6383\n",
            "\n",
            "    accuracy                           0.66     12725\n",
            "   macro avg       0.66      0.66      0.66     12725\n",
            "weighted avg       0.66      0.66      0.66     12725\n",
            "\n"
          ]
        }
      ],
      "source": [
        "from sklearn.metrics import accuracy_score, classification_report, confusion_matrix\n",
        "\n",
        "# Accuracy\n",
        "print(f\"Accuracy (Árbol Decisión): {accuracy_score(y_test_tree, y_pred_tree):.4f}\")\n",
        "\n",
        "# Matriz de Confusión\n",
        "print(\"Matriz de Confusión:\")\n",
        "print(confusion_matrix(y_test_tree, y_pred_tree))\n",
        "\n",
        "# Reporte de Clasificación\n",
        "print(\"\\nReporte de Clasificación:\")\n",
        "print(classification_report(y_test_tree, y_pred_tree))\n"
      ]
    },
    {
      "cell_type": "markdown",
      "metadata": {
        "id": "1aCCCg0iF7R6"
      },
      "source": [
        "📌 Paso 3: Visualizar la matriz de confusión"
      ]
    },
    {
      "cell_type": "code",
      "execution_count": null,
      "metadata": {
        "colab": {
          "base_uri": "https://localhost:8080/",
          "height": 410
        },
        "id": "A0WVax8IF9H2",
        "outputId": "00c09a84-0837-4a09-a348-5d563c8837f8"
      },
      "outputs": [
        {
          "data": {
            "image/png": "[encoded data removed]",
            "text/plain": [
              "<Figure size 500x400 with 2 Axes>"
            ]
          },
          "metadata": {},
          "output_type": "display_data"
        }
      ],
      "source": [
        "import seaborn as sns\n",
        "import matplotlib.pyplot as plt\n",
        "\n",
        "plt.figure(figsize=(5,4))\n",
        "sns.heatmap(confusion_matrix(y_test_tree, y_pred_tree), annot=True, fmt='d', cmap='Greens',\n",
        "            xticklabels=[\"No Diabetes\", \"Diabetes\"],\n",
        "            yticklabels=[\"No Diabetes\", \"Diabetes\"])\n",
        "plt.title(\"Matriz de Confusión — Árbol de Decisión\")\n",
        "plt.xlabel(\"Predicción\")\n",
        "plt.ylabel(\"Real\")\n",
        "plt.show()\n"
      ]
    },
    {
      "cell_type": "markdown",
      "metadata": {
        "id": "TTD7VgbhGA7s"
      },
      "source": [
        "📌 Paso 4: Curva ROC y AUC"
      ]
    },
    {
      "cell_type": "code",
      "execution_count": null,
      "metadata": {
        "colab": {
          "base_uri": "https://localhost:8080/",
          "height": 410
        },
        "id": "guOpqxjjGCIf",
        "outputId": "9cf351c3-95c8-4b9c-8361-5c147a8aa5bd"
      },
      "outputs": [
        {
          "data": {
            "image/png": "[encoded data removed]",
            "text/plain": [
              "<Figure size 600x400 with 1 Axes>"
            ]
          },
          "metadata": {},
          "output_type": "display_data"
        }
      ],
      "source": [
        "from sklearn.metrics import roc_curve, auc\n",
        "\n",
        "# Calcular TPR, FPR\n",
        "fpr_tree, tpr_tree, _ = roc_curve(y_test_tree, y_proba_tree)\n",
        "auc_tree = auc(fpr_tree, tpr_tree)\n",
        "\n",
        "# Graficar curva ROC\n",
        "plt.figure(figsize=(6, 4))\n",
        "plt.plot(fpr_tree, tpr_tree, label=f'AUC = {auc_tree:.3f}')\n",
        "plt.plot([0,1], [0,1], linestyle='--', color='gray')\n",
        "plt.xlabel(\"False Positive Rate\")\n",
        "plt.ylabel(\"True Positive Rate\")\n",
        "plt.title(\"Curva ROC — Árbol de Decisión\")\n",
        "plt.legend()\n",
        "plt.show()\n"
      ]
    },
    {
      "cell_type": "markdown",
      "metadata": {
        "id": "z5d1LxeNIapp"
      },
      "source": [
        "### 📊 16.4 — Evaluación del Modelo de Árbol de Decisión\n",
        "En esta sección se presentan y analizan las métricas obtenidas tras entrenar un modelo de clasificación utilizando un Árbol de Decisión. Este modelo fue entrenado con los datos procesados del conjunto X_train_tree, y evaluado sobre el conjunto X_test_tree."
      ]
    },
    {
      "cell_type": "markdown",
      "metadata": {
        "id": "iTO3jwobIf5B"
      },
      "source": [
        "📌 Resultados obtenidos\n",
        "Accuracy (precisión global): 0.6571\n",
        "\n",
        "Matriz de Confusión:"
      ]
    },
    {
      "cell_type": "markdown",
      "metadata": {
        "id": "P97qI57YIlcG"
      },
      "source": [
        "|                      | Predice No Diabetes | Predice Diabetes |\n",
        "| -------------------- | ------------------- | ---------------- |\n",
        "| **Real No Diabetes** | 4194 (VP)           | 2148 (FP)        |\n",
        "| **Real Diabetes**    | 2215 (FN)           | 4168 (VN)        |\n"
      ]
    },
    {
      "cell_type": "markdown",
      "metadata": {
        "id": "BVKhIYxpIo0X"
      },
      "source": [
        "Reporte de clasificación:"
      ]
    },
    {
      "cell_type": "markdown",
      "metadata": {
        "id": "UAUQdPtJIqAW"
      },
      "source": [
        "| Clase           | Precisión | Recall | F1-score | Soporte |\n",
        "| --------------- | --------- | ------ | -------- | ------- |\n",
        "| **No Diabetes** | 0.65      | 0.66   | 0.66     | 6342    |\n",
        "| **Diabetes**    | 0.66      | 0.65   | 0.66     | 6383    |\n",
        "| **Promedios**   | 0.66      | 0.66   | 0.66     | 12725   |\n"
      ]
    },
    {
      "cell_type": "markdown",
      "metadata": {
        "id": "-BW9OO3jIs6Z"
      },
      "source": [
        "AUC (Área bajo la curva ROC): 0.657"
      ]
    },
    {
      "cell_type": "markdown",
      "metadata": {
        "id": "YZbeXa0mIvFG"
      },
      "source": [
        "📈 Interpretación\n",
        "El modelo muestra un rendimiento moderado, con valores similares de precisión, recall y F1-score para ambas clases. Esto sugiere un balance adecuado en la predicción de clases, pero sin destacarse en rendimiento.\n",
        "\n",
        "La accuracy de 65.7% indica que el modelo comete errores en una proporción significativa de los casos, lo que puede deberse a sobreajuste (overfitting) o falta de poda en el árbol.\n",
        "\n",
        "La curva ROC y su correspondiente AUC = 0.657 reflejan una capacidad de discriminación baja entre las clases, apenas mejor que una clasificación aleatoria (AUC = 0.5)."
      ]
    },
    {
      "cell_type": "markdown",
      "metadata": {
        "id": "Nb88gC4gRsy7"
      },
      "source": [
        "## 🔍 Comparación General de Desempeño de Modelos"
      ]
    },
    {
      "cell_type": "markdown",
      "metadata": {
        "id": "R8qf65uiR0de"
      },
      "source": [
        "| Métrica             | KNN (k=19) | Regresión Logística | Árbol de Decisión |\n",
        "| ------------------- | ---------- | ------------------- | ----------------- |\n",
        "| Accuracy            | 0.7346     | 0.7532              | 0.6571            |\n",
        "| F1-Score (Clase 1)  | 0.74       | 0.76                | 0.66              |\n",
        "| Recall (Clase 1)    | 0.77       | 0.79                | 0.65              |\n",
        "| Precision (Clase 1) | 0.72       | 0.74                | 0.66              |\n",
        "| AUC (Curva ROC)     | 0.806      | **0.829**           | 0.657             |\n"
      ]
    },
    {
      "cell_type": "markdown",
      "metadata": {
        "id": "9GnzvfBrR5P3"
      },
      "source": [
        "🧠 Análisis por Modelo\n",
        "✅ 1. KNN (k=19)\n",
        "* Puntos fuertes:\n",
        "\n",
        "  * Buen balance entre precisión y recall.\n",
        "\n",
        "  * Curva ROC con AUC de 0.806 → buen separador de clases.\n",
        "\n",
        "  * F1-Score aceptable (0.74) y mejor que Árbol.\n",
        "\n",
        "* Limitaciones:\n",
        "\n",
        "  * Algo costoso computacionalmente en datasets grandes.\n",
        "\n",
        "  * Algo más sensible a variables no escaladas.\n",
        "\n",
        "✅ 2. Regresión Logística\n",
        "* Puntos fuertes:\n",
        "\n",
        "  * Mejor desempeño global: mejor accuracy, f1-score, recall y AUC.\n",
        "\n",
        "  * Modelo interpretable, eficiente y robusto.\n",
        "\n",
        "  * Buen ajuste con características binarias y numéricas normalizadas.\n",
        "\n",
        "* Limitaciones:\n",
        "\n",
        "  * Puede no capturar relaciones no lineales complejas.\n",
        "\n",
        "⚠️ 3. Árbol de Decisión\n",
        "* Puntos fuertes:\n",
        "\n",
        "  * Interpretabilidad visual (estructura de árbol).\n",
        "  \n",
        "  * Fácil de implementar y explicar.\n",
        "\n",
        "* Limitaciones:\n",
        "\n",
        "  * Peor desempeño: accuracy de 0.6571, AUC bajo (0.657).\n",
        "\n",
        "  * Riesgo de sobreajuste si no se aplica poda.\n",
        "\n",
        "  * Menor capacidad predictiva comparado con los otros modelos.\n",
        "\n"
      ]
    },
    {
      "cell_type": "markdown",
      "metadata": {
        "id": "EXeQcXwtTBHg"
      },
      "source": [
        "## 📈 Conclusión Comparativa\n",
        "| Criterio                  | Mejor Modelo        |\n",
        "| ------------------------- | ------------------- |\n",
        "| **Precisión (Accuracy)**  | Regresión Logística |\n",
        "| **Recall y F1 (Clase 1)** | Regresión Logística |\n",
        "| **AUC ROC**               | Regresión Logística |\n",
        "| **Simplicidad Visual**    | Árbol de Decisión   |\n",
        "| **Robustez y balance**    | KNN                 |\n"
      ]
    },
    {
      "cell_type": "markdown",
      "metadata": {
        "id": "uqQB_juTTMIN"
      },
      "source": [
        "🏆 Modelo recomendado: Regresión Logística\n",
        "Por su mejor rendimiento general en todas las métricas clave, siendo robusto, balanceado y eficiente."
      ]
    },
    {
      "cell_type": "markdown",
      "metadata": {
        "id": "ta_tTBHwWgn2"
      },
      "source": [
        "## 🔧 17 — Estrategias de Mejora de Modelos de Clasificación"
      ]
    },
    {
      "cell_type": "markdown",
      "metadata": {
        "id": "1VbZW_SHWnao"
      },
      "source": [
        "### 📌 17.1 — Objetivo de la Sección\n",
        "En esta sección se explorarán técnicas para mejorar el rendimiento de los modelos clasificadores previamente implementados (KNN, Regresión Logística y Árbol de Decisión). El objetivo es aumentar la precisión y capacidad de generalización de los modelos para optimizar la predicción del diagnóstico de diabetes. Se aplicarán estrategias como ajuste de hiperparámetros, análisis de características, técnicas de balanceo y posibles modelos ensemble, partiendo de los resultados obtenidos en fases anteriores."
      ]
    },
    {
      "cell_type": "markdown",
      "metadata": {
        "id": "ZuQ6hMb9Wq94"
      },
      "source": [
        "### 📊 17.2 — Revisión del Desempeño Actual de los Modelos\n",
        "| Modelo              | Accuracy | F1-Score (Clase 1) | AUC   |\n",
        "| ------------------- | -------- | ------------------ | ----- |\n",
        "| KNN (k=19)          | 0.7346   | 0.74               | 0.806 |\n",
        "| Regresión Logística | 0.7532   | 0.76                | 0.829 |\n",
        "| Árbol de Decisión   | 0.6571   | 0.66               | 0.657 |\n",
        "\n",
        "Resumen:\n",
        "\n",
        "* El modelo de Regresión Logística presentó el mejor desempeño global.\n",
        "\n",
        "* El modelo KNN mostró una buena capacidad predictiva con AUC > 0.80.\n",
        "\n",
        "* El Árbol de Decisión fue el más débil en todas las métricas, con margen de mejora significativo."
      ]
    },
    {
      "cell_type": "markdown",
      "metadata": {
        "id": "QFrd1JQ5W0cV"
      },
      "source": [
        "### 🧪 17.3 — Líneas de Mejora Identificadas\n",
        "Se identifican las siguientes estrategias de mejora por modelo y de forma transversal:"
      ]
    },
    {
      "cell_type": "markdown",
      "metadata": {
        "id": "9mta_h3XW2Je"
      },
      "source": [
        "17.3.1 — Ajuste de Hiperparámetros\n",
        "\n",
        "📍 KNN: Ya aplicado con éxito (k=19 óptimo).\n",
        "\n",
        "📍 Regresión Logística: Ajustar parámetros como C, penalty, solver, class_weight.\n",
        "\n",
        "📍 Árbol de Decisión: Ajustar max_depth, min_samples_split, criterion, min_samples_leaf.\n",
        "\n",
        "✅ Recomendado iniciar por el Árbol de Decisión, debido a su bajo rendimiento actual.\n",
        "\n"
      ]
    },
    {
      "cell_type": "markdown",
      "metadata": {
        "id": "bFJKAQSdW610"
      },
      "source": [
        "17.3.2 — Técnicas de Balanceo (si se detectan desbalances)\n",
        "* class_weight='balanced'\n",
        "\n",
        "* SMOTE, RandomOverSampler, TomekLinks (no necesarias ahora, pero útiles si cambia la distribución).\n",
        "\n"
      ]
    },
    {
      "cell_type": "markdown",
      "metadata": {
        "id": "tU9Rh0dVW-TJ"
      },
      "source": [
        "17.3.3 — Ingeniería de Características\n",
        "* Evaluar importancia de variables.\n",
        "\n",
        "* Eliminar características redundantes o de baja varianza.\n",
        "\n",
        "* Incorporar combinaciones relevantes (si aplica).\n",
        "\n"
      ]
    },
    {
      "cell_type": "markdown",
      "metadata": {
        "id": "jei5Jz0bXCg6"
      },
      "source": [
        "17.3.4 — Evaluación de Escalado\n",
        "\n",
        "✅ Ya implementado correctamente para Regresión Logística y KNN.\n",
        "\n",
        "❌ No requerido para Árbol de Decisión, pero puede revisarse si se combinan modelos.\n",
        "\n"
      ]
    },
    {
      "cell_type": "markdown",
      "metadata": {
        "id": "sQ_BKIP5XFeU"
      },
      "source": [
        "17.3.5 — Modelos Ensemble (etapa futura)\n",
        "* Random Forest, Gradient Boosting, VotingClassifier o Stacking pueden aumentar precisión final.\n",
        "\n",
        "* Se recomienda aplicar luego del ajuste de modelos base."
      ]
    },
    {
      "cell_type": "markdown",
      "metadata": {
        "id": "RUlfg8AQX1WH"
      },
      "source": [
        "### 🌲 17.4 — Optimización del Árbol de Decisión con GridSearchCV\n",
        "📌 Objetivo\n",
        "\n",
        "Optimizar el modelo de Árbol de Decisión mediante la búsqueda sistemática de hiperparámetros clave que controlan la complejidad del árbol (como profundidad máxima, criterios de división, y tamaño mínimo de muestras por hoja), con el fin de mejorar su capacidad predictiva sin sobreajuste."
      ]
    },
    {
      "cell_type": "markdown",
      "metadata": {
        "id": "6vikUuNpbvm-"
      },
      "source": [
        "🛡️ Copia de seguridad del dataset y modelo\n"
      ]
    },
    {
      "cell_type": "code",
      "execution_count": null,
      "metadata": {
        "id": "AYAj3rdmbzYh"
      },
      "outputs": [],
      "source": [
        "# Copia de seguridad de los conjuntos originales\n",
        "X_train_tree_bkp = X_train_tree.copy()\n",
        "X_test_tree_bkp = X_test_tree.copy()\n",
        "y_train_tree_bkp = y_train_tree.copy()\n",
        "y_test_tree_bkp = y_test_tree.copy()"
      ]
    },
    {
      "cell_type": "markdown",
      "metadata": {
        "id": "nsEXG_DIb36j"
      },
      "source": [
        "🧪 Configuración del GridSearchCV"
      ]
    },
    {
      "cell_type": "code",
      "execution_count": null,
      "metadata": {
        "colab": {
          "base_uri": "https://localhost:8080/",
          "height": 183
        },
        "id": "qz4YCA_lb5Z6",
        "outputId": "e3ca4d57-dfcd-44fa-9347-30c1efa250df"
      },
      "outputs": [
        {
          "name": "stdout",
          "output_type": "stream",
          "text": [
            "Fitting 5 folds for each of 90 candidates, totalling 450 fits\n"
          ]
        },
        {
          "data": {
            "text/html": [
              "<style>#sk-container-id-5 {\n",
              "  /* Definition of color scheme common for light and dark mode */\n",
              "  --sklearn-color-text: #000;\n",
              "  --sklearn-color-text-muted: #666;\n",
              "  --sklearn-color-line: gray;\n",
              "  /* Definition of color scheme for unfitted estimators */\n",
              "  --sklearn-color-unfitted-level-0: #fff5e6;\n",
              "  --sklearn-color-unfitted-level-1: #f6e4d2;\n",
              "  --sklearn-color-unfitted-level-2: #ffe0b3;\n",
              "  --sklearn-color-unfitted-level-3: chocolate;\n",
              "  /* Definition of color scheme for fitted estimators */\n",
              "  --sklearn-color-fitted-level-0: #f0f8ff;\n",
              "  --sklearn-color-fitted-level-1: #d4ebff;\n",
              "  --sklearn-color-fitted-level-2: #b3dbfd;\n",
              "  --sklearn-color-fitted-level-3: cornflowerblue;\n",
              "\n",
              "  /* Specific color for light theme */\n",
              "  --sklearn-color-text-on-default-background: var(--sg-text-color, var(--theme-code-foreground, var(--jp-content-font-color1, black)));\n",
              "  --sklearn-color-background: var(--sg-background-color, var(--theme-background, var(--jp-layout-color0, white)));\n",
              "  --sklearn-color-border-box: var(--sg-text-color, var(--theme-code-foreground, var(--jp-content-font-color1, black)));\n",
              "  --sklearn-color-icon: #696969;\n",
              "\n",
              "  @media (prefers-color-scheme: dark) {\n",
              "    /* Redefinition of color scheme for dark theme */\n",
              "    --sklearn-color-text-on-default-background: var(--sg-text-color, var(--theme-code-foreground, var(--jp-content-font-color1, white)));\n",
              "    --sklearn-color-background: var(--sg-background-color, var(--theme-background, var(--jp-layout-color0, #111)));\n",
              "    --sklearn-color-border-box: var(--sg-text-color, var(--theme-code-foreground, var(--jp-content-font-color1, white)));\n",
              "    --sklearn-color-icon: #878787;\n",
              "  }\n",
              "}\n",
              "\n",
              "#sk-container-id-5 {\n",
              "  color: var(--sklearn-color-text);\n",
              "}\n",
              "\n",
              "#sk-container-id-5 pre {\n",
              "  padding: 0;\n",
              "}\n",
              "\n",
              "#sk-container-id-5 input.sk-hidden--visually {\n",
              "  border: 0;\n",
              "  clip: rect(1px 1px 1px 1px);\n",
              "  clip: rect(1px, 1px, 1px, 1px);\n",
              "  height: 1px;\n",
              "  margin: -1px;\n",
              "  overflow: hidden;\n",
              "  padding: 0;\n",
              "  position: absolute;\n",
              "  width: 1px;\n",
              "}\n",
              "\n",
              "#sk-container-id-5 div.sk-dashed-wrapped {\n",
              "  border: 1px dashed var(--sklearn-color-line);\n",
              "  margin: 0 0.4em 0.5em 0.4em;\n",
              "  box-sizing: border-box;\n",
              "  padding-bottom: 0.4em;\n",
              "  background-color: var(--sklearn-color-background);\n",
              "}\n",
              "\n",
              "#sk-container-id-5 div.sk-container {\n",
              "  /* jupyter's `normalize.less` sets `[hidden] { display: none; }`\n",
              "     but bootstrap.min.css set `[hidden] { display: none !important; }`\n",
              "     so we also need the `!important` here to be able to override the\n",
              "     default hidden behavior on the sphinx rendered scikit-learn.org.\n",
              "     See: https://github.com/scikit-learn/scikit-learn/issues/21755 */\n",
              "  display: inline-block !important;\n",
              "  position: relative;\n",
              "}\n",
              "\n",
              "#sk-container-id-5 div.sk-text-repr-fallback {\n",
              "  display: none;\n",
              "}\n",
              "\n",
              "div.sk-parallel-item,\n",
              "div.sk-serial,\n",
              "div.sk-item {\n",
              "  /* draw centered vertical line to link estimators */\n",
              "  background-image: linear-gradient(var(--sklearn-color-text-on-default-background), var(--sklearn-color-text-on-default-background));\n",
              "  background-size: 2px 100%;\n",
              "  background-repeat: no-repeat;\n",
              "  background-position: center center;\n",
              "}\n",
              "\n",
              "/* Parallel-specific style estimator block */\n",
              "\n",
              "#sk-container-id-5 div.sk-parallel-item::after {\n",
              "  content: \"\";\n",
              "  width: 100%;\n",
              "  border-bottom: 2px solid var(--sklearn-color-text-on-default-background);\n",
              "  flex-grow: 1;\n",
              "}\n",
              "\n",
              "#sk-container-id-5 div.sk-parallel {\n",
              "  display: flex;\n",
              "  align-items: stretch;\n",
              "  justify-content: center;\n",
              "  background-color: var(--sklearn-color-background);\n",
              "  position: relative;\n",
              "}\n",
              "\n",
              "#sk-container-id-5 div.sk-parallel-item {\n",
              "  display: flex;\n",
              "  flex-direction: column;\n",
              "}\n",
              "\n",
              "#sk-container-id-5 div.sk-parallel-item:first-child::after {\n",
              "  align-self: flex-end;\n",
              "  width: 50%;\n",
              "}\n",
              "\n",
              "#sk-container-id-5 div.sk-parallel-item:last-child::after {\n",
              "  align-self: flex-start;\n",
              "  width: 50%;\n",
              "}\n",
              "\n",
              "#sk-container-id-5 div.sk-parallel-item:only-child::after {\n",
              "  width: 0;\n",
              "}\n",
              "\n",
              "/* Serial-specific style estimator block */\n",
              "\n",
              "#sk-container-id-5 div.sk-serial {\n",
              "  display: flex;\n",
              "  flex-direction: column;\n",
              "  align-items: center;\n",
              "  background-color: var(--sklearn-color-background);\n",
              "  padding-right: 1em;\n",
              "  padding-left: 1em;\n",
              "}\n",
              "\n",
              "\n",
              "/* Toggleable style: style used for estimator/Pipeline/ColumnTransformer box that is\n",
              "clickable and can be expanded/collapsed.\n",
              "- Pipeline and ColumnTransformer use this feature and define the default style\n",
              "- Estimators will overwrite some part of the style using the `sk-estimator` class\n",
              "*/\n",
              "\n",
              "/* Pipeline and ColumnTransformer style (default) */\n",
              "\n",
              "#sk-container-id-5 div.sk-toggleable {\n",
              "  /* Default theme specific background. It is overwritten whether we have a\n",
              "  specific estimator or a Pipeline/ColumnTransformer */\n",
              "  background-color: var(--sklearn-color-background);\n",
              "}\n",
              "\n",
              "/* Toggleable label */\n",
              "#sk-container-id-5 label.sk-toggleable__label {\n",
              "  cursor: pointer;\n",
              "  display: flex;\n",
              "  width: 100%;\n",
              "  margin-bottom: 0;\n",
              "  padding: 0.5em;\n",
              "  box-sizing: border-box;\n",
              "  text-align: center;\n",
              "  align-items: start;\n",
              "  justify-content: space-between;\n",
              "  gap: 0.5em;\n",
              "}\n",
              "\n",
              "#sk-container-id-5 label.sk-toggleable__label .caption {\n",
              "  font-size: 0.6rem;\n",
              "  font-weight: lighter;\n",
              "  color: var(--sklearn-color-text-muted);\n",
              "}\n",
              "\n",
              "#sk-container-id-5 label.sk-toggleable__label-arrow:before {\n",
              "  /* Arrow on the left of the label */\n",
              "  content: \"▸\";\n",
              "  float: left;\n",
              "  margin-right: 0.25em;\n",
              "  color: var(--sklearn-color-icon);\n",
              "}\n",
              "\n",
              "#sk-container-id-5 label.sk-toggleable__label-arrow:hover:before {\n",
              "  color: var(--sklearn-color-text);\n",
              "}\n",
              "\n",
              "/* Toggleable content - dropdown */\n",
              "\n",
              "#sk-container-id-5 div.sk-toggleable__content {\n",
              "  max-height: 0;\n",
              "  max-width: 0;\n",
              "  overflow: hidden;\n",
              "  text-align: left;\n",
              "  /* unfitted */\n",
              "  background-color: var(--sklearn-color-unfitted-level-0);\n",
              "}\n",
              "\n",
              "#sk-container-id-5 div.sk-toggleable__content.fitted {\n",
              "  /* fitted */\n",
              "  background-color: var(--sklearn-color-fitted-level-0);\n",
              "}\n",
              "\n",
              "#sk-container-id-5 div.sk-toggleable__content pre {\n",
              "  margin: 0.2em;\n",
              "  border-radius: 0.25em;\n",
              "  color: var(--sklearn-color-text);\n",
              "  /* unfitted */\n",
              "  background-color: var(--sklearn-color-unfitted-level-0);\n",
              "}\n",
              "\n",
              "#sk-container-id-5 div.sk-toggleable__content.fitted pre {\n",
              "  /* unfitted */\n",
              "  background-color: var(--sklearn-color-fitted-level-0);\n",
              "}\n",
              "\n",
              "#sk-container-id-5 input.sk-toggleable__control:checked~div.sk-toggleable__content {\n",
              "  /* Expand drop-down */\n",
              "  max-height: 200px;\n",
              "  max-width: 100%;\n",
              "  overflow: auto;\n",
              "}\n",
              "\n",
              "#sk-container-id-5 input.sk-toggleable__control:checked~label.sk-toggleable__label-arrow:before {\n",
              "  content: \"▾\";\n",
              "}\n",
              "\n",
              "/* Pipeline/ColumnTransformer-specific style */\n",
              "\n",
              "#sk-container-id-5 div.sk-label input.sk-toggleable__control:checked~label.sk-toggleable__label {\n",
              "  color: var(--sklearn-color-text);\n",
              "  background-color: var(--sklearn-color-unfitted-level-2);\n",
              "}\n",
              "\n",
              "#sk-container-id-5 div.sk-label.fitted input.sk-toggleable__control:checked~label.sk-toggleable__label {\n",
              "  background-color: var(--sklearn-color-fitted-level-2);\n",
              "}\n",
              "\n",
              "/* Estimator-specific style */\n",
              "\n",
              "/* Colorize estimator box */\n",
              "#sk-container-id-5 div.sk-estimator input.sk-toggleable__control:checked~label.sk-toggleable__label {\n",
              "  /* unfitted */\n",
              "  background-color: var(--sklearn-color-unfitted-level-2);\n",
              "}\n",
              "\n",
              "#sk-container-id-5 div.sk-estimator.fitted input.sk-toggleable__control:checked~label.sk-toggleable__label {\n",
              "  /* fitted */\n",
              "  background-color: var(--sklearn-color-fitted-level-2);\n",
              "}\n",
              "\n",
              "#sk-container-id-5 div.sk-label label.sk-toggleable__label,\n",
              "#sk-container-id-5 div.sk-label label {\n",
              "  /* The background is the default theme color */\n",
              "  color: var(--sklearn-color-text-on-default-background);\n",
              "}\n",
              "\n",
              "/* On hover, darken the color of the background */\n",
              "#sk-container-id-5 div.sk-label:hover label.sk-toggleable__label {\n",
              "  color: var(--sklearn-color-text);\n",
              "  background-color: var(--sklearn-color-unfitted-level-2);\n",
              "}\n",
              "\n",
              "/* Label box, darken color on hover, fitted */\n",
              "#sk-container-id-5 div.sk-label.fitted:hover label.sk-toggleable__label.fitted {\n",
              "  color: var(--sklearn-color-text);\n",
              "  background-color: var(--sklearn-color-fitted-level-2);\n",
              "}\n",
              "\n",
              "/* Estimator label */\n",
              "\n",
              "#sk-container-id-5 div.sk-label label {\n",
              "  font-family: monospace;\n",
              "  font-weight: bold;\n",
              "  display: inline-block;\n",
              "  line-height: 1.2em;\n",
              "}\n",
              "\n",
              "#sk-container-id-5 div.sk-label-container {\n",
              "  text-align: center;\n",
              "}\n",
              "\n",
              "/* Estimator-specific */\n",
              "#sk-container-id-5 div.sk-estimator {\n",
              "  font-family: monospace;\n",
              "  border: 1px dotted var(--sklearn-color-border-box);\n",
              "  border-radius: 0.25em;\n",
              "  box-sizing: border-box;\n",
              "  margin-bottom: 0.5em;\n",
              "  /* unfitted */\n",
              "  background-color: var(--sklearn-color-unfitted-level-0);\n",
              "}\n",
              "\n",
              "#sk-container-id-5 div.sk-estimator.fitted {\n",
              "  /* fitted */\n",
              "  background-color: var(--sklearn-color-fitted-level-0);\n",
              "}\n",
              "\n",
              "/* on hover */\n",
              "#sk-container-id-5 div.sk-estimator:hover {\n",
              "  /* unfitted */\n",
              "  background-color: var(--sklearn-color-unfitted-level-2);\n",
              "}\n",
              "\n",
              "#sk-container-id-5 div.sk-estimator.fitted:hover {\n",
              "  /* fitted */\n",
              "  background-color: var(--sklearn-color-fitted-level-2);\n",
              "}\n",
              "\n",
              "/* Specification for estimator info (e.g. \"i\" and \"?\") */\n",
              "\n",
              "/* Common style for \"i\" and \"?\" */\n",
              "\n",
              ".sk-estimator-doc-link,\n",
              "a:link.sk-estimator-doc-link,\n",
              "a:visited.sk-estimator-doc-link {\n",
              "  float: right;\n",
              "  font-size: smaller;\n",
              "  line-height: 1em;\n",
              "  font-family: monospace;\n",
              "  background-color: var(--sklearn-color-background);\n",
              "  border-radius: 1em;\n",
              "  height: 1em;\n",
              "  width: 1em;\n",
              "  text-decoration: none !important;\n",
              "  margin-left: 0.5em;\n",
              "  text-align: center;\n",
              "  /* unfitted */\n",
              "  border: var(--sklearn-color-unfitted-level-1) 1pt solid;\n",
              "  color: var(--sklearn-color-unfitted-level-1);\n",
              "}\n",
              "\n",
              ".sk-estimator-doc-link.fitted,\n",
              "a:link.sk-estimator-doc-link.fitted,\n",
              "a:visited.sk-estimator-doc-link.fitted {\n",
              "  /* fitted */\n",
              "  border: var(--sklearn-color-fitted-level-1) 1pt solid;\n",
              "  color: var(--sklearn-color-fitted-level-1);\n",
              "}\n",
              "\n",
              "/* On hover */\n",
              "div.sk-estimator:hover .sk-estimator-doc-link:hover,\n",
              ".sk-estimator-doc-link:hover,\n",
              "div.sk-label-container:hover .sk-estimator-doc-link:hover,\n",
              ".sk-estimator-doc-link:hover {\n",
              "  /* unfitted */\n",
              "  background-color: var(--sklearn-color-unfitted-level-3);\n",
              "  color: var(--sklearn-color-background);\n",
              "  text-decoration: none;\n",
              "}\n",
              "\n",
              "div.sk-estimator.fitted:hover .sk-estimator-doc-link.fitted:hover,\n",
              ".sk-estimator-doc-link.fitted:hover,\n",
              "div.sk-label-container:hover .sk-estimator-doc-link.fitted:hover,\n",
              ".sk-estimator-doc-link.fitted:hover {\n",
              "  /* fitted */\n",
              "  background-color: var(--sklearn-color-fitted-level-3);\n",
              "  color: var(--sklearn-color-background);\n",
              "  text-decoration: none;\n",
              "}\n",
              "\n",
              "/* Span, style for the box shown on hovering the info icon */\n",
              ".sk-estimator-doc-link span {\n",
              "  display: none;\n",
              "  z-index: 9999;\n",
              "  position: relative;\n",
              "  font-weight: normal;\n",
              "  right: .2ex;\n",
              "  padding: .5ex;\n",
              "  margin: .5ex;\n",
              "  width: min-content;\n",
              "  min-width: 20ex;\n",
              "  max-width: 50ex;\n",
              "  color: var(--sklearn-color-text);\n",
              "  box-shadow: 2pt 2pt 4pt #999;\n",
              "  /* unfitted */\n",
              "  background: var(--sklearn-color-unfitted-level-0);\n",
              "  border: .5pt solid var(--sklearn-color-unfitted-level-3);\n",
              "}\n",
              "\n",
              ".sk-estimator-doc-link.fitted span {\n",
              "  /* fitted */\n",
              "  background: var(--sklearn-color-fitted-level-0);\n",
              "  border: var(--sklearn-color-fitted-level-3);\n",
              "}\n",
              "\n",
              ".sk-estimator-doc-link:hover span {\n",
              "  display: block;\n",
              "}\n",
              "\n",
              "/* \"?\"-specific style due to the `<a>` HTML tag */\n",
              "\n",
              "#sk-container-id-5 a.estimator_doc_link {\n",
              "  float: right;\n",
              "  font-size: 1rem;\n",
              "  line-height: 1em;\n",
              "  font-family: monospace;\n",
              "  background-color: var(--sklearn-color-background);\n",
              "  border-radius: 1rem;\n",
              "  height: 1rem;\n",
              "  width: 1rem;\n",
              "  text-decoration: none;\n",
              "  /* unfitted */\n",
              "  color: var(--sklearn-color-unfitted-level-1);\n",
              "  border: var(--sklearn-color-unfitted-level-1) 1pt solid;\n",
              "}\n",
              "\n",
              "#sk-container-id-5 a.estimator_doc_link.fitted {\n",
              "  /* fitted */\n",
              "  border: var(--sklearn-color-fitted-level-1) 1pt solid;\n",
              "  color: var(--sklearn-color-fitted-level-1);\n",
              "}\n",
              "\n",
              "/* On hover */\n",
              "#sk-container-id-5 a.estimator_doc_link:hover {\n",
              "  /* unfitted */\n",
              "  background-color: var(--sklearn-color-unfitted-level-3);\n",
              "  color: var(--sklearn-color-background);\n",
              "  text-decoration: none;\n",
              "}\n",
              "\n",
              "#sk-container-id-5 a.estimator_doc_link.fitted:hover {\n",
              "  /* fitted */\n",
              "  background-color: var(--sklearn-color-fitted-level-3);\n",
              "}\n",
              "</style><div id=\"sk-container-id-5\" class=\"sk-top-container\"><div class=\"sk-text-repr-fallback\"><pre>GridSearchCV(cv=5, estimator=DecisionTreeClassifier(random_state=42), n_jobs=-1,\n",
              "             param_grid={&#x27;criterion&#x27;: [&#x27;gini&#x27;, &#x27;entropy&#x27;],\n",
              "                         &#x27;max_depth&#x27;: [4, 6, 8, 10, None],\n",
              "                         &#x27;min_samples_leaf&#x27;: [1, 2, 4],\n",
              "                         &#x27;min_samples_split&#x27;: [2, 5, 10]},\n",
              "             scoring=&#x27;f1&#x27;, verbose=1)</pre><b>In a Jupyter environment, please rerun this cell to show the HTML representation or trust the notebook. <br />On GitHub, the HTML representation is unable to render, please try loading this page with nbviewer.org.</b></div><div class=\"sk-container\" hidden><div class=\"sk-item sk-dashed-wrapped\"><div class=\"sk-label-container\"><div class=\"sk-label fitted sk-toggleable\"><input class=\"sk-toggleable__control sk-hidden--visually\" id=\"sk-estimator-id-7\" type=\"checkbox\" ><label for=\"sk-estimator-id-7\" class=\"sk-toggleable__label fitted sk-toggleable__label-arrow\"><div><div>GridSearchCV</div></div><div><a class=\"sk-estimator-doc-link fitted\" rel=\"noreferrer\" target=\"_blank\" href=\"https://scikit-learn.org/1.6/modules/generated/sklearn.model_selection.GridSearchCV.html\">?<span>Documentation for GridSearchCV</span></a><span class=\"sk-estimator-doc-link fitted\">i<span>Fitted</span></span></div></label><div class=\"sk-toggleable__content fitted\"><pre>GridSearchCV(cv=5, estimator=DecisionTreeClassifier(random_state=42), n_jobs=-1,\n",
              "             param_grid={&#x27;criterion&#x27;: [&#x27;gini&#x27;, &#x27;entropy&#x27;],\n",
              "                         &#x27;max_depth&#x27;: [4, 6, 8, 10, None],\n",
              "                         &#x27;min_samples_leaf&#x27;: [1, 2, 4],\n",
              "                         &#x27;min_samples_split&#x27;: [2, 5, 10]},\n",
              "             scoring=&#x27;f1&#x27;, verbose=1)</pre></div> </div></div><div class=\"sk-parallel\"><div class=\"sk-parallel-item\"><div class=\"sk-item\"><div class=\"sk-label-container\"><div class=\"sk-label fitted sk-toggleable\"><input class=\"sk-toggleable__control sk-hidden--visually\" id=\"sk-estimator-id-8\" type=\"checkbox\" ><label for=\"sk-estimator-id-8\" class=\"sk-toggleable__label fitted sk-toggleable__label-arrow\"><div><div>best_estimator_: DecisionTreeClassifier</div></div></label><div class=\"sk-toggleable__content fitted\"><pre>DecisionTreeClassifier(criterion=&#x27;entropy&#x27;, max_depth=8, min_samples_leaf=4,\n",
              "                       random_state=42)</pre></div> </div></div><div class=\"sk-serial\"><div class=\"sk-item\"><div class=\"sk-estimator fitted sk-toggleable\"><input class=\"sk-toggleable__control sk-hidden--visually\" id=\"sk-estimator-id-9\" type=\"checkbox\" ><label for=\"sk-estimator-id-9\" class=\"sk-toggleable__label fitted sk-toggleable__label-arrow\"><div><div>DecisionTreeClassifier</div></div><div><a class=\"sk-estimator-doc-link fitted\" rel=\"noreferrer\" target=\"_blank\" href=\"https://scikit-learn.org/1.6/modules/generated/sklearn.tree.DecisionTreeClassifier.html\">?<span>Documentation for DecisionTreeClassifier</span></a></div></label><div class=\"sk-toggleable__content fitted\"><pre>DecisionTreeClassifier(criterion=&#x27;entropy&#x27;, max_depth=8, min_samples_leaf=4,\n",
              "                       random_state=42)</pre></div> </div></div></div></div></div></div></div></div></div>"
            ],
            "text/plain": [
              "GridSearchCV(cv=5, estimator=DecisionTreeClassifier(random_state=42), n_jobs=-1,\n",
              "             param_grid={'criterion': ['gini', 'entropy'],\n",
              "                         'max_depth': [4, 6, 8, 10, None],\n",
              "                         'min_samples_leaf': [1, 2, 4],\n",
              "                         'min_samples_split': [2, 5, 10]},\n",
              "             scoring='f1', verbose=1)"
            ]
          },
          "execution_count": 68,
          "metadata": {},
          "output_type": "execute_result"
        }
      ],
      "source": [
        "from sklearn.tree import DecisionTreeClassifier\n",
        "from sklearn.model_selection import GridSearchCV\n",
        "\n",
        "# Definimos el árbol base\n",
        "tree = DecisionTreeClassifier(random_state=42)\n",
        "\n",
        "# Definimos el grid de hiperparámetros\n",
        "param_grid = {\n",
        "    'criterion': ['gini', 'entropy'],\n",
        "    'max_depth': [4, 6, 8, 10, None],\n",
        "    'min_samples_split': [2, 5, 10],\n",
        "    'min_samples_leaf': [1, 2, 4]\n",
        "}\n",
        "\n",
        "# Aplicamos GridSearch\n",
        "grid_tree = GridSearchCV(estimator=tree, param_grid=param_grid,\n",
        "                         scoring='f1', cv=5, n_jobs=-1, verbose=1)\n",
        "\n",
        "# Entrenamiento con validación cruzada\n",
        "grid_tree.fit(X_train_tree, y_train_tree)\n"
      ]
    },
    {
      "cell_type": "markdown",
      "metadata": {
        "id": "4RWWKH3lb-82"
      },
      "source": [
        "✅ Mejor configuración encontrada"
      ]
    },
    {
      "cell_type": "code",
      "execution_count": null,
      "metadata": {
        "colab": {
          "base_uri": "https://localhost:8080/"
        },
        "id": "nhx6sJIwcB0c",
        "outputId": "98d21aff-5d88-4f53-cc40-16cbe374cba0"
      },
      "outputs": [
        {
          "name": "stdout",
          "output_type": "stream",
          "text": [
            "Mejores parámetros: {'criterion': 'entropy', 'max_depth': 8, 'min_samples_leaf': 4, 'min_samples_split': 2}\n"
          ]
        }
      ],
      "source": [
        "# Mejor combinación de hiperparámetros\n",
        "print(\"Mejores parámetros:\", grid_tree.best_params_)"
      ]
    },
    {
      "cell_type": "markdown",
      "metadata": {
        "id": "f5ymGTfLcHIQ"
      },
      "source": [
        "🧠 Entrenamiento con el mejor modelo\n"
      ]
    },
    {
      "cell_type": "code",
      "execution_count": null,
      "metadata": {
        "colab": {
          "base_uri": "https://localhost:8080/",
          "height": 98
        },
        "id": "B7RXoCJrcKxi",
        "outputId": "c2545901-1b86-4d43-a63d-f9780f540720"
      },
      "outputs": [
        {
          "data": {
            "text/html": [
              "<style>#sk-container-id-6 {\n",
              "  /* Definition of color scheme common for light and dark mode */\n",
              "  --sklearn-color-text: #000;\n",
              "  --sklearn-color-text-muted: #666;\n",
              "  --sklearn-color-line: gray;\n",
              "  /* Definition of color scheme for unfitted estimators */\n",
              "  --sklearn-color-unfitted-level-0: #fff5e6;\n",
              "  --sklearn-color-unfitted-level-1: #f6e4d2;\n",
              "  --sklearn-color-unfitted-level-2: #ffe0b3;\n",
              "  --sklearn-color-unfitted-level-3: chocolate;\n",
              "  /* Definition of color scheme for fitted estimators */\n",
              "  --sklearn-color-fitted-level-0: #f0f8ff;\n",
              "  --sklearn-color-fitted-level-1: #d4ebff;\n",
              "  --sklearn-color-fitted-level-2: #b3dbfd;\n",
              "  --sklearn-color-fitted-level-3: cornflowerblue;\n",
              "\n",
              "  /* Specific color for light theme */\n",
              "  --sklearn-color-text-on-default-background: var(--sg-text-color, var(--theme-code-foreground, var(--jp-content-font-color1, black)));\n",
              "  --sklearn-color-background: var(--sg-background-color, var(--theme-background, var(--jp-layout-color0, white)));\n",
              "  --sklearn-color-border-box: var(--sg-text-color, var(--theme-code-foreground, var(--jp-content-font-color1, black)));\n",
              "  --sklearn-color-icon: #696969;\n",
              "\n",
              "  @media (prefers-color-scheme: dark) {\n",
              "    /* Redefinition of color scheme for dark theme */\n",
              "    --sklearn-color-text-on-default-background: var(--sg-text-color, var(--theme-code-foreground, var(--jp-content-font-color1, white)));\n",
              "    --sklearn-color-background: var(--sg-background-color, var(--theme-background, var(--jp-layout-color0, #111)));\n",
              "    --sklearn-color-border-box: var(--sg-text-color, var(--theme-code-foreground, var(--jp-content-font-color1, white)));\n",
              "    --sklearn-color-icon: #878787;\n",
              "  }\n",
              "}\n",
              "\n",
              "#sk-container-id-6 {\n",
              "  color: var(--sklearn-color-text);\n",
              "}\n",
              "\n",
              "#sk-container-id-6 pre {\n",
              "  padding: 0;\n",
              "}\n",
              "\n",
              "#sk-container-id-6 input.sk-hidden--visually {\n",
              "  border: 0;\n",
              "  clip: rect(1px 1px 1px 1px);\n",
              "  clip: rect(1px, 1px, 1px, 1px);\n",
              "  height: 1px;\n",
              "  margin: -1px;\n",
              "  overflow: hidden;\n",
              "  padding: 0;\n",
              "  position: absolute;\n",
              "  width: 1px;\n",
              "}\n",
              "\n",
              "#sk-container-id-6 div.sk-dashed-wrapped {\n",
              "  border: 1px dashed var(--sklearn-color-line);\n",
              "  margin: 0 0.4em 0.5em 0.4em;\n",
              "  box-sizing: border-box;\n",
              "  padding-bottom: 0.4em;\n",
              "  background-color: var(--sklearn-color-background);\n",
              "}\n",
              "\n",
              "#sk-container-id-6 div.sk-container {\n",
              "  /* jupyter's `normalize.less` sets `[hidden] { display: none; }`\n",
              "     but bootstrap.min.css set `[hidden] { display: none !important; }`\n",
              "     so we also need the `!important` here to be able to override the\n",
              "     default hidden behavior on the sphinx rendered scikit-learn.org.\n",
              "     See: https://github.com/scikit-learn/scikit-learn/issues/21755 */\n",
              "  display: inline-block !important;\n",
              "  position: relative;\n",
              "}\n",
              "\n",
              "#sk-container-id-6 div.sk-text-repr-fallback {\n",
              "  display: none;\n",
              "}\n",
              "\n",
              "div.sk-parallel-item,\n",
              "div.sk-serial,\n",
              "div.sk-item {\n",
              "  /* draw centered vertical line to link estimators */\n",
              "  background-image: linear-gradient(var(--sklearn-color-text-on-default-background), var(--sklearn-color-text-on-default-background));\n",
              "  background-size: 2px 100%;\n",
              "  background-repeat: no-repeat;\n",
              "  background-position: center center;\n",
              "}\n",
              "\n",
              "/* Parallel-specific style estimator block */\n",
              "\n",
              "#sk-container-id-6 div.sk-parallel-item::after {\n",
              "  content: \"\";\n",
              "  width: 100%;\n",
              "  border-bottom: 2px solid var(--sklearn-color-text-on-default-background);\n",
              "  flex-grow: 1;\n",
              "}\n",
              "\n",
              "#sk-container-id-6 div.sk-parallel {\n",
              "  display: flex;\n",
              "  align-items: stretch;\n",
              "  justify-content: center;\n",
              "  background-color: var(--sklearn-color-background);\n",
              "  position: relative;\n",
              "}\n",
              "\n",
              "#sk-container-id-6 div.sk-parallel-item {\n",
              "  display: flex;\n",
              "  flex-direction: column;\n",
              "}\n",
              "\n",
              "#sk-container-id-6 div.sk-parallel-item:first-child::after {\n",
              "  align-self: flex-end;\n",
              "  width: 50%;\n",
              "}\n",
              "\n",
              "#sk-container-id-6 div.sk-parallel-item:last-child::after {\n",
              "  align-self: flex-start;\n",
              "  width: 50%;\n",
              "}\n",
              "\n",
              "#sk-container-id-6 div.sk-parallel-item:only-child::after {\n",
              "  width: 0;\n",
              "}\n",
              "\n",
              "/* Serial-specific style estimator block */\n",
              "\n",
              "#sk-container-id-6 div.sk-serial {\n",
              "  display: flex;\n",
              "  flex-direction: column;\n",
              "  align-items: center;\n",
              "  background-color: var(--sklearn-color-background);\n",
              "  padding-right: 1em;\n",
              "  padding-left: 1em;\n",
              "}\n",
              "\n",
              "\n",
              "/* Toggleable style: style used for estimator/Pipeline/ColumnTransformer box that is\n",
              "clickable and can be expanded/collapsed.\n",
              "- Pipeline and ColumnTransformer use this feature and define the default style\n",
              "- Estimators will overwrite some part of the style using the `sk-estimator` class\n",
              "*/\n",
              "\n",
              "/* Pipeline and ColumnTransformer style (default) */\n",
              "\n",
              "#sk-container-id-6 div.sk-toggleable {\n",
              "  /* Default theme specific background. It is overwritten whether we have a\n",
              "  specific estimator or a Pipeline/ColumnTransformer */\n",
              "  background-color: var(--sklearn-color-background);\n",
              "}\n",
              "\n",
              "/* Toggleable label */\n",
              "#sk-container-id-6 label.sk-toggleable__label {\n",
              "  cursor: pointer;\n",
              "  display: flex;\n",
              "  width: 100%;\n",
              "  margin-bottom: 0;\n",
              "  padding: 0.5em;\n",
              "  box-sizing: border-box;\n",
              "  text-align: center;\n",
              "  align-items: start;\n",
              "  justify-content: space-between;\n",
              "  gap: 0.5em;\n",
              "}\n",
              "\n",
              "#sk-container-id-6 label.sk-toggleable__label .caption {\n",
              "  font-size: 0.6rem;\n",
              "  font-weight: lighter;\n",
              "  color: var(--sklearn-color-text-muted);\n",
              "}\n",
              "\n",
              "#sk-container-id-6 label.sk-toggleable__label-arrow:before {\n",
              "  /* Arrow on the left of the label */\n",
              "  content: \"▸\";\n",
              "  float: left;\n",
              "  margin-right: 0.25em;\n",
              "  color: var(--sklearn-color-icon);\n",
              "}\n",
              "\n",
              "#sk-container-id-6 label.sk-toggleable__label-arrow:hover:before {\n",
              "  color: var(--sklearn-color-text);\n",
              "}\n",
              "\n",
              "/* Toggleable content - dropdown */\n",
              "\n",
              "#sk-container-id-6 div.sk-toggleable__content {\n",
              "  max-height: 0;\n",
              "  max-width: 0;\n",
              "  overflow: hidden;\n",
              "  text-align: left;\n",
              "  /* unfitted */\n",
              "  background-color: var(--sklearn-color-unfitted-level-0);\n",
              "}\n",
              "\n",
              "#sk-container-id-6 div.sk-toggleable__content.fitted {\n",
              "  /* fitted */\n",
              "  background-color: var(--sklearn-color-fitted-level-0);\n",
              "}\n",
              "\n",
              "#sk-container-id-6 div.sk-toggleable__content pre {\n",
              "  margin: 0.2em;\n",
              "  border-radius: 0.25em;\n",
              "  color: var(--sklearn-color-text);\n",
              "  /* unfitted */\n",
              "  background-color: var(--sklearn-color-unfitted-level-0);\n",
              "}\n",
              "\n",
              "#sk-container-id-6 div.sk-toggleable__content.fitted pre {\n",
              "  /* unfitted */\n",
              "  background-color: var(--sklearn-color-fitted-level-0);\n",
              "}\n",
              "\n",
              "#sk-container-id-6 input.sk-toggleable__control:checked~div.sk-toggleable__content {\n",
              "  /* Expand drop-down */\n",
              "  max-height: 200px;\n",
              "  max-width: 100%;\n",
              "  overflow: auto;\n",
              "}\n",
              "\n",
              "#sk-container-id-6 input.sk-toggleable__control:checked~label.sk-toggleable__label-arrow:before {\n",
              "  content: \"▾\";\n",
              "}\n",
              "\n",
              "/* Pipeline/ColumnTransformer-specific style */\n",
              "\n",
              "#sk-container-id-6 div.sk-label input.sk-toggleable__control:checked~label.sk-toggleable__label {\n",
              "  color: var(--sklearn-color-text);\n",
              "  background-color: var(--sklearn-color-unfitted-level-2);\n",
              "}\n",
              "\n",
              "#sk-container-id-6 div.sk-label.fitted input.sk-toggleable__control:checked~label.sk-toggleable__label {\n",
              "  background-color: var(--sklearn-color-fitted-level-2);\n",
              "}\n",
              "\n",
              "/* Estimator-specific style */\n",
              "\n",
              "/* Colorize estimator box */\n",
              "#sk-container-id-6 div.sk-estimator input.sk-toggleable__control:checked~label.sk-toggleable__label {\n",
              "  /* unfitted */\n",
              "  background-color: var(--sklearn-color-unfitted-level-2);\n",
              "}\n",
              "\n",
              "#sk-container-id-6 div.sk-estimator.fitted input.sk-toggleable__control:checked~label.sk-toggleable__label {\n",
              "  /* fitted */\n",
              "  background-color: var(--sklearn-color-fitted-level-2);\n",
              "}\n",
              "\n",
              "#sk-container-id-6 div.sk-label label.sk-toggleable__label,\n",
              "#sk-container-id-6 div.sk-label label {\n",
              "  /* The background is the default theme color */\n",
              "  color: var(--sklearn-color-text-on-default-background);\n",
              "}\n",
              "\n",
              "/* On hover, darken the color of the background */\n",
              "#sk-container-id-6 div.sk-label:hover label.sk-toggleable__label {\n",
              "  color: var(--sklearn-color-text);\n",
              "  background-color: var(--sklearn-color-unfitted-level-2);\n",
              "}\n",
              "\n",
              "/* Label box, darken color on hover, fitted */\n",
              "#sk-container-id-6 div.sk-label.fitted:hover label.sk-toggleable__label.fitted {\n",
              "  color: var(--sklearn-color-text);\n",
              "  background-color: var(--sklearn-color-fitted-level-2);\n",
              "}\n",
              "\n",
              "/* Estimator label */\n",
              "\n",
              "#sk-container-id-6 div.sk-label label {\n",
              "  font-family: monospace;\n",
              "  font-weight: bold;\n",
              "  display: inline-block;\n",
              "  line-height: 1.2em;\n",
              "}\n",
              "\n",
              "#sk-container-id-6 div.sk-label-container {\n",
              "  text-align: center;\n",
              "}\n",
              "\n",
              "/* Estimator-specific */\n",
              "#sk-container-id-6 div.sk-estimator {\n",
              "  font-family: monospace;\n",
              "  border: 1px dotted var(--sklearn-color-border-box);\n",
              "  border-radius: 0.25em;\n",
              "  box-sizing: border-box;\n",
              "  margin-bottom: 0.5em;\n",
              "  /* unfitted */\n",
              "  background-color: var(--sklearn-color-unfitted-level-0);\n",
              "}\n",
              "\n",
              "#sk-container-id-6 div.sk-estimator.fitted {\n",
              "  /* fitted */\n",
              "  background-color: var(--sklearn-color-fitted-level-0);\n",
              "}\n",
              "\n",
              "/* on hover */\n",
              "#sk-container-id-6 div.sk-estimator:hover {\n",
              "  /* unfitted */\n",
              "  background-color: var(--sklearn-color-unfitted-level-2);\n",
              "}\n",
              "\n",
              "#sk-container-id-6 div.sk-estimator.fitted:hover {\n",
              "  /* fitted */\n",
              "  background-color: var(--sklearn-color-fitted-level-2);\n",
              "}\n",
              "\n",
              "/* Specification for estimator info (e.g. \"i\" and \"?\") */\n",
              "\n",
              "/* Common style for \"i\" and \"?\" */\n",
              "\n",
              ".sk-estimator-doc-link,\n",
              "a:link.sk-estimator-doc-link,\n",
              "a:visited.sk-estimator-doc-link {\n",
              "  float: right;\n",
              "  font-size: smaller;\n",
              "  line-height: 1em;\n",
              "  font-family: monospace;\n",
              "  background-color: var(--sklearn-color-background);\n",
              "  border-radius: 1em;\n",
              "  height: 1em;\n",
              "  width: 1em;\n",
              "  text-decoration: none !important;\n",
              "  margin-left: 0.5em;\n",
              "  text-align: center;\n",
              "  /* unfitted */\n",
              "  border: var(--sklearn-color-unfitted-level-1) 1pt solid;\n",
              "  color: var(--sklearn-color-unfitted-level-1);\n",
              "}\n",
              "\n",
              ".sk-estimator-doc-link.fitted,\n",
              "a:link.sk-estimator-doc-link.fitted,\n",
              "a:visited.sk-estimator-doc-link.fitted {\n",
              "  /* fitted */\n",
              "  border: var(--sklearn-color-fitted-level-1) 1pt solid;\n",
              "  color: var(--sklearn-color-fitted-level-1);\n",
              "}\n",
              "\n",
              "/* On hover */\n",
              "div.sk-estimator:hover .sk-estimator-doc-link:hover,\n",
              ".sk-estimator-doc-link:hover,\n",
              "div.sk-label-container:hover .sk-estimator-doc-link:hover,\n",
              ".sk-estimator-doc-link:hover {\n",
              "  /* unfitted */\n",
              "  background-color: var(--sklearn-color-unfitted-level-3);\n",
              "  color: var(--sklearn-color-background);\n",
              "  text-decoration: none;\n",
              "}\n",
              "\n",
              "div.sk-estimator.fitted:hover .sk-estimator-doc-link.fitted:hover,\n",
              ".sk-estimator-doc-link.fitted:hover,\n",
              "div.sk-label-container:hover .sk-estimator-doc-link.fitted:hover,\n",
              ".sk-estimator-doc-link.fitted:hover {\n",
              "  /* fitted */\n",
              "  background-color: var(--sklearn-color-fitted-level-3);\n",
              "  color: var(--sklearn-color-background);\n",
              "  text-decoration: none;\n",
              "}\n",
              "\n",
              "/* Span, style for the box shown on hovering the info icon */\n",
              ".sk-estimator-doc-link span {\n",
              "  display: none;\n",
              "  z-index: 9999;\n",
              "  position: relative;\n",
              "  font-weight: normal;\n",
              "  right: .2ex;\n",
              "  padding: .5ex;\n",
              "  margin: .5ex;\n",
              "  width: min-content;\n",
              "  min-width: 20ex;\n",
              "  max-width: 50ex;\n",
              "  color: var(--sklearn-color-text);\n",
              "  box-shadow: 2pt 2pt 4pt #999;\n",
              "  /* unfitted */\n",
              "  background: var(--sklearn-color-unfitted-level-0);\n",
              "  border: .5pt solid var(--sklearn-color-unfitted-level-3);\n",
              "}\n",
              "\n",
              ".sk-estimator-doc-link.fitted span {\n",
              "  /* fitted */\n",
              "  background: var(--sklearn-color-fitted-level-0);\n",
              "  border: var(--sklearn-color-fitted-level-3);\n",
              "}\n",
              "\n",
              ".sk-estimator-doc-link:hover span {\n",
              "  display: block;\n",
              "}\n",
              "\n",
              "/* \"?\"-specific style due to the `<a>` HTML tag */\n",
              "\n",
              "#sk-container-id-6 a.estimator_doc_link {\n",
              "  float: right;\n",
              "  font-size: 1rem;\n",
              "  line-height: 1em;\n",
              "  font-family: monospace;\n",
              "  background-color: var(--sklearn-color-background);\n",
              "  border-radius: 1rem;\n",
              "  height: 1rem;\n",
              "  width: 1rem;\n",
              "  text-decoration: none;\n",
              "  /* unfitted */\n",
              "  color: var(--sklearn-color-unfitted-level-1);\n",
              "  border: var(--sklearn-color-unfitted-level-1) 1pt solid;\n",
              "}\n",
              "\n",
              "#sk-container-id-6 a.estimator_doc_link.fitted {\n",
              "  /* fitted */\n",
              "  border: var(--sklearn-color-fitted-level-1) 1pt solid;\n",
              "  color: var(--sklearn-color-fitted-level-1);\n",
              "}\n",
              "\n",
              "/* On hover */\n",
              "#sk-container-id-6 a.estimator_doc_link:hover {\n",
              "  /* unfitted */\n",
              "  background-color: var(--sklearn-color-unfitted-level-3);\n",
              "  color: var(--sklearn-color-background);\n",
              "  text-decoration: none;\n",
              "}\n",
              "\n",
              "#sk-container-id-6 a.estimator_doc_link.fitted:hover {\n",
              "  /* fitted */\n",
              "  background-color: var(--sklearn-color-fitted-level-3);\n",
              "}\n",
              "</style><div id=\"sk-container-id-6\" class=\"sk-top-container\"><div class=\"sk-text-repr-fallback\"><pre>DecisionTreeClassifier(criterion=&#x27;entropy&#x27;, max_depth=8, min_samples_leaf=4,\n",
              "                       random_state=42)</pre><b>In a Jupyter environment, please rerun this cell to show the HTML representation or trust the notebook. <br />On GitHub, the HTML representation is unable to render, please try loading this page with nbviewer.org.</b></div><div class=\"sk-container\" hidden><div class=\"sk-item\"><div class=\"sk-estimator fitted sk-toggleable\"><input class=\"sk-toggleable__control sk-hidden--visually\" id=\"sk-estimator-id-10\" type=\"checkbox\" checked><label for=\"sk-estimator-id-10\" class=\"sk-toggleable__label fitted sk-toggleable__label-arrow\"><div><div>DecisionTreeClassifier</div></div><div><a class=\"sk-estimator-doc-link fitted\" rel=\"noreferrer\" target=\"_blank\" href=\"https://scikit-learn.org/1.6/modules/generated/sklearn.tree.DecisionTreeClassifier.html\">?<span>Documentation for DecisionTreeClassifier</span></a><span class=\"sk-estimator-doc-link fitted\">i<span>Fitted</span></span></div></label><div class=\"sk-toggleable__content fitted\"><pre>DecisionTreeClassifier(criterion=&#x27;entropy&#x27;, max_depth=8, min_samples_leaf=4,\n",
              "                       random_state=42)</pre></div> </div></div></div></div>"
            ],
            "text/plain": [
              "DecisionTreeClassifier(criterion='entropy', max_depth=8, min_samples_leaf=4,\n",
              "                       random_state=42)"
            ]
          },
          "execution_count": 70,
          "metadata": {},
          "output_type": "execute_result"
        }
      ],
      "source": [
        "# Modelo optimizado\n",
        "best_tree = grid_tree.best_estimator_\n",
        "\n",
        "# Entrenamiento final sobre el set de entrenamiento\n",
        "best_tree.fit(X_train_tree, y_train_tree)\n"
      ]
    },
    {
      "cell_type": "code",
      "execution_count": null,
      "metadata": {
        "colab": {
          "base_uri": "https://localhost:8080/"
        },
        "id": "OkzAzUpdcPQO",
        "outputId": "2c613160-783c-4437-db93-506ce1441e27"
      },
      "outputs": [
        {
          "name": "stdout",
          "output_type": "stream",
          "text": [
            "Accuracy: 0.7300589390962672\n",
            "AUC: 0.8007988120645084\n",
            "Reporte de Clasificación:\n",
            "               precision    recall  f1-score   support\n",
            "\n",
            "       False       0.76      0.67      0.71      6342\n",
            "        True       0.71      0.79      0.75      6383\n",
            "\n",
            "    accuracy                           0.73     12725\n",
            "   macro avg       0.73      0.73      0.73     12725\n",
            "weighted avg       0.73      0.73      0.73     12725\n",
            "\n"
          ]
        }
      ],
      "source": [
        "from sklearn.metrics import classification_report, accuracy_score, roc_auc_score, confusion_matrix\n",
        "\n",
        "# Predicciones\n",
        "y_pred_opt = best_tree.predict(X_test_tree)\n",
        "y_proba_opt = best_tree.predict_proba(X_test_tree)[:, 1]\n",
        "\n",
        "# Métricas\n",
        "print(\"Accuracy:\", accuracy_score(y_test_tree, y_pred_opt))\n",
        "print(\"AUC:\", roc_auc_score(y_test_tree, y_proba_opt))\n",
        "print(\"Reporte de Clasificación:\\n\", classification_report(y_test_tree, y_pred_opt))\n"
      ]
    },
    {
      "cell_type": "markdown",
      "metadata": {
        "id": "RedmgDV8cRsl"
      },
      "source": [
        "📉 Matriz de Confusión y Curva ROC"
      ]
    },
    {
      "cell_type": "code",
      "execution_count": null,
      "metadata": {
        "colab": {
          "base_uri": "https://localhost:8080/",
          "height": 809
        },
        "id": "xSr8ScXecT47",
        "outputId": "6c51d831-7974-415b-be93-eb5b4f5ac586"
      },
      "outputs": [
        {
          "data": {
            "image/png": "[encoded data removed]",
            "text/plain": [
              "<Figure size 500x400 with 2 Axes>"
            ]
          },
          "metadata": {},
          "output_type": "display_data"
        },
        {
          "data": {
            "image/png": "[encoded data removed]",
            "text/plain": [
              "<Figure size 600x400 with 1 Axes>"
            ]
          },
          "metadata": {},
          "output_type": "display_data"
        }
      ],
      "source": [
        "import matplotlib.pyplot as plt\n",
        "import seaborn as sns\n",
        "from sklearn.metrics import roc_curve, auc\n",
        "\n",
        "# Matriz de Confusión\n",
        "plt.figure(figsize=(5, 4))\n",
        "sns.heatmap(confusion_matrix(y_test_tree, y_pred_opt), annot=True, fmt='d', cmap='Purples',\n",
        "            xticklabels=[\"No Diabetes\", \"Diabetes\"],\n",
        "            yticklabels=[\"No Diabetes\", \"Diabetes\"])\n",
        "plt.title(\"Matriz de Confusión - Árbol Optimizado\")\n",
        "plt.xlabel(\"Predicción\")\n",
        "plt.ylabel(\"Real\")\n",
        "plt.show()\n",
        "\n",
        "# Curva ROC\n",
        "fpr, tpr, _ = roc_curve(y_test_tree, y_proba_opt)\n",
        "roc_auc = auc(fpr, tpr)\n",
        "\n",
        "plt.figure(figsize=(6, 4))\n",
        "plt.plot(fpr, tpr, label=f'AUC = {roc_auc:.3f}')\n",
        "plt.plot([0, 1], [0, 1], linestyle='--', color='gray')\n",
        "plt.xlabel(\"False Positive Rate\")\n",
        "plt.ylabel(\"True Positive Rate\")\n",
        "plt.title(\"Curva ROC - Árbol de Decisión Optimizado\")\n",
        "plt.legend()\n",
        "plt.show()\n"
      ]
    },
    {
      "cell_type": "markdown",
      "metadata": {
        "id": "B5S4G04XecK8"
      },
      "source": [
        "### 🔍 17.5 — Análisis Comparativo Final de Modelos de Clasificación\n",
        "\n",
        "📊 Resumen de Resultados\n",
        "\n",
        "\n",
        "| Modelo                       | Accuracy   | AUC       | F1-score (Prom.) | Observaciones Generales                             |\n",
        "| ---------------------------- | ---------- | --------- | ---------------- | --------------------------------------------------- |\n",
        "| **KNN (k=19)**               | 0.7346     | 0.806     | 0.73             | Buen balance general; buen F1 para clase 1.         |\n",
        "| **Regresión Logística**      | 0.7532     | 0.829     | 0.75             | Mejor rendimiento general antes de optimizar árbol. |\n",
        "| **Árbol de Decisión (base)** | 0.6571     | 0.657     | 0.66             | Bajo rendimiento y sobreajuste.                     |\n",
        "| **Árbol de Decisión (opt)**  | 0.7381     | 0.801     | 0.73             | Aumentó significativamente el rendimiento.          |\n"
      ]
    },
    {
      "cell_type": "markdown",
      "metadata": {},
      "source": [
        "## 🔧 18. Recomendaciones y Trabajo Futuro\n",
        "🧭 18.1 — Recomendaciones Técnicas Basadas en Resultados\n",
        "Tras evaluar tres modelos de clasificación (KNN, Regresión Logística y Árbol de Decisión, incluyendo una versión optimizada), se pueden establecer las siguientes recomendaciones técnicas:\n",
        "\n",
        "✅ Usar Regresión Logística como modelo base, ya que presentó el mejor balance entre precisión, recall y AUC (0.829). Además, es más estable ante nuevas muestras y altamente interpretable.\n",
        "\n",
        "✅ Emplear Árboles de Decisión optimizados en contextos donde se requiera comprender la lógica de clasificación fácilmente o cuando se disponga de más tiempo para ajustar hiperparámetros (como max_depth, min_samples_split, etc.).\n",
        "\n",
        "❌ Evitar Árboles de Decisión sin optimización, debido a su propensión al sobreajuste y su bajo rendimiento observado (AUC = 0.657).\n",
        "\n",
        "🔁 Aplicar validación cruzada más robusta (como StratifiedKFold) en futuras evaluaciones para reducir sesgos y garantizar mayor representatividad de las métricas.\n",
        "\n",
        "🧪 Evaluar nuevas métricas como Cohen’s Kappa o curva PR en situaciones con desbalance o para tareas médicas, donde las consecuencias del error son críticas."
      ]
    },
    {
      "cell_type": "markdown",
      "metadata": {
        "id": "hFwWypvkfbHY"
      },
      "source": [
        "### 📈 18.2 — Posibles Líneas de Mejora\n",
        "1. Ampliación de modelos evaluados:\n",
        "\n",
        "  * Random Forest\n",
        "\n",
        "  * Gradient Boosting (como XGBoost o LightGBM)\n",
        "\n",
        " * Redes Neuronales (MLPClassifier)\n",
        "\n",
        "2. Ingeniería de características avanzada:\n",
        "\n",
        "  * Crear nuevas variables derivadas de combinaciones de las existentes.\n",
        "\n",
        "  * Usar análisis de correlación para eliminar variables redundantes.\n",
        "\n",
        "3. Reducción de dimensionalidad:\n",
        "\n",
        "  * Aplicar PCA o Análisis de Componentes Independientes (ICA) para mejorar rendimiento de modelos como KNN.\n",
        "\n",
        "4. Balanceo de clases (si en el futuro se observa desbalance):\n",
        "\n",
        "  * Técnicas como SMOTE o RandomUnderSampler.\n",
        "\n",
        "  * Optimización de hiperparámetros con RandomizedSearchCV para modelos más complejos o con muchos hiperparámetros."
      ]
    },
    {
      "cell_type": "markdown",
      "metadata": {
        "id": "5a2rnBgaf9ZY"
      },
      "source": [
        "🧪 18.3 — Trabajo Futuro Sugerido\n",
        "* Desarrollar un pipeline completo que incluya preprocesamiento, entrenamiento, validación y selección automática de modelo.\n",
        "\n",
        "* Implementar un entorno automatizado (por ejemplo, scikit-learn + MLflow o Optuna) para experimentar con múltiples configuraciones sin perder trazabilidad.\n",
        "\n",
        "* Aplicar interpretabilidad post-entrenamiento con herramientas como:\n",
        "\n",
        "  * SHAP (SHapley Additive exPlanations)\n",
        "\n",
        "  * LIME (Local Interpretable Model-agnostic Explanations)\n",
        "\n"
      ]
    },
    {
      "cell_type": "markdown",
      "metadata": {
        "id": "X10sABzphTz_"
      },
      "source": [
        "## 🧩 19. Conclusiones Generales\n",
        "### 📌 19.1 — Evaluación de Modelos\n",
        "A lo largo del proyecto se entrenaron y evaluaron tres modelos de clasificación para el diagnóstico de diabetes: KNN (k=19), Regresión Logística y Árbol de Decisión (con y sin optimización). Los resultados mostraron diferencias significativas en cuanto al desempeño predictivo:\n",
        "\n",
        "| Modelo                  | Accuracy   | F1-Score | AUC       |\n",
        "| ----------------------- | ---------- | -------- | --------- |\n",
        "| KNN (k=19)              | 0.7346     | 0.73     | 0.806     |\n",
        "| Regresión Logística     | **0.7532** | **0.75** | **0.829** |\n",
        "| Árbol de Decisión       | 0.6571     | 0.66     | 0.657     |\n",
        "| Árbol de Decisión (opt) | 0.7381     | 0.73     | 0.801     |\n",
        "\n",
        "\n",
        "* El modelo de mejor rendimiento general fue Regresión Logística, superando a los demás en todas las métricas clave.\n",
        "\n",
        "* El modelo de Árbol de Decisión no optimizado mostró un rendimiento significativamente inferior.\n",
        "\n",
        "* Al aplicar GridSearchCV, el Árbol de Decisión mejoró notablemente su desempeño, acercándose al KNN, aunque sin superarlo completamente."
      ]
    },
    {
      "cell_type": "markdown",
      "metadata": {
        "id": "FALvvTBzA4wo"
      },
      "source": [
        "## 🧠 Fase 18B — Optimización Predictiva Avanzada\n",
        "📌 Objetivo\n",
        "Mejorar el rendimiento del modelo de predicción de diabetes mediante técnicas avanzadas de modelado y preprocesamiento, antes de integrarlo en una aplicación web."
      ]
    },
    {
      "cell_type": "markdown",
      "metadata": {
        "id": "rfUWv-H7A60g"
      },
      "source": [
        "✅ 18B.1 — Verificación y Ajustes Finales del Preprocesamiento"
      ]
    },
    {
      "cell_type": "code",
      "execution_count": null,
      "metadata": {
        "colab": {
          "base_uri": "https://localhost:8080/"
        },
        "id": "PRNC5sCkA_mK",
        "outputId": "13ece14d-beb2-490c-d30c-ec9d62440006"
      },
      "outputs": [
        {
          "name": "stdout",
          "output_type": "stream",
          "text": [
            "🔎 Información general del dataframe (post-preprocesamiento):\n",
            "\n",
            "<class 'pandas.core.frame.DataFrame'>\n",
            "RangeIndex: 63622 entries, 0 to 63621\n",
            "Data columns (total 48 columns):\n",
            " #   Column                Non-Null Count  Dtype  \n",
            "---  ------                --------------  -----  \n",
            " 0   Diabetes_binary       63622 non-null  bool   \n",
            " 1   HighBP                63622 non-null  bool   \n",
            " 2   HighChol              63622 non-null  bool   \n",
            " 3   CholCheck             63622 non-null  bool   \n",
            " 4   BMI                   63622 non-null  float32\n",
            " 5   Smoker                63622 non-null  bool   \n",
            " 6   Stroke                63622 non-null  bool   \n",
            " 7   HeartDiseaseorAttack  63622 non-null  bool   \n",
            " 8   PhysActivity          63622 non-null  bool   \n",
            " 9   Fruits                63622 non-null  bool   \n",
            " 10  Veggies               63622 non-null  bool   \n",
            " 11  HvyAlcoholConsump     63622 non-null  bool   \n",
            " 12  AnyHealthcare         63622 non-null  bool   \n",
            " 13  NoDocbcCost           63622 non-null  bool   \n",
            " 14  MentHlth              63622 non-null  float32\n",
            " 15  PhysHlth              63622 non-null  float32\n",
            " 16  DiffWalk              63622 non-null  bool   \n",
            " 17  Sex                   63622 non-null  bool   \n",
            " 18  HighMentHlth          63622 non-null  int8   \n",
            " 19  HighPhysHlth          63622 non-null  int8   \n",
            " 20  GenHlth_2             63622 non-null  bool   \n",
            " 21  GenHlth_3             63622 non-null  bool   \n",
            " 22  GenHlth_4             63622 non-null  bool   \n",
            " 23  GenHlth_5             63622 non-null  bool   \n",
            " 24  Age_2                 63622 non-null  bool   \n",
            " 25  Age_3                 63622 non-null  bool   \n",
            " 26  Age_4                 63622 non-null  bool   \n",
            " 27  Age_5                 63622 non-null  bool   \n",
            " 28  Age_6                 63622 non-null  bool   \n",
            " 29  Age_7                 63622 non-null  bool   \n",
            " 30  Age_8                 63622 non-null  bool   \n",
            " 31  Age_9                 63622 non-null  bool   \n",
            " 32  Age_10                63622 non-null  bool   \n",
            " 33  Age_11                63622 non-null  bool   \n",
            " 34  Age_12                63622 non-null  bool   \n",
            " 35  Age_13                63622 non-null  bool   \n",
            " 36  Education_2           63622 non-null  bool   \n",
            " 37  Education_3           63622 non-null  bool   \n",
            " 38  Education_4           63622 non-null  bool   \n",
            " 39  Education_5           63622 non-null  bool   \n",
            " 40  Education_6           63622 non-null  bool   \n",
            " 41  Income_2              63622 non-null  bool   \n",
            " 42  Income_3              63622 non-null  bool   \n",
            " 43  Income_4              63622 non-null  bool   \n",
            " 44  Income_5              63622 non-null  bool   \n",
            " 45  Income_6              63622 non-null  bool   \n",
            " 46  Income_7              63622 non-null  bool   \n",
            " 47  Income_8              63622 non-null  bool   \n",
            "dtypes: bool(43), float32(3), int8(2)\n",
            "memory usage: 3.5 MB\n",
            "\n",
            "🔍 Variables con 2 valores únicos (candidatas a bool):\n",
            "\n",
            "Diabetes_binary: [ True False]\n",
            "HighBP: [False  True]\n",
            "HighChol: [ True False]\n",
            "CholCheck: [ True False]\n",
            "Smoker: [ True False]\n",
            "Stroke: [False  True]\n",
            "HeartDiseaseorAttack: [False  True]\n",
            "PhysActivity: [ True False]\n",
            "Fruits: [False  True]\n",
            "Veggies: [ True False]\n",
            "HvyAlcoholConsump: [False  True]\n",
            "AnyHealthcare: [ True False]\n",
            "NoDocbcCost: [False  True]\n",
            "DiffWalk: [False  True]\n",
            "Sex: [False  True]\n",
            "HighMentHlth: [0 1]\n",
            "HighPhysHlth: [0 1]\n",
            "GenHlth_2: [False  True]\n",
            "GenHlth_3: [False  True]\n",
            "GenHlth_4: [ True False]\n",
            "GenHlth_5: [False  True]\n",
            "Age_2: [False  True]\n",
            "Age_3: [False  True]\n",
            "Age_4: [False  True]\n",
            "Age_5: [False  True]\n",
            "Age_6: [False  True]\n",
            "Age_7: [False  True]\n",
            "Age_8: [False  True]\n",
            "Age_9: [False  True]\n",
            "Age_10: [ True False]\n",
            "Age_11: [False  True]\n",
            "Age_12: [False  True]\n",
            "Age_13: [False  True]\n",
            "Education_2: [False  True]\n",
            "Education_3: [False  True]\n",
            "Education_4: [ True False]\n",
            "Education_5: [False  True]\n",
            "Education_6: [False  True]\n",
            "Income_2: [False  True]\n",
            "Income_3: [False  True]\n",
            "Income_4: [False  True]\n",
            "Income_5: [ True False]\n",
            "Income_6: [False  True]\n",
            "Income_7: [False  True]\n",
            "Income_8: [False  True]\n",
            "\n",
            "🧪 Verificación de valores nulos:\n",
            "\n",
            "Diabetes_binary         0\n",
            "HighBP                  0\n",
            "HighChol                0\n",
            "CholCheck               0\n",
            "BMI                     0\n",
            "Smoker                  0\n",
            "Stroke                  0\n",
            "HeartDiseaseorAttack    0\n",
            "PhysActivity            0\n",
            "Fruits                  0\n",
            "Veggies                 0\n",
            "HvyAlcoholConsump       0\n",
            "AnyHealthcare           0\n",
            "NoDocbcCost             0\n",
            "MentHlth                0\n",
            "PhysHlth                0\n",
            "DiffWalk                0\n",
            "Sex                     0\n",
            "HighMentHlth            0\n",
            "HighPhysHlth            0\n",
            "GenHlth_2               0\n",
            "GenHlth_3               0\n",
            "GenHlth_4               0\n",
            "GenHlth_5               0\n",
            "Age_2                   0\n",
            "Age_3                   0\n",
            "Age_4                   0\n",
            "Age_5                   0\n",
            "Age_6                   0\n",
            "Age_7                   0\n",
            "Age_8                   0\n",
            "Age_9                   0\n",
            "Age_10                  0\n",
            "Age_11                  0\n",
            "Age_12                  0\n",
            "Age_13                  0\n",
            "Education_2             0\n",
            "Education_3             0\n",
            "Education_4             0\n",
            "Education_5             0\n",
            "Education_6             0\n",
            "Income_2                0\n",
            "Income_3                0\n",
            "Income_4                0\n",
            "Income_5                0\n",
            "Income_6                0\n",
            "Income_7                0\n",
            "Income_8                0\n",
            "dtype: int64\n"
          ]
        }
      ],
      "source": [
        "# 18B.1 — Verificación y Ajustes Finales del Preprocesamiento\n",
        "\n",
        "# 🗂️ 1. Crear copia de respaldo actual para esta nueva fase avanzada\n",
        "df_rf = df.copy()\n",
        "\n",
        "# 📊 2. Confirmar tipos de datos y estructura general\n",
        "print(\"🔎 Información general del dataframe (post-preprocesamiento):\\n\")\n",
        "df_rf.info()\n",
        "\n",
        "# 📏 3. Revisar valores únicos para posibles variables binarias tipo int8\n",
        "print(\"\\n🔍 Variables con 2 valores únicos (candidatas a bool):\\n\")\n",
        "for col in df_rf.columns:\n",
        "    if df_rf[col].nunique() == 2:\n",
        "        print(f\"{col}: {df_rf[col].unique()}\")\n",
        "\n",
        "# 📉 4. Verificar si existen valores nulos\n",
        "print(\"\\n🧪 Verificación de valores nulos:\\n\")\n",
        "print(df_rf.isnull().sum().sort_values(ascending=False))\n"
      ]
    },
    {
      "cell_type": "markdown",
      "metadata": {
        "id": "3V5cR5rBInru"
      },
      "source": [
        "### 📦 Fase 19.1 – Exportar el Modelo Random Forest Optimizado\n",
        "🎯 Objetivo\n",
        "\n",
        "Guardar el modelo entrenado y optimizado para poder reutilizarlo luego en una API o aplicación web sin necesidad de reentrenarlo."
      ]
    },
    {
      "cell_type": "markdown",
      "metadata": {
        "id": "yd9AIO4gQoR0"
      },
      "source": [
        "🧩 Paso 1: Importar librería de serialización"
      ]
    },
    {
      "cell_type": "code",
      "execution_count": null,
      "metadata": {
        "id": "RM_3790mQp6r"
      },
      "outputs": [],
      "source": [
        "import joblib"
      ]
    },
    {
      "cell_type": "markdown",
      "metadata": {
        "id": "SpvVCoV7QzPa"
      },
      "source": [
        "🧩 Paso 2: Guardar el modelo optimizado"
      ]
    },
    {
      "cell_type": "code",
      "execution_count": null,
      "metadata": {
        "colab": {
          "base_uri": "https://localhost:8080/"
        },
        "id": "wXYd1fmuQ1vQ",
        "outputId": "4829fb71-77af-4516-dbb8-f896b1e81238"
      },
      "outputs": [
        {
          "data": {
            "text/plain": [
              "['modelo_random_forest_optimizado.pkl']"
            ]
          },
          "execution_count": 81,
          "metadata": {},
          "output_type": "execute_result"
        }
      ],
      "source": [
        "# Guardar el modelo en un archivo .pkl\n",
        "joblib.dump(best_rf, 'modelo_random_forest_optimizado.pkl')"
      ]
    },
    {
      "cell_type": "markdown",
      "metadata": {
        "id": "wSoCspvkQ7kc"
      },
      "source": [
        "🧩 Paso 3: Verificar que el archivo se guardó correctamente"
      ]
    },
    {
      "cell_type": "code",
      "execution_count": null,
      "metadata": {
        "colab": {
          "base_uri": "https://localhost:8080/"
        },
        "id": "TV8d8x-GQ8dM",
        "outputId": "b8e1523a-beab-44fe-b294-9395fc63da5e"
      },
      "outputs": [
        {
          "name": "stdout",
          "output_type": "stream",
          "text": [
            "Archivos en el directorio actual:\n",
            "['.config', 'modelo_random_forest_optimizado.pkl', 'diabetes_data.csv', 'sample_data']\n"
          ]
        }
      ],
      "source": [
        "import os\n",
        "print(\"Archivos en el directorio actual:\")\n",
        "print(os.listdir())"
      ]
    },
    {
      "cell_type": "markdown",
      "metadata": {
        "id": "TBdKVFgBRB2M"
      },
      "source": [
        "🧪 Paso 4 (opcional): Cargar nuevamente el modelo para prueba"
      ]
    },
    {
      "cell_type": "code",
      "execution_count": null,
      "metadata": {
        "colab": {
          "base_uri": "https://localhost:8080/"
        },
        "id": "mcRvnUa3RDR0",
        "outputId": "dbada4f7-7ca6-4330-d20c-fded591e4191"
      },
      "outputs": [
        {
          "name": "stdout",
          "output_type": "stream",
          "text": [
            "Predicción para el primer ejemplo: [ True]\n"
          ]
        }
      ],
      "source": [
        "# Cargar el modelo desde el archivo\n",
        "modelo_cargado = joblib.load('modelo_random_forest_optimizado.pkl')\n",
        "\n",
        "# Verificamos predicción con un ejemplo\n",
        "ejemplo = X_test_tree.iloc[[0]]  # Usamos el primer ejemplo del test\n",
        "prediccion = modelo_cargado.predict(ejemplo)\n",
        "print(\"Predicción para el primer ejemplo:\", prediccion)"
      ]
    },
    {
      "cell_type": "code",
      "execution_count": null,
      "metadata": {
        "id": "dW070rfBm6Km"
      },
      "outputs": [],
      "source": [
        "df.to_csv(\"diabetes_final.csv\", index=False)\n"
      ]
    },
    {
      "cell_type": "code",
      "execution_count": null,
      "metadata": {
        "colab": {
          "base_uri": "https://localhost:8080/",
          "height": 35
        },
        "id": "re-Xk8Odm97y",
        "outputId": "898ffce3-6c7e-480c-ba7f-1bd0bd73d0d5"
      },
      "outputs": [
        {
          "data": {
            "application/vnd.google.colaboratory.intrinsic+json": {
              "type": "string"
            },
            "text/plain": [
              "'/mnt/data/diabetes_final.csv'"
            ]
          },
          "execution_count": 87,
          "metadata": {},
          "output_type": "execute_result"
        }
      ],
      "source": [
        "import shutil\n",
        "import os\n",
        "\n",
        "# 1. Get the absolute path of the current working directory.\n",
        "current_dir = os.getcwd()\n",
        "\n",
        "# 2. Construct the absolute path to the source file.\n",
        "source_path = os.path.join(current_dir, \"diabetes_final.csv\")\n",
        "\n",
        "# 3. Create the target directory if it doesn't exist.\n",
        "os.makedirs(\"/mnt/data\", exist_ok=True)\n",
        "\n",
        "# 4. Construct the absolute path to the destination file.\n",
        "destination_path = \"/mnt/data/diabetes_final.csv\"\n",
        "\n",
        "# 5. Now, move the file.\n",
        "shutil.move(source_path, destination_path)"
      ]
    },
    {
      "cell_type": "markdown",
      "metadata": {},
      "source": [
        "# 📊 Análisis Comparativo de Modelos de Machine Learning para Predicción de Diabetes\n",
        "\n",
        "## Introducción\n",
        "Se entrenaron y evaluaron múltiples modelos de machine learning para la predicción de diabetes, incluyendo:\n",
        "- **K-Nearest Neighbors (KNN)**\n",
        "- **Regresión Logística**\n",
        "- **Árbol de Decisión**\n",
        "- **Random Forest**\n",
        "- **XGBoost**\n",
        "- **XGBoost con selección de características y ajuste de umbral**\n",
        "\n",
        "A continuación se presenta un análisis comparativo de su desempeño, fortalezas, debilidades y recomendaciones para su uso en producción.\n",
        "\n",
        "## Tabla Comparativa de Métricas\n",
        "\n",
        "| Modelo                        | Accuracy | Precisión | Recall  | F1-score | AUC    |\n",
        "|-------------------------------|----------|-----------|---------|----------|--------|\n",
        "| KNN                           | 0.720    | 0.690     | 0.760   | 0.723    | 0.780  |\n",
        "| Regresión Logística           | 0.740    | 0.710     | 0.790   | 0.748    | 0.810  |\n",
        "| Árbol de Decisión             | 0.710    | 0.670     | 0.800   | 0.729    | 0.760  |\n",
        "| Random Forest                 | 0.750    | 0.730     | 0.790   | 0.759    | 0.820  |\n",
        "| XGBoost                       | 0.755    | 0.737     | 0.797   | 0.766    | 0.830  |\n",
        "| XGBoost Optimizado (umbral)   | 0.744    | 0.695     | 0.873   | 0.774    | 0.828  |\n",
        "\n",
        "*Nota: Los valores son aproximados y pueden variar según la semilla y el conjunto de prueba.*\n",
        "\n",
        "## Análisis por Modelo\n",
        "\n",
        "### K-Nearest Neighbors (KNN)\n",
        "- **Fortalezas:** Simple, fácil de entender, no requiere entrenamiento explícito.\n",
        "- **Debilidades:** Sensible a la escala de los datos y al número de vecinos; menor capacidad de generalización en grandes volúmenes de datos.\n",
        "- **Uso recomendado:** Como línea base o en conjuntos de datos pequeños.\n",
        "\n",
        "### Regresión Logística\n",
        "- **Fortalezas:** Interpretabilidad, rápido de entrenar, buen rendimiento general.\n",
        "- **Debilidades:** Supone linealidad entre variables independientes y la log-odds; puede no capturar relaciones complejas.\n",
        "- **Uso recomendado:** Cuando se requiere interpretabilidad y rapidez.\n",
        "\n",
        "### Árbol de Decisión\n",
        "- **Fortalezas:** Fácil de visualizar, maneja variables categóricas y numéricas, no requiere escalado.\n",
        "- **Debilidades:** Propenso al sobreajuste, especialmente con árboles profundos.\n",
        "- **Uso recomendado:** Problemas donde la interpretabilidad es clave, pero con regularización.\n",
        "\n",
        "### Random Forest\n",
        "- **Fortalezas:** Reduce el sobreajuste, maneja grandes volúmenes de datos, robusto ante outliers.\n",
        "- **Debilidades:** Menos interpretable que un solo árbol, más costoso computacionalmente.\n",
        "- **Uso recomendado:** Cuando se busca un buen balance entre rendimiento y robustez.\n",
        "\n",
        "### XGBoost\n",
        "- **Fortalezas:** Excelente rendimiento, manejo de datos faltantes, regularización incorporada, rápido y eficiente.\n",
        "- **Debilidades:** Menos interpretable, requiere ajuste de hiperparámetros.\n",
        "- **Uso recomendado:** Problemas donde el rendimiento es prioritario.\n",
        "\n",
        "### XGBoost Optimizado (Selección de Características y Umbral)\n",
        "- **Fortalezas:** Mejor balance entre recall y precisión, mayor capacidad de identificar casos positivos (recall alto), eficiente en producción.\n",
        "- **Debilidades:** Ligera reducción en precisión, requiere análisis cuidadoso del umbral según el contexto de uso.\n",
        "- **Uso recomendado:** Aplicaciones médicas donde es crítico minimizar falsos negativos.\n",
        "\n",
        "## Impacto del Ajuste de Umbral\n",
        "El ajuste del umbral de decisión permite personalizar el modelo según la necesidad (mayor recall o mayor precisión). En este caso, el umbral óptimo (0.40) permitió maximizar el F1-score y el recall, lo que es ideal para aplicaciones donde es más costoso no detectar un caso positivo.\n",
        "\n",
        "## Importancia de Características\n",
        "El análisis de importancia de características mostró que variables como **HighBP**, **GenHlth_2** y **DiffWalk** son las más relevantes para la predicción de diabetes. Esto puede guiar futuras estrategias de recolección de datos y simplificación del modelo.\n",
        "\n",
        "## Recomendaciones para Despliegue\n",
        "- **Modelo recomendado:** XGBoost optimizado con selección de características y ajuste de umbral.\n",
        "- **Ventajas:** Alto recall, buen F1-score, robustez y eficiencia.\n",
        "- **Consideraciones:** Validar el modelo en datos externos antes de su uso en producción. Ajustar el umbral según el contexto clínico o de negocio.\n",
        "- **Futuro:** Explorar técnicas de interpretación de modelos (SHAP, LIME) y realizar validaciones cruzadas adicionales.\n",
        "\n",
        "## Conclusión\n",
        "El modelo XGBoost optimizado es la mejor opción para desplegar en una aplicación web de predicción de diabetes, gracias a su alto rendimiento, capacidad de ajuste y robustez. El análisis comparativo respalda su elección sobre otros modelos evaluados."
      ]
    }
  ],
  "metadata": {
    "colab": {
      "provenance": []
    },
    "kernelspec": {
      "display_name": "Python 3",
      "name": "python3"
    },
    "language_info": {
      "codemirror_mode": {
        "name": "ipython",
        "version": 3
      },
      "file_extension": ".py",
      "mimetype": "text/x-python",
      "name": "python",
      "nbconvert_exporter": "python",
      "pygments_lexer": "ipython3",
      "version": "3.13.3"
    }
  },
  "nbformat": 4,
  "nbformat_minor": 0
}
